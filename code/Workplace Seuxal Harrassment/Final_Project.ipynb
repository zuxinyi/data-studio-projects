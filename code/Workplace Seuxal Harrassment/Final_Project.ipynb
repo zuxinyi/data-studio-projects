{
 "cells": [
  {
   "cell_type": "markdown",
   "metadata": {},
   "source": [
    "## Workplace Sexual Harrassment\n",
    "#### By Xinyi Zhu and Yunji Wu\n",
    "This statistics project takes the dataset of workplace sexual harrassment reports in the year of 2016, broken down by major industries. By studying the information in the given dataframes, our questions are raised as to whether or not factors like average hourly earnings and women workface have played big roles in the ocurrence of sexual harrassment at workplace."
   ]
  },
  {
   "cell_type": "markdown",
   "metadata": {},
   "source": [
    "The first csv file we imported provides the economic data we need for each industry. The original sheet contains much more columns but here we only need those that are pertinent to the topics of this project, which are average hourly earnings, female workforce and total workforce."
   ]
  },
  {
   "cell_type": "code",
   "execution_count": 1,
   "metadata": {},
   "outputs": [
    {
     "data": {
      "text/html": [
       "<div>\n",
       "<style>\n",
       "    .dataframe thead tr:only-child th {\n",
       "        text-align: right;\n",
       "    }\n",
       "\n",
       "    .dataframe thead th {\n",
       "        text-align: left;\n",
       "    }\n",
       "\n",
       "    .dataframe tbody tr th {\n",
       "        vertical-align: top;\n",
       "    }\n",
       "</style>\n",
       "<table border=\"1\" class=\"dataframe\">\n",
       "  <thead>\n",
       "    <tr style=\"text-align: right;\">\n",
       "      <th></th>\n",
       "      <th>industry</th>\n",
       "      <th>avg_hrly_earnings</th>\n",
       "      <th>women_percentage</th>\n",
       "      <th>total_employment</th>\n",
       "    </tr>\n",
       "  </thead>\n",
       "  <tbody>\n",
       "    <tr>\n",
       "      <th>0</th>\n",
       "      <td>Accommodation and Food Services</td>\n",
       "      <td>14.10</td>\n",
       "      <td>0.527273</td>\n",
       "      <td>13449.20</td>\n",
       "    </tr>\n",
       "    <tr>\n",
       "      <th>1</th>\n",
       "      <td>Retail Trade</td>\n",
       "      <td>15.44</td>\n",
       "      <td>0.406632</td>\n",
       "      <td>15982.52</td>\n",
       "    </tr>\n",
       "    <tr>\n",
       "      <th>2</th>\n",
       "      <td>Other Services (except Public Administration)</td>\n",
       "      <td>19.41</td>\n",
       "      <td>0.525578</td>\n",
       "      <td>4078.80</td>\n",
       "    </tr>\n",
       "    <tr>\n",
       "      <th>3</th>\n",
       "      <td>Wholesale Trade</td>\n",
       "      <td>29.73</td>\n",
       "      <td>0.296180</td>\n",
       "      <td>5877.50</td>\n",
       "    </tr>\n",
       "    <tr>\n",
       "      <th>4</th>\n",
       "      <td>Manufacturing</td>\n",
       "      <td>24.39</td>\n",
       "      <td>0.274534</td>\n",
       "      <td>12337.52</td>\n",
       "    </tr>\n",
       "  </tbody>\n",
       "</table>\n",
       "</div>"
      ],
      "text/plain": [
       "                                        industry  avg_hrly_earnings  \\\n",
       "0                Accommodation and Food Services              14.10   \n",
       "1                                   Retail Trade              15.44   \n",
       "2  Other Services (except Public Administration)              19.41   \n",
       "3                                Wholesale Trade              29.73   \n",
       "4                                  Manufacturing              24.39   \n",
       "\n",
       "   women_percentage  total_employment  \n",
       "0          0.527273          13449.20  \n",
       "1          0.406632          15982.52  \n",
       "2          0.525578           4078.80  \n",
       "3          0.296180           5877.50  \n",
       "4          0.274534          12337.52  "
      ]
     },
     "execution_count": 1,
     "metadata": {},
     "output_type": "execute_result"
    }
   ],
   "source": [
    "import pandas as pd\n",
    "data1 = pd.read_csv('d3_information_naics_bls_info.csv')\n",
    "data1 = data1[['industry','avg_hrly_earnings','women_percentage','total_employment']]\n",
    "data1.head()"
   ]
  },
  {
   "cell_type": "markdown",
   "metadata": {},
   "source": [
    "The second csv file we imported provides the claim data we need for each industry."
   ]
  },
  {
   "cell_type": "code",
   "execution_count": 2,
   "metadata": {},
   "outputs": [
    {
     "data": {
      "text/html": [
       "<div>\n",
       "<style>\n",
       "    .dataframe thead tr:only-child th {\n",
       "        text-align: right;\n",
       "    }\n",
       "\n",
       "    .dataframe thead th {\n",
       "        text-align: left;\n",
       "    }\n",
       "\n",
       "    .dataframe tbody tr th {\n",
       "        vertical-align: top;\n",
       "    }\n",
       "</style>\n",
       "<table border=\"1\" class=\"dataframe\">\n",
       "  <thead>\n",
       "    <tr style=\"text-align: right;\">\n",
       "      <th></th>\n",
       "      <th>industry</th>\n",
       "      <th>claims_2016</th>\n",
       "      <th>claims_total</th>\n",
       "    </tr>\n",
       "  </thead>\n",
       "  <tbody>\n",
       "    <tr>\n",
       "      <th>0</th>\n",
       "      <td>Agriculture, Forestry, Fishing and Hunting</td>\n",
       "      <td>23</td>\n",
       "      <td>950</td>\n",
       "    </tr>\n",
       "    <tr>\n",
       "      <th>1</th>\n",
       "      <td>Mining, Quarrying, and Oil and Gas Extraction</td>\n",
       "      <td>8</td>\n",
       "      <td>700</td>\n",
       "    </tr>\n",
       "    <tr>\n",
       "      <th>2</th>\n",
       "      <td>Utilities</td>\n",
       "      <td>9</td>\n",
       "      <td>693</td>\n",
       "    </tr>\n",
       "    <tr>\n",
       "      <th>3</th>\n",
       "      <td>Construction</td>\n",
       "      <td>46</td>\n",
       "      <td>3070</td>\n",
       "    </tr>\n",
       "    <tr>\n",
       "      <th>4</th>\n",
       "      <td>Manufacturing</td>\n",
       "      <td>261</td>\n",
       "      <td>14053</td>\n",
       "    </tr>\n",
       "  </tbody>\n",
       "</table>\n",
       "</div>"
      ],
      "text/plain": [
       "                                        industry  claims_2016  claims_total\n",
       "0     Agriculture, Forestry, Fishing and Hunting           23           950\n",
       "1  Mining, Quarrying, and Oil and Gas Extraction            8           700\n",
       "2                                      Utilities            9           693\n",
       "3                                   Construction           46          3070\n",
       "4                                  Manufacturing          261         14053"
      ]
     },
     "execution_count": 2,
     "metadata": {},
     "output_type": "execute_result"
    }
   ],
   "source": [
    "data2 = pd.read_csv('d3_claims_by_sector.csv')\n",
    "data2 = data2[['industry','claims_2016','claims_total']]\n",
    "data2.head()"
   ]
  },
  {
   "cell_type": "markdown",
   "metadata": {},
   "source": [
    "Merge the two datasets based on the common industry column and calculate the sexual harrassment rate."
   ]
  },
  {
   "cell_type": "code",
   "execution_count": 3,
   "metadata": {},
   "outputs": [
    {
     "data": {
      "text/html": [
       "<div>\n",
       "<style>\n",
       "    .dataframe thead tr:only-child th {\n",
       "        text-align: right;\n",
       "    }\n",
       "\n",
       "    .dataframe thead th {\n",
       "        text-align: left;\n",
       "    }\n",
       "\n",
       "    .dataframe tbody tr th {\n",
       "        vertical-align: top;\n",
       "    }\n",
       "</style>\n",
       "<table border=\"1\" class=\"dataframe\">\n",
       "  <thead>\n",
       "    <tr style=\"text-align: right;\">\n",
       "      <th></th>\n",
       "      <th>industry</th>\n",
       "      <th>avg_hrly_earnings</th>\n",
       "      <th>women_percentage</th>\n",
       "      <th>total_employment</th>\n",
       "      <th>claims_2016</th>\n",
       "      <th>claims_total</th>\n",
       "      <th>SH rate</th>\n",
       "    </tr>\n",
       "  </thead>\n",
       "  <tbody>\n",
       "    <tr>\n",
       "      <th>0</th>\n",
       "      <td>Accommodation and Food Services</td>\n",
       "      <td>14.10</td>\n",
       "      <td>0.527273</td>\n",
       "      <td>13449.20</td>\n",
       "      <td>237</td>\n",
       "      <td>14208</td>\n",
       "      <td>0.017622</td>\n",
       "    </tr>\n",
       "    <tr>\n",
       "      <th>1</th>\n",
       "      <td>Retail Trade</td>\n",
       "      <td>15.44</td>\n",
       "      <td>0.406632</td>\n",
       "      <td>15982.52</td>\n",
       "      <td>217</td>\n",
       "      <td>14119</td>\n",
       "      <td>0.013577</td>\n",
       "    </tr>\n",
       "    <tr>\n",
       "      <th>2</th>\n",
       "      <td>Other Services (except Public Administration)</td>\n",
       "      <td>19.41</td>\n",
       "      <td>0.525578</td>\n",
       "      <td>4078.80</td>\n",
       "      <td>41</td>\n",
       "      <td>3403</td>\n",
       "      <td>0.010052</td>\n",
       "    </tr>\n",
       "    <tr>\n",
       "      <th>3</th>\n",
       "      <td>Wholesale Trade</td>\n",
       "      <td>29.73</td>\n",
       "      <td>0.296180</td>\n",
       "      <td>5877.50</td>\n",
       "      <td>44</td>\n",
       "      <td>2287</td>\n",
       "      <td>0.007486</td>\n",
       "    </tr>\n",
       "    <tr>\n",
       "      <th>4</th>\n",
       "      <td>Manufacturing</td>\n",
       "      <td>24.39</td>\n",
       "      <td>0.274534</td>\n",
       "      <td>12337.52</td>\n",
       "      <td>261</td>\n",
       "      <td>14053</td>\n",
       "      <td>0.021155</td>\n",
       "    </tr>\n",
       "  </tbody>\n",
       "</table>\n",
       "</div>"
      ],
      "text/plain": [
       "                                        industry  avg_hrly_earnings  \\\n",
       "0                Accommodation and Food Services              14.10   \n",
       "1                                   Retail Trade              15.44   \n",
       "2  Other Services (except Public Administration)              19.41   \n",
       "3                                Wholesale Trade              29.73   \n",
       "4                                  Manufacturing              24.39   \n",
       "\n",
       "   women_percentage  total_employment  claims_2016  claims_total   SH rate  \n",
       "0          0.527273          13449.20          237         14208  0.017622  \n",
       "1          0.406632          15982.52          217         14119  0.013577  \n",
       "2          0.525578           4078.80           41          3403  0.010052  \n",
       "3          0.296180           5877.50           44          2287  0.007486  \n",
       "4          0.274534          12337.52          261         14053  0.021155  "
      ]
     },
     "execution_count": 3,
     "metadata": {},
     "output_type": "execute_result"
    }
   ],
   "source": [
    "df = pd.merge(data1, data2, on=\"industry\",how = 'left')\n",
    "df['SH rate'] = df['claims_2016'] / df['total_employment']\n",
    "df.head()"
   ]
  },
  {
   "cell_type": "markdown",
   "metadata": {},
   "source": [
    "We want to add another column as a index value to indicate the level of the wage. So we need another dataset to tell us the average hourly wage of year 2016."
   ]
  },
  {
   "cell_type": "code",
   "execution_count": 4,
   "metadata": {},
   "outputs": [
    {
     "data": {
      "text/html": [
       "<div>\n",
       "<style>\n",
       "    .dataframe thead tr:only-child th {\n",
       "        text-align: right;\n",
       "    }\n",
       "\n",
       "    .dataframe thead th {\n",
       "        text-align: left;\n",
       "    }\n",
       "\n",
       "    .dataframe tbody tr th {\n",
       "        vertical-align: top;\n",
       "    }\n",
       "</style>\n",
       "<table border=\"1\" class=\"dataframe\">\n",
       "  <thead>\n",
       "    <tr style=\"text-align: right;\">\n",
       "      <th></th>\n",
       "      <th>Year</th>\n",
       "      <th>Jan</th>\n",
       "      <th>Feb</th>\n",
       "      <th>Mar</th>\n",
       "      <th>Apr</th>\n",
       "      <th>May</th>\n",
       "      <th>Jun</th>\n",
       "      <th>Jul</th>\n",
       "      <th>Aug</th>\n",
       "      <th>Sep</th>\n",
       "      <th>Oct</th>\n",
       "      <th>Nov</th>\n",
       "      <th>Dec</th>\n",
       "    </tr>\n",
       "  </thead>\n",
       "  <tbody>\n",
       "    <tr>\n",
       "      <th>0</th>\n",
       "      <td>2008</td>\n",
       "      <td>17.74</td>\n",
       "      <td>17.80</td>\n",
       "      <td>17.88</td>\n",
       "      <td>17.92</td>\n",
       "      <td>17.98</td>\n",
       "      <td>18.04</td>\n",
       "      <td>18.10</td>\n",
       "      <td>18.18</td>\n",
       "      <td>18.20</td>\n",
       "      <td>18.25</td>\n",
       "      <td>18.32</td>\n",
       "      <td>18.38</td>\n",
       "    </tr>\n",
       "    <tr>\n",
       "      <th>1</th>\n",
       "      <td>2009</td>\n",
       "      <td>18.40</td>\n",
       "      <td>18.45</td>\n",
       "      <td>18.50</td>\n",
       "      <td>18.52</td>\n",
       "      <td>18.53</td>\n",
       "      <td>18.56</td>\n",
       "      <td>18.60</td>\n",
       "      <td>18.66</td>\n",
       "      <td>18.70</td>\n",
       "      <td>18.74</td>\n",
       "      <td>18.81</td>\n",
       "      <td>18.84</td>\n",
       "    </tr>\n",
       "    <tr>\n",
       "      <th>2</th>\n",
       "      <td>2010</td>\n",
       "      <td>18.89</td>\n",
       "      <td>18.92</td>\n",
       "      <td>18.92</td>\n",
       "      <td>18.96</td>\n",
       "      <td>19.01</td>\n",
       "      <td>19.03</td>\n",
       "      <td>19.05</td>\n",
       "      <td>19.10</td>\n",
       "      <td>19.11</td>\n",
       "      <td>19.20</td>\n",
       "      <td>19.21</td>\n",
       "      <td>19.22</td>\n",
       "    </tr>\n",
       "    <tr>\n",
       "      <th>3</th>\n",
       "      <td>2011</td>\n",
       "      <td>19.32</td>\n",
       "      <td>19.32</td>\n",
       "      <td>19.31</td>\n",
       "      <td>19.36</td>\n",
       "      <td>19.41</td>\n",
       "      <td>19.42</td>\n",
       "      <td>19.48</td>\n",
       "      <td>19.48</td>\n",
       "      <td>19.49</td>\n",
       "      <td>19.56</td>\n",
       "      <td>19.56</td>\n",
       "      <td>19.56</td>\n",
       "    </tr>\n",
       "    <tr>\n",
       "      <th>4</th>\n",
       "      <td>2012</td>\n",
       "      <td>19.58</td>\n",
       "      <td>19.60</td>\n",
       "      <td>19.65</td>\n",
       "      <td>19.69</td>\n",
       "      <td>19.68</td>\n",
       "      <td>19.72</td>\n",
       "      <td>19.75</td>\n",
       "      <td>19.74</td>\n",
       "      <td>19.79</td>\n",
       "      <td>19.79</td>\n",
       "      <td>19.85</td>\n",
       "      <td>19.89</td>\n",
       "    </tr>\n",
       "  </tbody>\n",
       "</table>\n",
       "</div>"
      ],
      "text/plain": [
       "   Year    Jan    Feb    Mar    Apr    May    Jun    Jul    Aug    Sep    Oct  \\\n",
       "0  2008  17.74  17.80  17.88  17.92  17.98  18.04  18.10  18.18  18.20  18.25   \n",
       "1  2009  18.40  18.45  18.50  18.52  18.53  18.56  18.60  18.66  18.70  18.74   \n",
       "2  2010  18.89  18.92  18.92  18.96  19.01  19.03  19.05  19.10  19.11  19.20   \n",
       "3  2011  19.32  19.32  19.31  19.36  19.41  19.42  19.48  19.48  19.49  19.56   \n",
       "4  2012  19.58  19.60  19.65  19.69  19.68  19.72  19.75  19.74  19.79  19.79   \n",
       "\n",
       "     Nov    Dec  \n",
       "0  18.32  18.38  \n",
       "1  18.81  18.84  \n",
       "2  19.21  19.22  \n",
       "3  19.56  19.56  \n",
       "4  19.85  19.89  "
      ]
     },
     "execution_count": 4,
     "metadata": {},
     "output_type": "execute_result"
    }
   ],
   "source": [
    "import xlrd\n",
    "df_wage = pd.read_excel('average_wage.xlsx')\n",
    "df_wage.head(5)"
   ]
  },
  {
   "cell_type": "markdown",
   "metadata": {
    "collapsed": true
   },
   "source": [
    "From the data above, we have the average hourly wage of year 2016 to be 21.55."
   ]
  },
  {
   "cell_type": "code",
   "execution_count": 5,
   "metadata": {
    "collapsed": true
   },
   "outputs": [],
   "source": [
    "# set the wage level index for each industry\n",
    "df.loc[df['avg_hrly_earnings'] >= 21.55, 'wage_level'] = 1\n",
    "df.loc[df['avg_hrly_earnings'] < 21.55, 'wage_level'] = 0"
   ]
  },
  {
   "cell_type": "code",
   "execution_count": 6,
   "metadata": {},
   "outputs": [
    {
     "data": {
      "text/html": [
       "<div>\n",
       "<style>\n",
       "    .dataframe thead tr:only-child th {\n",
       "        text-align: right;\n",
       "    }\n",
       "\n",
       "    .dataframe thead th {\n",
       "        text-align: left;\n",
       "    }\n",
       "\n",
       "    .dataframe tbody tr th {\n",
       "        vertical-align: top;\n",
       "    }\n",
       "</style>\n",
       "<table border=\"1\" class=\"dataframe\">\n",
       "  <thead>\n",
       "    <tr style=\"text-align: right;\">\n",
       "      <th></th>\n",
       "      <th>industry</th>\n",
       "      <th>avg_hrly_earnings</th>\n",
       "      <th>women_percentage</th>\n",
       "      <th>total_employment</th>\n",
       "      <th>claims_2016</th>\n",
       "      <th>claims_total</th>\n",
       "      <th>SH rate</th>\n",
       "      <th>wage_level</th>\n",
       "    </tr>\n",
       "  </thead>\n",
       "  <tbody>\n",
       "    <tr>\n",
       "      <th>0</th>\n",
       "      <td>Accommodation and Food Services</td>\n",
       "      <td>14.10</td>\n",
       "      <td>0.527273</td>\n",
       "      <td>13449.20</td>\n",
       "      <td>237</td>\n",
       "      <td>14208</td>\n",
       "      <td>0.017622</td>\n",
       "      <td>0.0</td>\n",
       "    </tr>\n",
       "    <tr>\n",
       "      <th>1</th>\n",
       "      <td>Retail Trade</td>\n",
       "      <td>15.44</td>\n",
       "      <td>0.406632</td>\n",
       "      <td>15982.52</td>\n",
       "      <td>217</td>\n",
       "      <td>14119</td>\n",
       "      <td>0.013577</td>\n",
       "      <td>0.0</td>\n",
       "    </tr>\n",
       "    <tr>\n",
       "      <th>2</th>\n",
       "      <td>Other Services (except Public Administration)</td>\n",
       "      <td>19.41</td>\n",
       "      <td>0.525578</td>\n",
       "      <td>4078.80</td>\n",
       "      <td>41</td>\n",
       "      <td>3403</td>\n",
       "      <td>0.010052</td>\n",
       "      <td>0.0</td>\n",
       "    </tr>\n",
       "    <tr>\n",
       "      <th>3</th>\n",
       "      <td>Wholesale Trade</td>\n",
       "      <td>29.73</td>\n",
       "      <td>0.296180</td>\n",
       "      <td>5877.50</td>\n",
       "      <td>44</td>\n",
       "      <td>2287</td>\n",
       "      <td>0.007486</td>\n",
       "      <td>1.0</td>\n",
       "    </tr>\n",
       "    <tr>\n",
       "      <th>4</th>\n",
       "      <td>Manufacturing</td>\n",
       "      <td>24.39</td>\n",
       "      <td>0.274534</td>\n",
       "      <td>12337.52</td>\n",
       "      <td>261</td>\n",
       "      <td>14053</td>\n",
       "      <td>0.021155</td>\n",
       "      <td>1.0</td>\n",
       "    </tr>\n",
       "  </tbody>\n",
       "</table>\n",
       "</div>"
      ],
      "text/plain": [
       "                                        industry  avg_hrly_earnings  \\\n",
       "0                Accommodation and Food Services              14.10   \n",
       "1                                   Retail Trade              15.44   \n",
       "2  Other Services (except Public Administration)              19.41   \n",
       "3                                Wholesale Trade              29.73   \n",
       "4                                  Manufacturing              24.39   \n",
       "\n",
       "   women_percentage  total_employment  claims_2016  claims_total   SH rate  \\\n",
       "0          0.527273          13449.20          237         14208  0.017622   \n",
       "1          0.406632          15982.52          217         14119  0.013577   \n",
       "2          0.525578           4078.80           41          3403  0.010052   \n",
       "3          0.296180           5877.50           44          2287  0.007486   \n",
       "4          0.274534          12337.52          261         14053  0.021155   \n",
       "\n",
       "   wage_level  \n",
       "0         0.0  \n",
       "1         0.0  \n",
       "2         0.0  \n",
       "3         1.0  \n",
       "4         1.0  "
      ]
     },
     "execution_count": 6,
     "metadata": {},
     "output_type": "execute_result"
    }
   ],
   "source": [
    "df = df.dropna()\n",
    "df.head()"
   ]
  },
  {
   "cell_type": "markdown",
   "metadata": {},
   "source": [
    "We also want to add another column as a index value to indicate the level of the women workforce."
   ]
  },
  {
   "cell_type": "code",
   "execution_count": 7,
   "metadata": {
    "collapsed": true
   },
   "outputs": [],
   "source": [
    "# set the women workforce level index for each industry\n",
    "df.loc[df['women_percentage'] >= 0.5, 'women_percentage_level'] = 1\n",
    "df.loc[df['women_percentage'] < 0.5, 'women_percentage_level'] = 0"
   ]
  },
  {
   "cell_type": "code",
   "execution_count": 8,
   "metadata": {},
   "outputs": [
    {
     "data": {
      "text/html": [
       "<div>\n",
       "<style>\n",
       "    .dataframe thead tr:only-child th {\n",
       "        text-align: right;\n",
       "    }\n",
       "\n",
       "    .dataframe thead th {\n",
       "        text-align: left;\n",
       "    }\n",
       "\n",
       "    .dataframe tbody tr th {\n",
       "        vertical-align: top;\n",
       "    }\n",
       "</style>\n",
       "<table border=\"1\" class=\"dataframe\">\n",
       "  <thead>\n",
       "    <tr style=\"text-align: right;\">\n",
       "      <th></th>\n",
       "      <th>industry</th>\n",
       "      <th>avg_hrly_earnings</th>\n",
       "      <th>women_percentage</th>\n",
       "      <th>total_employment</th>\n",
       "      <th>claims_2016</th>\n",
       "      <th>claims_total</th>\n",
       "      <th>SH rate</th>\n",
       "      <th>wage_level</th>\n",
       "      <th>women_percentage_level</th>\n",
       "    </tr>\n",
       "  </thead>\n",
       "  <tbody>\n",
       "    <tr>\n",
       "      <th>0</th>\n",
       "      <td>Accommodation and Food Services</td>\n",
       "      <td>14.10</td>\n",
       "      <td>0.527273</td>\n",
       "      <td>13449.20</td>\n",
       "      <td>237</td>\n",
       "      <td>14208</td>\n",
       "      <td>0.017622</td>\n",
       "      <td>0.0</td>\n",
       "      <td>1.0</td>\n",
       "    </tr>\n",
       "    <tr>\n",
       "      <th>1</th>\n",
       "      <td>Retail Trade</td>\n",
       "      <td>15.44</td>\n",
       "      <td>0.406632</td>\n",
       "      <td>15982.52</td>\n",
       "      <td>217</td>\n",
       "      <td>14119</td>\n",
       "      <td>0.013577</td>\n",
       "      <td>0.0</td>\n",
       "      <td>0.0</td>\n",
       "    </tr>\n",
       "    <tr>\n",
       "      <th>2</th>\n",
       "      <td>Other Services (except Public Administration)</td>\n",
       "      <td>19.41</td>\n",
       "      <td>0.525578</td>\n",
       "      <td>4078.80</td>\n",
       "      <td>41</td>\n",
       "      <td>3403</td>\n",
       "      <td>0.010052</td>\n",
       "      <td>0.0</td>\n",
       "      <td>1.0</td>\n",
       "    </tr>\n",
       "    <tr>\n",
       "      <th>3</th>\n",
       "      <td>Wholesale Trade</td>\n",
       "      <td>29.73</td>\n",
       "      <td>0.296180</td>\n",
       "      <td>5877.50</td>\n",
       "      <td>44</td>\n",
       "      <td>2287</td>\n",
       "      <td>0.007486</td>\n",
       "      <td>1.0</td>\n",
       "      <td>0.0</td>\n",
       "    </tr>\n",
       "    <tr>\n",
       "      <th>4</th>\n",
       "      <td>Manufacturing</td>\n",
       "      <td>24.39</td>\n",
       "      <td>0.274534</td>\n",
       "      <td>12337.52</td>\n",
       "      <td>261</td>\n",
       "      <td>14053</td>\n",
       "      <td>0.021155</td>\n",
       "      <td>1.0</td>\n",
       "      <td>0.0</td>\n",
       "    </tr>\n",
       "  </tbody>\n",
       "</table>\n",
       "</div>"
      ],
      "text/plain": [
       "                                        industry  avg_hrly_earnings  \\\n",
       "0                Accommodation and Food Services              14.10   \n",
       "1                                   Retail Trade              15.44   \n",
       "2  Other Services (except Public Administration)              19.41   \n",
       "3                                Wholesale Trade              29.73   \n",
       "4                                  Manufacturing              24.39   \n",
       "\n",
       "   women_percentage  total_employment  claims_2016  claims_total   SH rate  \\\n",
       "0          0.527273          13449.20          237         14208  0.017622   \n",
       "1          0.406632          15982.52          217         14119  0.013577   \n",
       "2          0.525578           4078.80           41          3403  0.010052   \n",
       "3          0.296180           5877.50           44          2287  0.007486   \n",
       "4          0.274534          12337.52          261         14053  0.021155   \n",
       "\n",
       "   wage_level  women_percentage_level  \n",
       "0         0.0                     1.0  \n",
       "1         0.0                     0.0  \n",
       "2         0.0                     1.0  \n",
       "3         1.0                     0.0  \n",
       "4         1.0                     0.0  "
      ]
     },
     "execution_count": 8,
     "metadata": {},
     "output_type": "execute_result"
    }
   ],
   "source": [
    "df = df.dropna()\n",
    "df.head()"
   ]
  },
  {
   "cell_type": "code",
   "execution_count": 9,
   "metadata": {},
   "outputs": [
    {
     "name": "stderr",
     "output_type": "stream",
     "text": [
      "/Users/yunjiwu/anaconda3/lib/python3.6/site-packages/statsmodels/compat/pandas.py:56: FutureWarning: The pandas.core.datetools module is deprecated and will be removed in a future version. Please use the pandas.tseries module instead.\n",
      "  from pandas.core import datetools\n"
     ]
    }
   ],
   "source": [
    "import numpy as np\n",
    "\n",
    "import matplotlib.pyplot as plt\n",
    "import scipy.stats\n",
    "import statsmodels.api as sm\n",
    "import statsmodels.formula.api as smf\n",
    "%matplotlib inline"
   ]
  },
  {
   "cell_type": "markdown",
   "metadata": {},
   "source": [
    "So far we have finished the data cleaning part. And here begins the statistics part."
   ]
  },
  {
   "cell_type": "markdown",
   "metadata": {},
   "source": [
    "#### 1. Is there a difference between the sexual harrassment rate obserbed in low-wage industries and that in high-wage industries?\n"
   ]
  },
  {
   "cell_type": "markdown",
   "metadata": {},
   "source": [
    "We want to investigate whether there is a difference between the sexual harrassment rate obserbed in low-wage industries and that in high-wage industries.<br/> This data is in the variable SH rate with grouping variable wage_level. <br> A \"1.0\" wage_level represents high-wage and a \"0.0\" wage_level represents low-wage. "
   ]
  },
  {
   "cell_type": "code",
   "execution_count": 10,
   "metadata": {},
   "outputs": [
    {
     "data": {
      "text/html": [
       "<div>\n",
       "<style>\n",
       "    .dataframe thead tr:only-child th {\n",
       "        text-align: right;\n",
       "    }\n",
       "\n",
       "    .dataframe thead th {\n",
       "        text-align: left;\n",
       "    }\n",
       "\n",
       "    .dataframe tbody tr th {\n",
       "        vertical-align: top;\n",
       "    }\n",
       "</style>\n",
       "<table border=\"1\" class=\"dataframe\">\n",
       "  <thead>\n",
       "    <tr style=\"text-align: right;\">\n",
       "      <th></th>\n",
       "      <th>count</th>\n",
       "      <th>mean</th>\n",
       "      <th>std</th>\n",
       "      <th>min</th>\n",
       "      <th>25%</th>\n",
       "      <th>50%</th>\n",
       "      <th>75%</th>\n",
       "      <th>max</th>\n",
       "    </tr>\n",
       "    <tr>\n",
       "      <th>wage_level</th>\n",
       "      <th></th>\n",
       "      <th></th>\n",
       "      <th></th>\n",
       "      <th></th>\n",
       "      <th></th>\n",
       "      <th></th>\n",
       "      <th></th>\n",
       "      <th></th>\n",
       "    </tr>\n",
       "  </thead>\n",
       "  <tbody>\n",
       "    <tr>\n",
       "      <th>0.0</th>\n",
       "      <td>6.0</td>\n",
       "      <td>0.022070</td>\n",
       "      <td>0.016544</td>\n",
       "      <td>0.010052</td>\n",
       "      <td>0.014545</td>\n",
       "      <td>0.017535</td>\n",
       "      <td>0.018288</td>\n",
       "      <td>0.055209</td>\n",
       "    </tr>\n",
       "    <tr>\n",
       "      <th>1.0</th>\n",
       "      <td>14.0</td>\n",
       "      <td>0.014138</td>\n",
       "      <td>0.005337</td>\n",
       "      <td>0.006879</td>\n",
       "      <td>0.010809</td>\n",
       "      <td>0.012342</td>\n",
       "      <td>0.017158</td>\n",
       "      <td>0.024505</td>\n",
       "    </tr>\n",
       "  </tbody>\n",
       "</table>\n",
       "</div>"
      ],
      "text/plain": [
       "            count      mean       std       min       25%       50%       75%  \\\n",
       "wage_level                                                                      \n",
       "0.0           6.0  0.022070  0.016544  0.010052  0.014545  0.017535  0.018288   \n",
       "1.0          14.0  0.014138  0.005337  0.006879  0.010809  0.012342  0.017158   \n",
       "\n",
       "                 max  \n",
       "wage_level            \n",
       "0.0         0.055209  \n",
       "1.0         0.024505  "
      ]
     },
     "execution_count": 10,
     "metadata": {},
     "output_type": "execute_result"
    }
   ],
   "source": [
    "# Descriptive statistics by group \n",
    "df['SH rate'].groupby(df['wage_level']).describe()"
   ]
  },
  {
   "cell_type": "markdown",
   "metadata": {},
   "source": [
    "Let $\\mu_1$ be the population mean of sexual harrassment rate for low wage industries ($X_1,...,X_{6}$) and $\\mu_2$ be the population mean for high wage industries ($Y_1,...,Y_{14}$) respectively. \n",
    "<br>If $\\delta = \\mu_1 - \\mu_2$, then we consider the test \n",
    "$$ H_0 : \\delta = 0, \\qquad vs \\qquad H_1: \\delta \\ne 0$$ \n",
    "Note that the sampling distribution of a difference in sample means from independent samples is approximately normal <br> \n",
    "The non-parametric estimate of $\\delta$ is $\\hat{\\delta} = \\bar{X} - \\bar{Y}$ with estimated standard error \n",
    "$$ \\hat{se} = \\sqrt{\\frac{{s_1}^2}{6} + \\frac{{s_2}^2}{14}} $$\n",
    "where ${s_1}^2$ and ${s_2}^2$ are the sample variances. \n",
    "\n",
    "The Wald statistics is given by \n",
    "$$ W = \\frac {\\hat{\\delta}}{\\hat{se}} = \\frac {\\bar{X} - \\bar{Y}}{\\sqrt{\\frac{{s_1}^2}{6} + \\frac{{s_2}^2}{14}}} $$\n",
    "and the size $\\alpha$ Wald test rejects $H_0$ when $\\vert W \\vert$ > $z_{\\alpha/2}$"
   ]
  },
  {
   "cell_type": "code",
   "execution_count": 11,
   "metadata": {},
   "outputs": [
    {
     "name": "stdout",
     "output_type": "stream",
     "text": [
      "The test statistic: 0.8870150659058423, The critical value: 1.959963984540054\n",
      "Failed to reject the null hypothesis at size 0.05.\n",
      "The p-value is 0.37507078923500314\n"
     ]
    }
   ],
   "source": [
    "from scipy.stats import norm\n",
    "xbar = 0.023077\n",
    "ybar = 0.015497\n",
    "delta = xbar - ybar\n",
    "alpha = 0.05 \n",
    "hat_var1 = (0.018636**2)/6 \n",
    "hat_var2 = (0.014560**2)/14\n",
    "hat_se = np.sqrt(hat_var1 + hat_var2) \n",
    "\n",
    "W = delta/hat_se \n",
    "\n",
    "z = norm.ppf(1-alpha/2)\n",
    "\n",
    "print(\"The test statistic: {}, The critical value: {}\".format(np.abs(W),z))\n",
    "\n",
    "if np.abs(W) > z:\n",
    "    print(\"The null hypothesis is rejected at size {}.\".format(alpha))\n",
    "else:\n",
    "    print(\"Failed to reject the null hypothesis at size {}.\".format(alpha))\n",
    "    \n",
    "pval = 2*norm.cdf(-np.abs(W))\n",
    "print(\"The p-value is {}\".format(pval))"
   ]
  },
  {
   "cell_type": "markdown",
   "metadata": {},
   "source": [
    "Since the null hypothesis is failed to reject, then the test shows no difference between the sexual harrassment rate of low-wage industries and that of high-wage industries."
   ]
  },
  {
   "cell_type": "markdown",
   "metadata": {},
   "source": [
    "We will now find a 95% confidence interval for the difference."
   ]
  },
  {
   "cell_type": "code",
   "execution_count": 12,
   "metadata": {},
   "outputs": [
    {
     "name": "stdout",
     "output_type": "stream",
     "text": [
      "A 95% confidence interval based on normal for the difference is (-0.0091689004120147,0.0243289004120147)\n"
     ]
    }
   ],
   "source": [
    "# Find confidence interval \n",
    "\n",
    "lower = delta - (hat_se*z)\n",
    "upper = delta + (hat_se*z)\n",
    "\n",
    "print(\"A 95% confidence interval based on normal for the difference is ({},{})\".format(lower,upper))"
   ]
  },
  {
   "cell_type": "code",
   "execution_count": 13,
   "metadata": {},
   "outputs": [
    {
     "data": {
      "text/plain": [
       "1.9623414611334487"
      ]
     },
     "execution_count": 13,
     "metadata": {},
     "output_type": "execute_result"
    }
   ],
   "source": [
    "from scipy.stats import t\n",
    "t_val = t.ppf(1-alpha/2,999)\n",
    "t_val"
   ]
  },
  {
   "cell_type": "code",
   "execution_count": 14,
   "metadata": {},
   "outputs": [
    {
     "name": "stdout",
     "output_type": "stream",
     "text": [
      "A 95% confidence interval based on t for the difference is (-0.009189217172429053,0.024349217172429053)\n"
     ]
    }
   ],
   "source": [
    "lower = delta - (hat_se*t_val)\n",
    "upper = delta + (hat_se*t_val)\n",
    "\n",
    "print(\"A 95% confidence interval based on t for the difference is ({},{})\".format(lower,upper))"
   ]
  },
  {
   "cell_type": "markdown",
   "metadata": {},
   "source": [
    "#### 2. Is there a difference between the sexual harrassment rate obserbed in high women workforce industry and that in low women workforce industries?"
   ]
  },
  {
   "cell_type": "markdown",
   "metadata": {},
   "source": [
    "Then, we want to investigate the relationship between sexual harrassment rate and the percentage of women employees. i.e Is there a higher sexual harrassment rate in indusries with a higer percentage of women employees. <br>We will divide industries into two categories based on the percentage of women employees. <br>If the percentage of women employees of an industry is above or equal to 0.5, then its women_percentage_level is marked as \"1.0\".<br/>\n",
    "If the percentage of women employees is below 0.5, then its women_percentage_level is marked as \"0.0\". <br/>"
   ]
  },
  {
   "cell_type": "markdown",
   "metadata": {},
   "source": [
    "Is there a difference between the sexual harrassment rate obserbed in industries with high percentage of women employees and that in industries with low percentage of women employees? This data is in the variable SH rate with grouping variable women_percentage_level. "
   ]
  },
  {
   "cell_type": "code",
   "execution_count": 17,
   "metadata": {},
   "outputs": [
    {
     "data": {
      "text/html": [
       "<div>\n",
       "<style>\n",
       "    .dataframe thead tr:only-child th {\n",
       "        text-align: right;\n",
       "    }\n",
       "\n",
       "    .dataframe thead th {\n",
       "        text-align: left;\n",
       "    }\n",
       "\n",
       "    .dataframe tbody tr th {\n",
       "        vertical-align: top;\n",
       "    }\n",
       "</style>\n",
       "<table border=\"1\" class=\"dataframe\">\n",
       "  <thead>\n",
       "    <tr style=\"text-align: right;\">\n",
       "      <th></th>\n",
       "      <th>count</th>\n",
       "      <th>mean</th>\n",
       "      <th>std</th>\n",
       "      <th>min</th>\n",
       "      <th>25%</th>\n",
       "      <th>50%</th>\n",
       "      <th>75%</th>\n",
       "      <th>max</th>\n",
       "    </tr>\n",
       "    <tr>\n",
       "      <th>women_percentage_level</th>\n",
       "      <th></th>\n",
       "      <th></th>\n",
       "      <th></th>\n",
       "      <th></th>\n",
       "      <th></th>\n",
       "      <th></th>\n",
       "      <th></th>\n",
       "      <th></th>\n",
       "    </tr>\n",
       "  </thead>\n",
       "  <tbody>\n",
       "    <tr>\n",
       "      <th>0.0</th>\n",
       "      <td>13.0</td>\n",
       "      <td>0.017202</td>\n",
       "      <td>0.012182</td>\n",
       "      <td>0.006879</td>\n",
       "      <td>0.011574</td>\n",
       "      <td>0.014844</td>\n",
       "      <td>0.017481</td>\n",
       "      <td>0.055209</td>\n",
       "    </tr>\n",
       "    <tr>\n",
       "      <th>1.0</th>\n",
       "      <td>7.0</td>\n",
       "      <td>0.015248</td>\n",
       "      <td>0.005845</td>\n",
       "      <td>0.010052</td>\n",
       "      <td>0.010916</td>\n",
       "      <td>0.011536</td>\n",
       "      <td>0.019404</td>\n",
       "      <td>0.024505</td>\n",
       "    </tr>\n",
       "  </tbody>\n",
       "</table>\n",
       "</div>"
      ],
      "text/plain": [
       "                        count      mean       std       min       25%  \\\n",
       "women_percentage_level                                                  \n",
       "0.0                      13.0  0.017202  0.012182  0.006879  0.011574   \n",
       "1.0                       7.0  0.015248  0.005845  0.010052  0.010916   \n",
       "\n",
       "                             50%       75%       max  \n",
       "women_percentage_level                                \n",
       "0.0                     0.014844  0.017481  0.055209  \n",
       "1.0                     0.011536  0.019404  0.024505  "
      ]
     },
     "execution_count": 17,
     "metadata": {},
     "output_type": "execute_result"
    }
   ],
   "source": [
    "# Descriptive statistics by group \n",
    "df['SH rate'].groupby(df['women_percentage_level']).describe()"
   ]
  },
  {
   "cell_type": "markdown",
   "metadata": {},
   "source": [
    "Let $\\mu_1$ be the population mean of sexual harrassment rate for industries with low percentage of women employees ($X_1,...,X_{13}$) and $\\mu_2$ be the population mean for industries with high percentage of women employees ($Y_1,...,Y_{7}$) respectively. \n",
    "<br>If $\\delta = \\mu_1 - \\mu_2$, then we consider the test \n",
    "$$ H_0 : \\delta = 0, \\qquad vs \\qquad H_1: \\delta \\ne 0$$ \n",
    "Note that the sampling distribution of a difference in sample means from independent samples is approximately normal <br> \n",
    "The non-parametric estimate of $\\delta$ is $\\hat{\\delta} = \\bar{X} - \\bar{Y}$ with estimated standard error \n",
    "$$ \\hat{se} = \\sqrt{\\frac{{s_1}^2}{13} + \\frac{{s_2}^2}{7}} $$\n",
    "where ${s_1}^2$ and ${s_2}^2$ are the sample variances. \n",
    "\n",
    "The Wald statistics is given by \n",
    "$$ W = \\frac {\\hat{\\delta}}{\\hat{se}} = \\frac {\\bar{X} - \\bar{Y}}{\\sqrt{\\frac{{s_1}^2}{13} + \\frac{{s_2}^2}{7}}} $$\n",
    "and the size $\\alpha$ Wald test rejects $H_0$ when $\\vert W \\vert$ > $z_{\\alpha/2}$"
   ]
  },
  {
   "cell_type": "code",
   "execution_count": 18,
   "metadata": {},
   "outputs": [
    {
     "name": "stdout",
     "output_type": "stream",
     "text": [
      "The test statistic: 0.769551313788129, The critical value: 1.959963984540054\n",
      "Failed to reject the null hypothesis at size 0.05.\n",
      "The p-value is 0.441566094612715\n"
     ]
    }
   ],
   "source": [
    "xbar = 0.015734\n",
    "ybar = 0.021554\n",
    "delta = xbar - ybar\n",
    "alpha = 0.05 \n",
    "hat_var1 = (0.015758**2)/13\n",
    "hat_var2 = (0.016330**2)/7\n",
    "hat_se = np.sqrt(hat_var1 + hat_var2) \n",
    "\n",
    "W = delta/hat_se \n",
    "\n",
    "z = norm.ppf(1-alpha/2)\n",
    "\n",
    "print(\"The test statistic: {}, The critical value: {}\".format(np.abs(W),z))\n",
    "\n",
    "if np.abs(W) > z:\n",
    "    print(\"The null hypothesis is rejected at size {}.\".format(alpha))\n",
    "else:\n",
    "    print(\"Failed to reject the null hypothesis at size {}.\".format(alpha))\n",
    "    \n",
    "pval = 2*norm.cdf(-np.abs(W))\n",
    "print(\"The p-value is {}\".format(pval))"
   ]
  },
  {
   "cell_type": "markdown",
   "metadata": {},
   "source": [
    "Since the null hypothesis is failed to reject, then there is no difference between the sexual harrassment rate of industries with high percentage of women employees and that of industries with low percentage of women employees."
   ]
  },
  {
   "cell_type": "markdown",
   "metadata": {},
   "source": [
    "We will now find a 95% confidence interval for the difference."
   ]
  },
  {
   "cell_type": "code",
   "execution_count": 19,
   "metadata": {},
   "outputs": [
    {
     "name": "stdout",
     "output_type": "stream",
     "text": [
      "A 95% confidence interval based on normal for the difference is (-0.02064291068268341,0.009002910682683413)\n"
     ]
    }
   ],
   "source": [
    "# Find confidence interval \n",
    "\n",
    "lower = delta - (hat_se*z)\n",
    "upper = delta + (hat_se*z)\n",
    "\n",
    "print(\"A 95% confidence interval based on normal for the difference is ({},{})\".format(lower,upper))"
   ]
  },
  {
   "cell_type": "code",
   "execution_count": 20,
   "metadata": {},
   "outputs": [
    {
     "data": {
      "text/plain": [
       "1.9623414611334487"
      ]
     },
     "execution_count": 20,
     "metadata": {},
     "output_type": "execute_result"
    }
   ],
   "source": [
    "t_val = t.ppf(1-alpha/2,999)\n",
    "t_val"
   ]
  },
  {
   "cell_type": "code",
   "execution_count": 21,
   "metadata": {},
   "outputs": [
    {
     "name": "stdout",
     "output_type": "stream",
     "text": [
      "A 95% confidence interval based on t for the difference is (-0.020660891177974157,0.009020891177974161)\n"
     ]
    }
   ],
   "source": [
    "lower = delta - (hat_se*t_val)\n",
    "upper = delta + (hat_se*t_val)\n",
    "\n",
    "print(\"A 95% confidence interval based on t for the difference is ({},{})\".format(lower,upper))"
   ]
  },
  {
   "cell_type": "markdown",
   "metadata": {},
   "source": [
    "#### 3. Linear Regression"
   ]
  },
  {
   "cell_type": "markdown",
   "metadata": {},
   "source": [
    "We want to see if there is an interesting relationship between Women Workforce and Sexual Harrasement Rate. First, we plot the data."
   ]
  },
  {
   "cell_type": "code",
   "execution_count": 22,
   "metadata": {},
   "outputs": [
    {
     "data": {
      "image/png": "[encoded data removed]",
      "text/plain": [
       "<matplotlib.figure.Figure at 0x109e9ff60>"
      ]
     },
     "metadata": {},
     "output_type": "display_data"
    }
   ],
   "source": [
    "plt.figure(figsize=(10,7))\n",
    "plt.scatter(df['women_percentage'], df['SH rate'], c='purple')\n",
    "\n",
    "plt.title('Relationship between Woman Employment Percentage \\nand Sexual Harrassment Rate in 2016', fontsize = 16)\n",
    "plt.xlabel('Woman Employment Percentage', fontsize = 12)\n",
    "plt.ylabel('Sexual Harrassment Rate', fontsize = 12)\n",
    "plt.xticks(fontsize = 10)\n",
    "plt.yticks(fontsize = 10);"
   ]
  },
  {
   "cell_type": "markdown",
   "metadata": {},
   "source": [
    "Then we want to fit a line to explain the relationship between such two variables.\n",
    "The functional form of this model is:\n",
    "$ \\mathrm{r}_i = \\beta_0 + \\beta_1\\mathrm{p}_i + \\epsilon_i$\n",
    "\n",
    "where $\\beta_0$ and $\\beta_1$ are the intercept and slope parameter respectively. "
   ]
  },
  {
   "cell_type": "code",
   "execution_count": 23,
   "metadata": {
    "collapsed": true
   },
   "outputs": [],
   "source": [
    "y = df['SH rate']\n",
    "X = df['women_percentage']\n",
    "\n",
    "X = sm.add_constant(X)\n",
    "\n",
    "model = sm.OLS(y, X)\n",
    "results = model.fit() \n"
   ]
  },
  {
   "cell_type": "code",
   "execution_count": 24,
   "metadata": {},
   "outputs": [
    {
     "data": {
      "text/html": [
       "<table class=\"simpletable\">\n",
       "<caption>OLS Regression Results</caption>\n",
       "<tr>\n",
       "  <th>Dep. Variable:</th>         <td>SH rate</td>     <th>  R-squared:         </th> <td>   0.034</td>\n",
       "</tr>\n",
       "<tr>\n",
       "  <th>Model:</th>                   <td>OLS</td>       <th>  Adj. R-squared:    </th> <td>  -0.020</td>\n",
       "</tr>\n",
       "<tr>\n",
       "  <th>Method:</th>             <td>Least Squares</td>  <th>  F-statistic:       </th> <td>  0.6362</td>\n",
       "</tr>\n",
       "<tr>\n",
       "  <th>Date:</th>             <td>Mon, 07 May 2018</td> <th>  Prob (F-statistic):</th>  <td> 0.435</td> \n",
       "</tr>\n",
       "<tr>\n",
       "  <th>Time:</th>                 <td>23:31:00</td>     <th>  Log-Likelihood:    </th> <td>  64.057</td>\n",
       "</tr>\n",
       "<tr>\n",
       "  <th>No. Observations:</th>      <td>    20</td>      <th>  AIC:               </th> <td>  -124.1</td>\n",
       "</tr>\n",
       "<tr>\n",
       "  <th>Df Residuals:</th>          <td>    18</td>      <th>  BIC:               </th> <td>  -122.1</td>\n",
       "</tr>\n",
       "<tr>\n",
       "  <th>Df Model:</th>              <td>     1</td>      <th>                     </th>     <td> </td>   \n",
       "</tr>\n",
       "<tr>\n",
       "  <th>Covariance Type:</th>      <td>nonrobust</td>    <th>                     </th>     <td> </td>   \n",
       "</tr>\n",
       "</table>\n",
       "<table class=\"simpletable\">\n",
       "<tr>\n",
       "          <td></td>            <th>coef</th>     <th>std err</th>      <th>t</th>      <th>P>|t|</th>  <th>[0.025</th>    <th>0.975]</th>  \n",
       "</tr>\n",
       "<tr>\n",
       "  <th>const</th>            <td>    0.0213</td> <td>    0.006</td> <td>    3.313</td> <td> 0.004</td> <td>    0.008</td> <td>    0.035</td>\n",
       "</tr>\n",
       "<tr>\n",
       "  <th>women_percentage</th> <td>   -0.0113</td> <td>    0.014</td> <td>   -0.798</td> <td> 0.435</td> <td>   -0.041</td> <td>    0.018</td>\n",
       "</tr>\n",
       "</table>\n",
       "<table class=\"simpletable\">\n",
       "<tr>\n",
       "  <th>Omnibus:</th>       <td>29.100</td> <th>  Durbin-Watson:     </th> <td>   2.567</td>\n",
       "</tr>\n",
       "<tr>\n",
       "  <th>Prob(Omnibus):</th> <td> 0.000</td> <th>  Jarque-Bera (JB):  </th> <td>  56.291</td>\n",
       "</tr>\n",
       "<tr>\n",
       "  <th>Skew:</th>          <td> 2.378</td> <th>  Prob(JB):          </th> <td>5.98e-13</td>\n",
       "</tr>\n",
       "<tr>\n",
       "  <th>Kurtosis:</th>      <td> 9.704</td> <th>  Cond. No.          </th> <td>    7.21</td>\n",
       "</tr>\n",
       "</table>"
      ],
      "text/plain": [
       "<class 'statsmodels.iolib.summary.Summary'>\n",
       "\"\"\"\n",
       "                            OLS Regression Results                            \n",
       "==============================================================================\n",
       "Dep. Variable:                SH rate   R-squared:                       0.034\n",
       "Model:                            OLS   Adj. R-squared:                 -0.020\n",
       "Method:                 Least Squares   F-statistic:                    0.6362\n",
       "Date:                Mon, 07 May 2018   Prob (F-statistic):              0.435\n",
       "Time:                        23:31:00   Log-Likelihood:                 64.057\n",
       "No. Observations:                  20   AIC:                            -124.1\n",
       "Df Residuals:                      18   BIC:                            -122.1\n",
       "Df Model:                           1                                         \n",
       "Covariance Type:            nonrobust                                         \n",
       "====================================================================================\n",
       "                       coef    std err          t      P>|t|      [0.025      0.975]\n",
       "------------------------------------------------------------------------------------\n",
       "const                0.0213      0.006      3.313      0.004       0.008       0.035\n",
       "women_percentage    -0.0113      0.014     -0.798      0.435      -0.041       0.018\n",
       "==============================================================================\n",
       "Omnibus:                       29.100   Durbin-Watson:                   2.567\n",
       "Prob(Omnibus):                  0.000   Jarque-Bera (JB):               56.291\n",
       "Skew:                           2.378   Prob(JB):                     5.98e-13\n",
       "Kurtosis:                       9.704   Cond. No.                         7.21\n",
       "==============================================================================\n",
       "\n",
       "Warnings:\n",
       "[1] Standard Errors assume that the covariance matrix of the errors is correctly specified.\n",
       "\"\"\""
      ]
     },
     "execution_count": 24,
     "metadata": {},
     "output_type": "execute_result"
    }
   ],
   "source": [
    "results.summary()"
   ]
  },
  {
   "cell_type": "markdown",
   "metadata": {},
   "source": [
    "From the model coefficients (the coef column), we can write that the model fitted in this case is the line $ \\widehat{\\mathrm{r}} = 0.0213 + (-0.0113)\\widehat{\\mathrm{p}} $\n",
    "\n",
    "Then we plot the line on the data."
   ]
  },
  {
   "cell_type": "code",
   "execution_count": 25,
   "metadata": {
    "collapsed": true
   },
   "outputs": [],
   "source": [
    "xVals = np.linspace(0.1, 0.8, 1000) \n",
    "yVals = 0.0213+(-0.0113)*xVals"
   ]
  },
  {
   "cell_type": "code",
   "execution_count": 26,
   "metadata": {},
   "outputs": [
    {
     "data": {
      "image/png": "[encoded data removed]",
      "text/plain": [
       "<matplotlib.figure.Figure at 0x10f2ec2b0>"
      ]
     },
     "metadata": {},
     "output_type": "display_data"
    }
   ],
   "source": [
    "plt.figure(figsize=(10,7))\n",
    "plt.scatter(df['women_percentage'], df['SH rate'], s=20, c='blue', label='Actual')\n",
    "plt.plot(xVals, yVals, 'r-', lw=0.5, label='y = 0.0213－(0.0113)x')\n",
    "plt.plot()\n",
    "\n",
    "plt.title('Relationship between Woman Employment Percentage \\nand Sexual Harrassment Rate in 2016', fontsize = 16)\n",
    "plt.xlabel('Woman Employment Percentage', fontsize = 12)\n",
    "plt.ylabel('Sexual Harrasement Rate', fontsize = 12)\n",
    "plt.xticks(fontsize = 10)\n",
    "plt.yticks(fontsize = 10);\n",
    "plt.legend(loc='lower left', fontsize = 10);"
   ]
  },
  {
   "cell_type": "markdown",
   "metadata": {},
   "source": [
    "The line shows that there is a slightly negative relationship between women workforce and sexual harrassment rate. However, the points are distributed sparsely around the line. So it is not very convincing to conclude that a higher women workforce will result in a lower sexual harrassment rate. "
   ]
  },
  {
   "cell_type": "markdown",
   "metadata": {},
   "source": [
    "Now we will do the same procedure for average hourly wage."
   ]
  },
  {
   "cell_type": "code",
   "execution_count": 27,
   "metadata": {},
   "outputs": [
    {
     "data": {
      "image/png": "[encoded data removed]",
      "text/plain": [
       "<matplotlib.figure.Figure at 0x10f2ea6a0>"
      ]
     },
     "metadata": {},
     "output_type": "display_data"
    }
   ],
   "source": [
    "plt.figure(figsize=(10,7))\n",
    "plt.scatter(df['avg_hrly_earnings'], df['SH rate'], c='purple')\n",
    "\n",
    "plt.title('Relationship between Average Hourly Earnings \\nand Sexual Harrasement rate in 2016', fontsize = 16)\n",
    "plt.xlabel('Average Hourly Earnings', fontsize = 12)\n",
    "plt.ylabel('Sexual Harrasement rate', fontsize = 12)\n",
    "plt.xticks(fontsize = 10)\n",
    "plt.yticks(fontsize = 10);"
   ]
  },
  {
   "cell_type": "code",
   "execution_count": 28,
   "metadata": {
    "collapsed": true
   },
   "outputs": [],
   "source": [
    "y = df['SH rate']\n",
    "X = df['avg_hrly_earnings']\n",
    "\n",
    "X = sm.add_constant(X)\n",
    "\n",
    "model = sm.OLS(y, X)\n",
    "results = model.fit()   "
   ]
  },
  {
   "cell_type": "code",
   "execution_count": 29,
   "metadata": {},
   "outputs": [
    {
     "data": {
      "text/html": [
       "<table class=\"simpletable\">\n",
       "<caption>OLS Regression Results</caption>\n",
       "<tr>\n",
       "  <th>Dep. Variable:</th>         <td>SH rate</td>     <th>  R-squared:         </th> <td>   0.169</td>\n",
       "</tr>\n",
       "<tr>\n",
       "  <th>Model:</th>                   <td>OLS</td>       <th>  Adj. R-squared:    </th> <td>   0.123</td>\n",
       "</tr>\n",
       "<tr>\n",
       "  <th>Method:</th>             <td>Least Squares</td>  <th>  F-statistic:       </th> <td>   3.669</td>\n",
       "</tr>\n",
       "<tr>\n",
       "  <th>Date:</th>             <td>Mon, 07 May 2018</td> <th>  Prob (F-statistic):</th>  <td>0.0715</td> \n",
       "</tr>\n",
       "<tr>\n",
       "  <th>Time:</th>                 <td>23:31:05</td>     <th>  Log-Likelihood:    </th> <td>  65.564</td>\n",
       "</tr>\n",
       "<tr>\n",
       "  <th>No. Observations:</th>      <td>    20</td>      <th>  AIC:               </th> <td>  -127.1</td>\n",
       "</tr>\n",
       "<tr>\n",
       "  <th>Df Residuals:</th>          <td>    18</td>      <th>  BIC:               </th> <td>  -125.1</td>\n",
       "</tr>\n",
       "<tr>\n",
       "  <th>Df Model:</th>              <td>     1</td>      <th>                     </th>     <td> </td>   \n",
       "</tr>\n",
       "<tr>\n",
       "  <th>Covariance Type:</th>      <td>nonrobust</td>    <th>                     </th>     <td> </td>   \n",
       "</tr>\n",
       "</table>\n",
       "<table class=\"simpletable\">\n",
       "<tr>\n",
       "          <td></td>             <th>coef</th>     <th>std err</th>      <th>t</th>      <th>P>|t|</th>  <th>[0.025</th>    <th>0.975]</th>  \n",
       "</tr>\n",
       "<tr>\n",
       "  <th>const</th>             <td>    0.0304</td> <td>    0.008</td> <td>    4.025</td> <td> 0.001</td> <td>    0.015</td> <td>    0.046</td>\n",
       "</tr>\n",
       "<tr>\n",
       "  <th>avg_hrly_earnings</th> <td>   -0.0005</td> <td>    0.000</td> <td>   -1.915</td> <td> 0.071</td> <td>   -0.001</td> <td>  5.1e-05</td>\n",
       "</tr>\n",
       "</table>\n",
       "<table class=\"simpletable\">\n",
       "<tr>\n",
       "  <th>Omnibus:</th>       <td>24.123</td> <th>  Durbin-Watson:     </th> <td>   2.084</td>\n",
       "</tr>\n",
       "<tr>\n",
       "  <th>Prob(Omnibus):</th> <td> 0.000</td> <th>  Jarque-Bera (JB):  </th> <td>  37.073</td>\n",
       "</tr>\n",
       "<tr>\n",
       "  <th>Skew:</th>          <td> 2.058</td> <th>  Prob(JB):          </th> <td>8.90e-09</td>\n",
       "</tr>\n",
       "<tr>\n",
       "  <th>Kurtosis:</th>      <td> 8.249</td> <th>  Cond. No.          </th> <td>    96.5</td>\n",
       "</tr>\n",
       "</table>"
      ],
      "text/plain": [
       "<class 'statsmodels.iolib.summary.Summary'>\n",
       "\"\"\"\n",
       "                            OLS Regression Results                            \n",
       "==============================================================================\n",
       "Dep. Variable:                SH rate   R-squared:                       0.169\n",
       "Model:                            OLS   Adj. R-squared:                  0.123\n",
       "Method:                 Least Squares   F-statistic:                     3.669\n",
       "Date:                Mon, 07 May 2018   Prob (F-statistic):             0.0715\n",
       "Time:                        23:31:05   Log-Likelihood:                 65.564\n",
       "No. Observations:                  20   AIC:                            -127.1\n",
       "Df Residuals:                      18   BIC:                            -125.1\n",
       "Df Model:                           1                                         \n",
       "Covariance Type:            nonrobust                                         \n",
       "=====================================================================================\n",
       "                        coef    std err          t      P>|t|      [0.025      0.975]\n",
       "-------------------------------------------------------------------------------------\n",
       "const                 0.0304      0.008      4.025      0.001       0.015       0.046\n",
       "avg_hrly_earnings    -0.0005      0.000     -1.915      0.071      -0.001     5.1e-05\n",
       "==============================================================================\n",
       "Omnibus:                       24.123   Durbin-Watson:                   2.084\n",
       "Prob(Omnibus):                  0.000   Jarque-Bera (JB):               37.073\n",
       "Skew:                           2.058   Prob(JB):                     8.90e-09\n",
       "Kurtosis:                       8.249   Cond. No.                         96.5\n",
       "==============================================================================\n",
       "\n",
       "Warnings:\n",
       "[1] Standard Errors assume that the covariance matrix of the errors is correctly specified.\n",
       "\"\"\""
      ]
     },
     "execution_count": 29,
     "metadata": {},
     "output_type": "execute_result"
    }
   ],
   "source": [
    "results.summary()"
   ]
  },
  {
   "cell_type": "markdown",
   "metadata": {},
   "source": [
    "we can write that the model fitted in this case is the line $ \\widehat{\\mathrm{r}} = 0.0304 + (-0.0005)\\widehat{\\mathrm{p}} $ and plot the line upon the data."
   ]
  },
  {
   "cell_type": "code",
   "execution_count": 30,
   "metadata": {
    "collapsed": true
   },
   "outputs": [],
   "source": [
    "xVals = np.linspace(10, 40, 1000) \n",
    "yVals = 0.0304+(-0.0005)*xVals"
   ]
  },
  {
   "cell_type": "code",
   "execution_count": 31,
   "metadata": {},
   "outputs": [
    {
     "data": {
      "image/png": "[encoded data removed]",
      "text/plain": [
       "<matplotlib.figure.Figure at 0x10f4f05f8>"
      ]
     },
     "metadata": {},
     "output_type": "display_data"
    }
   ],
   "source": [
    "plt.figure(figsize=(10,7))\n",
    "plt.scatter(df['avg_hrly_earnings'], df['SH rate'], s=20, c='green', label='Actual')\n",
    "plt.plot(xVals, yVals, 'r-', lw=0.5, label='y = 0.0304－(0.0005)x')\n",
    "plt.plot()\n",
    "\n",
    "plt.title('Relationship between Average Hourly Earnings \\nand Sexual Harrassment Rate in 2016', fontsize = 16)\n",
    "plt.xlabel('Average Hourly Earnings', fontsize = 12)\n",
    "plt.ylabel('Sexual Harrassment Rate', fontsize = 12)\n",
    "plt.xticks(fontsize = 10)\n",
    "plt.yticks(fontsize = 10);\n",
    "plt.legend(loc='lower left', fontsize = 10);"
   ]
  },
  {
   "cell_type": "markdown",
   "metadata": {
    "collapsed": true
   },
   "source": [
    "The line shows that there is a slightly negative relationship between average hourly wage and sexual harrassment rate. However, the points are distributed sparsely around the line. So it is not very convincing to conclude that a well paid industry will result in a lower sexual harrassment rate. "
   ]
  },
  {
   "cell_type": "markdown",
   "metadata": {
    "collapsed": true
   },
   "source": [
    "## Conclusion"
   ]
  },
  {
   "cell_type": "markdown",
   "metadata": {},
   "source": [
    "The hypothesis tests show:<br>\n",
    "1. no difference between the sexual harrassment rate of high-wage industries and that of low-wage industries.<br>\n",
    "2. no difference between the sexual harrassment rate of high-women-workforce industries and that of low-women-workforce industries. <br>\n",
    "<br>\n",
    "\n",
    "The linear regression shows: <br>\n",
    "1. There is a slightly negative relationship between wage and sexual harrassment rate. However, such relation is not very convincing since the data points are distributed sparsely around the line. <br>\n",
    "2. There is a slightly negative relationship between women workforce and sexual harrassment rate. However, such relation is not very convincing since the data points are distributed sparsely around the line. <br>\n"
   ]
  }
 ],
 "metadata": {
  "kernelspec": {
   "display_name": "Python 3",
   "language": "python",
   "name": "python3"
  },
  "language_info": {
   "codemirror_mode": {
    "name": "ipython",
    "version": 3
   },
   "file_extension": ".py",
   "mimetype": "text/x-python",
   "name": "python",
   "nbconvert_exporter": "python",
   "pygments_lexer": "ipython3",
   "version": "3.6.3"
  }
 },
 "nbformat": 4,
 "nbformat_minor": 2
}
