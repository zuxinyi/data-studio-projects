{
 "cells": [
  {
   "cell_type": "code",
   "execution_count": 41,
   "metadata": {
    "collapsed": true
   },
   "outputs": [],
   "source": [
    "import pandas as pd"
   ]
  },
  {
   "cell_type": "code",
   "execution_count": 42,
   "metadata": {
    "collapsed": true
   },
   "outputs": [],
   "source": [
    "import json"
   ]
  },
  {
   "cell_type": "code",
   "execution_count": 43,
   "metadata": {
    "scrolled": true
   },
   "outputs": [
    {
     "data": {
      "text/plain": [
       "dict_keys(['programs'])"
      ]
     },
     "execution_count": 43,
     "metadata": {},
     "output_type": "execute_result"
    }
   ],
   "source": [
    "data = json.loads(open(\"complete.json\").read())\n",
    "data.keys()"
   ]
  },
  {
   "cell_type": "code",
   "execution_count": 44,
   "metadata": {},
   "outputs": [
    {
     "name": "stderr",
     "output_type": "stream",
     "text": [
      "/usr/local/lib/python3.6/site-packages/IPython/core/interactiveshell.py:2698: DtypeWarning: Columns (8) have mixed types. Specify dtype option on import or set low_memory=False.\n",
      "  interactivity=interactivity, compiler=compiler, result=result)\n"
     ]
    }
   ],
   "source": [
    "ny_phil = pd.read_csv('ny_phil.csv')"
   ]
  },
  {
   "cell_type": "code",
   "execution_count": 45,
   "metadata": {},
   "outputs": [
    {
     "data": {
      "text/html": [
       "<div>\n",
       "<style>\n",
       "    .dataframe thead tr:only-child th {\n",
       "        text-align: right;\n",
       "    }\n",
       "\n",
       "    .dataframe thead th {\n",
       "        text-align: left;\n",
       "    }\n",
       "\n",
       "    .dataframe tbody tr th {\n",
       "        vertical-align: top;\n",
       "    }\n",
       "</style>\n",
       "<table border=\"1\" class=\"dataframe\">\n",
       "  <thead>\n",
       "    <tr style=\"text-align: right;\">\n",
       "      <th></th>\n",
       "      <th>Date</th>\n",
       "      <th>Location</th>\n",
       "      <th>Time</th>\n",
       "      <th>Venue</th>\n",
       "      <th>eventType</th>\n",
       "      <th>id</th>\n",
       "      <th>composerName</th>\n",
       "      <th>conductorName</th>\n",
       "      <th>interval</th>\n",
       "      <th>movement</th>\n",
       "      <th>workTitle</th>\n",
       "      <th>soloistInstrument</th>\n",
       "      <th>soloistName</th>\n",
       "      <th>soloistRoles</th>\n",
       "      <th>season</th>\n",
       "      <th>programID</th>\n",
       "      <th>orchestra</th>\n",
       "    </tr>\n",
       "  </thead>\n",
       "  <tbody>\n",
       "    <tr>\n",
       "      <th>0</th>\n",
       "      <td>1842-12-07T05:00:00Z</td>\n",
       "      <td>Manhattan, NY</td>\n",
       "      <td>8:00PM</td>\n",
       "      <td>Apollo Rooms</td>\n",
       "      <td>Subscription Season</td>\n",
       "      <td>38e072a7-8fc9-4f9a-8eac-3957905c0002</td>\n",
       "      <td>Beethoven,  Ludwig  van</td>\n",
       "      <td>Hill, Ureli Corelli</td>\n",
       "      <td>NaN</td>\n",
       "      <td>NaN</td>\n",
       "      <td>SYMPHONY NO. 5 IN C MINOR, OP.67</td>\n",
       "      <td>Soprano</td>\n",
       "      <td>Otto, Antoinette</td>\n",
       "      <td>S</td>\n",
       "      <td>1842-43</td>\n",
       "      <td>3853.0</td>\n",
       "      <td>New York Philharmonic</td>\n",
       "    </tr>\n",
       "    <tr>\n",
       "      <th>1</th>\n",
       "      <td>1842-12-07T05:00:00Z</td>\n",
       "      <td>Manhattan, NY</td>\n",
       "      <td>8:00PM</td>\n",
       "      <td>Apollo Rooms</td>\n",
       "      <td>Subscription Season</td>\n",
       "      <td>38e072a7-8fc9-4f9a-8eac-3957905c0002</td>\n",
       "      <td>Beethoven,  Ludwig  van</td>\n",
       "      <td>Hill, Ureli Corelli</td>\n",
       "      <td>NaN</td>\n",
       "      <td>NaN</td>\n",
       "      <td>SYMPHONY NO. 5 IN C MINOR, OP.67</td>\n",
       "      <td>Piano</td>\n",
       "      <td>Scharfenberg, William</td>\n",
       "      <td>A</td>\n",
       "      <td>1842-43</td>\n",
       "      <td>3853.0</td>\n",
       "      <td>New York Philharmonic</td>\n",
       "    </tr>\n",
       "    <tr>\n",
       "      <th>2</th>\n",
       "      <td>1842-12-07T05:00:00Z</td>\n",
       "      <td>Manhattan, NY</td>\n",
       "      <td>8:00PM</td>\n",
       "      <td>Apollo Rooms</td>\n",
       "      <td>Subscription Season</td>\n",
       "      <td>38e072a7-8fc9-4f9a-8eac-3957905c0002</td>\n",
       "      <td>Beethoven,  Ludwig  van</td>\n",
       "      <td>Hill, Ureli Corelli</td>\n",
       "      <td>NaN</td>\n",
       "      <td>NaN</td>\n",
       "      <td>SYMPHONY NO. 5 IN C MINOR, OP.67</td>\n",
       "      <td>Violin</td>\n",
       "      <td>Hill, Ureli Corelli</td>\n",
       "      <td>A</td>\n",
       "      <td>1842-43</td>\n",
       "      <td>3853.0</td>\n",
       "      <td>New York Philharmonic</td>\n",
       "    </tr>\n",
       "    <tr>\n",
       "      <th>3</th>\n",
       "      <td>1842-12-07T05:00:00Z</td>\n",
       "      <td>Manhattan, NY</td>\n",
       "      <td>8:00PM</td>\n",
       "      <td>Apollo Rooms</td>\n",
       "      <td>Subscription Season</td>\n",
       "      <td>38e072a7-8fc9-4f9a-8eac-3957905c0002</td>\n",
       "      <td>Beethoven,  Ludwig  van</td>\n",
       "      <td>Hill, Ureli Corelli</td>\n",
       "      <td>NaN</td>\n",
       "      <td>NaN</td>\n",
       "      <td>SYMPHONY NO. 5 IN C MINOR, OP.67</td>\n",
       "      <td>Viola</td>\n",
       "      <td>Derwort, G. H.</td>\n",
       "      <td>A</td>\n",
       "      <td>1842-43</td>\n",
       "      <td>3853.0</td>\n",
       "      <td>New York Philharmonic</td>\n",
       "    </tr>\n",
       "    <tr>\n",
       "      <th>4</th>\n",
       "      <td>1842-12-07T05:00:00Z</td>\n",
       "      <td>Manhattan, NY</td>\n",
       "      <td>8:00PM</td>\n",
       "      <td>Apollo Rooms</td>\n",
       "      <td>Subscription Season</td>\n",
       "      <td>38e072a7-8fc9-4f9a-8eac-3957905c0002</td>\n",
       "      <td>Beethoven,  Ludwig  van</td>\n",
       "      <td>Hill, Ureli Corelli</td>\n",
       "      <td>NaN</td>\n",
       "      <td>NaN</td>\n",
       "      <td>SYMPHONY NO. 5 IN C MINOR, OP.67</td>\n",
       "      <td>Cello</td>\n",
       "      <td>Boucher, Alfred</td>\n",
       "      <td>A</td>\n",
       "      <td>1842-43</td>\n",
       "      <td>3853.0</td>\n",
       "      <td>New York Philharmonic</td>\n",
       "    </tr>\n",
       "  </tbody>\n",
       "</table>\n",
       "</div>"
      ],
      "text/plain": [
       "                   Date       Location    Time         Venue  \\\n",
       "0  1842-12-07T05:00:00Z  Manhattan, NY  8:00PM  Apollo Rooms   \n",
       "1  1842-12-07T05:00:00Z  Manhattan, NY  8:00PM  Apollo Rooms   \n",
       "2  1842-12-07T05:00:00Z  Manhattan, NY  8:00PM  Apollo Rooms   \n",
       "3  1842-12-07T05:00:00Z  Manhattan, NY  8:00PM  Apollo Rooms   \n",
       "4  1842-12-07T05:00:00Z  Manhattan, NY  8:00PM  Apollo Rooms   \n",
       "\n",
       "             eventType                                    id  \\\n",
       "0  Subscription Season  38e072a7-8fc9-4f9a-8eac-3957905c0002   \n",
       "1  Subscription Season  38e072a7-8fc9-4f9a-8eac-3957905c0002   \n",
       "2  Subscription Season  38e072a7-8fc9-4f9a-8eac-3957905c0002   \n",
       "3  Subscription Season  38e072a7-8fc9-4f9a-8eac-3957905c0002   \n",
       "4  Subscription Season  38e072a7-8fc9-4f9a-8eac-3957905c0002   \n",
       "\n",
       "              composerName        conductorName interval movement  \\\n",
       "0  Beethoven,  Ludwig  van  Hill, Ureli Corelli      NaN      NaN   \n",
       "1  Beethoven,  Ludwig  van  Hill, Ureli Corelli      NaN      NaN   \n",
       "2  Beethoven,  Ludwig  van  Hill, Ureli Corelli      NaN      NaN   \n",
       "3  Beethoven,  Ludwig  van  Hill, Ureli Corelli      NaN      NaN   \n",
       "4  Beethoven,  Ludwig  van  Hill, Ureli Corelli      NaN      NaN   \n",
       "\n",
       "                          workTitle soloistInstrument            soloistName  \\\n",
       "0  SYMPHONY NO. 5 IN C MINOR, OP.67           Soprano       Otto, Antoinette   \n",
       "1  SYMPHONY NO. 5 IN C MINOR, OP.67             Piano  Scharfenberg, William   \n",
       "2  SYMPHONY NO. 5 IN C MINOR, OP.67            Violin    Hill, Ureli Corelli   \n",
       "3  SYMPHONY NO. 5 IN C MINOR, OP.67             Viola         Derwort, G. H.   \n",
       "4  SYMPHONY NO. 5 IN C MINOR, OP.67             Cello        Boucher, Alfred   \n",
       "\n",
       "  soloistRoles   season  programID              orchestra  \n",
       "0            S  1842-43     3853.0  New York Philharmonic  \n",
       "1            A  1842-43     3853.0  New York Philharmonic  \n",
       "2            A  1842-43     3853.0  New York Philharmonic  \n",
       "3            A  1842-43     3853.0  New York Philharmonic  \n",
       "4            A  1842-43     3853.0  New York Philharmonic  "
      ]
     },
     "execution_count": 45,
     "metadata": {},
     "output_type": "execute_result"
    }
   ],
   "source": [
    "ny_phil[ny_phil.composerName.str.contains('Beethoven') & ny_phil.composerName.notnull()].head()"
   ]
  },
  {
   "cell_type": "code",
   "execution_count": 46,
   "metadata": {},
   "outputs": [
    {
     "data": {
      "text/html": [
       "<div>\n",
       "<style>\n",
       "    .dataframe thead tr:only-child th {\n",
       "        text-align: right;\n",
       "    }\n",
       "\n",
       "    .dataframe thead th {\n",
       "        text-align: left;\n",
       "    }\n",
       "\n",
       "    .dataframe tbody tr th {\n",
       "        vertical-align: top;\n",
       "    }\n",
       "</style>\n",
       "<table border=\"1\" class=\"dataframe\">\n",
       "  <thead>\n",
       "    <tr style=\"text-align: right;\">\n",
       "      <th></th>\n",
       "      <th>workTitle</th>\n",
       "      <th>composerName</th>\n",
       "      <th>season</th>\n",
       "      <th>count</th>\n",
       "    </tr>\n",
       "  </thead>\n",
       "  <tbody>\n",
       "    <tr>\n",
       "      <th>32605</th>\n",
       "      <td>WEST SIDE STORY, SYMPHONIC DANCES</td>\n",
       "      <td>Bernstein,  Leonard</td>\n",
       "      <td>2016-17</td>\n",
       "      <td>1</td>\n",
       "    </tr>\n",
       "    <tr>\n",
       "      <th>32606</th>\n",
       "      <td>WEXFORD CAROL (ARR. Snedecor)</td>\n",
       "      <td>Anonymous,</td>\n",
       "      <td>2016-17</td>\n",
       "      <td>1</td>\n",
       "    </tr>\n",
       "    <tr>\n",
       "      <th>32607</th>\n",
       "      <td>WING ON WING</td>\n",
       "      <td>Salonen,  Esa-Pekka</td>\n",
       "      <td>2016-17</td>\n",
       "      <td>1</td>\n",
       "    </tr>\n",
       "    <tr>\n",
       "      <th>32608</th>\n",
       "      <td>YOGA</td>\n",
       "      <td>Bjork [Björk],</td>\n",
       "      <td>2016-17</td>\n",
       "      <td>1</td>\n",
       "    </tr>\n",
       "    <tr>\n",
       "      <th>32609</th>\n",
       "      <td>YOU ARE MY SUNSHINE  (ARR. Young)</td>\n",
       "      <td>Davis,  Jimmie</td>\n",
       "      <td>2016-17</td>\n",
       "      <td>1</td>\n",
       "    </tr>\n",
       "  </tbody>\n",
       "</table>\n",
       "</div>"
      ],
      "text/plain": [
       "                               workTitle         composerName   season  count\n",
       "32605  WEST SIDE STORY, SYMPHONIC DANCES  Bernstein,  Leonard  2016-17      1\n",
       "32606      WEXFORD CAROL (ARR. Snedecor)           Anonymous,  2016-17      1\n",
       "32607                       WING ON WING  Salonen,  Esa-Pekka  2016-17      1\n",
       "32608                               YOGA       Bjork [Björk],  2016-17      1\n",
       "32609  YOU ARE MY SUNSHINE  (ARR. Young)       Davis,  Jimmie  2016-17      1"
      ]
     },
     "execution_count": 46,
     "metadata": {},
     "output_type": "execute_result"
    }
   ],
   "source": [
    "phil_composer = ny_phil.groupby(['season','workTitle'])['composerName'].value_counts().reset_index(level=0)\n",
    "phil_composer = phil_composer.rename(columns = {'composerName':'count'}).reset_index()\n",
    "phil_composer['count'] = 1\n",
    "phil_composer.tail()"
   ]
  },
  {
   "cell_type": "code",
   "execution_count": 47,
   "metadata": {
    "collapsed": true
   },
   "outputs": [],
   "source": [
    "composer_data = phil_composer[phil_composer.composerName.str.contains('Beethoven|Mozart,  Wolfgang|Wagner,  Richard|Tchaikovsky')]"
   ]
  },
  {
   "cell_type": "code",
   "execution_count": 48,
   "metadata": {},
   "outputs": [
    {
     "name": "stderr",
     "output_type": "stream",
     "text": [
      "/usr/local/lib/python3.6/site-packages/ipykernel_launcher.py:1: FutureWarning: currently extract(expand=None) means expand=False (return Index/Series/DataFrame) but in a future version of pandas this will be changed to expand=True (return DataFrame)\n",
      "  \"\"\"Entry point for launching an IPython kernel.\n",
      "/usr/local/lib/python3.6/site-packages/ipykernel_launcher.py:1: SettingWithCopyWarning: \n",
      "A value is trying to be set on a copy of a slice from a DataFrame.\n",
      "Try using .loc[row_indexer,col_indexer] = value instead\n",
      "\n",
      "See the caveats in the documentation: http://pandas.pydata.org/pandas-docs/stable/indexing.html#indexing-view-versus-copy\n",
      "  \"\"\"Entry point for launching an IPython kernel.\n"
     ]
    }
   ],
   "source": [
    "composer_data['year'] = composer_data['season'].astype(str).str.extract('(\\d{4}).*')\n",
    "composer_data['year'] = composer_data['year'].astype(str).astype(int)"
   ]
  },
  {
   "cell_type": "code",
   "execution_count": 49,
   "metadata": {},
   "outputs": [
    {
     "data": {
      "text/html": [
       "<div>\n",
       "<style>\n",
       "    .dataframe thead tr:only-child th {\n",
       "        text-align: right;\n",
       "    }\n",
       "\n",
       "    .dataframe thead th {\n",
       "        text-align: left;\n",
       "    }\n",
       "\n",
       "    .dataframe tbody tr th {\n",
       "        vertical-align: top;\n",
       "    }\n",
       "</style>\n",
       "<table border=\"1\" class=\"dataframe\">\n",
       "  <thead>\n",
       "    <tr style=\"text-align: right;\">\n",
       "      <th></th>\n",
       "      <th>workTitle</th>\n",
       "      <th>composerName</th>\n",
       "      <th>season</th>\n",
       "      <th>count</th>\n",
       "      <th>year</th>\n",
       "    </tr>\n",
       "  </thead>\n",
       "  <tbody>\n",
       "    <tr>\n",
       "      <th>0</th>\n",
       "      <td>ABDUCTION FROM THE SERAGLIO,THE, K.384</td>\n",
       "      <td>Mozart,  Wolfgang  Amadeus</td>\n",
       "      <td>1842-43</td>\n",
       "      <td>1</td>\n",
       "      <td>1842</td>\n",
       "    </tr>\n",
       "    <tr>\n",
       "      <th>6</th>\n",
       "      <td>EGMONT, OP.84</td>\n",
       "      <td>Beethoven,  Ludwig  van</td>\n",
       "      <td>1842-43</td>\n",
       "      <td>1</td>\n",
       "      <td>1842</td>\n",
       "    </tr>\n",
       "    <tr>\n",
       "      <th>9</th>\n",
       "      <td>FIDELIO, OP. 72</td>\n",
       "      <td>Beethoven,  Ludwig  van</td>\n",
       "      <td>1842-43</td>\n",
       "      <td>1</td>\n",
       "      <td>1842</td>\n",
       "    </tr>\n",
       "    <tr>\n",
       "      <th>14</th>\n",
       "      <td>MAGIC FLUTE, THE, K.620</td>\n",
       "      <td>Mozart,  Wolfgang  Amadeus</td>\n",
       "      <td>1842-43</td>\n",
       "      <td>1</td>\n",
       "      <td>1842</td>\n",
       "    </tr>\n",
       "    <tr>\n",
       "      <th>21</th>\n",
       "      <td>SEPTET, E-FLAT MAJOR, OP.20</td>\n",
       "      <td>Beethoven,  Ludwig  van</td>\n",
       "      <td>1842-43</td>\n",
       "      <td>1</td>\n",
       "      <td>1842</td>\n",
       "    </tr>\n",
       "  </tbody>\n",
       "</table>\n",
       "</div>"
      ],
      "text/plain": [
       "                                 workTitle                composerName  \\\n",
       "0   ABDUCTION FROM THE SERAGLIO,THE, K.384  Mozart,  Wolfgang  Amadeus   \n",
       "6                            EGMONT, OP.84     Beethoven,  Ludwig  van   \n",
       "9                          FIDELIO, OP. 72     Beethoven,  Ludwig  van   \n",
       "14                 MAGIC FLUTE, THE, K.620  Mozart,  Wolfgang  Amadeus   \n",
       "21             SEPTET, E-FLAT MAJOR, OP.20     Beethoven,  Ludwig  van   \n",
       "\n",
       "     season  count  year  \n",
       "0   1842-43      1  1842  \n",
       "6   1842-43      1  1842  \n",
       "9   1842-43      1  1842  \n",
       "14  1842-43      1  1842  \n",
       "21  1842-43      1  1842  "
      ]
     },
     "execution_count": 49,
     "metadata": {},
     "output_type": "execute_result"
    }
   ],
   "source": []
  },
  {
   "cell_type": "code",
   "execution_count": 50,
   "metadata": {},
   "outputs": [
    {
     "name": "stderr",
     "output_type": "stream",
     "text": [
      "/usr/local/lib/python3.6/site-packages/ipykernel_launcher.py:1: SettingWithCopyWarning: \n",
      "A value is trying to be set on a copy of a slice from a DataFrame.\n",
      "Try using .loc[row_indexer,col_indexer] = value instead\n",
      "\n",
      "See the caveats in the documentation: http://pandas.pydata.org/pandas-docs/stable/indexing.html#indexing-view-versus-copy\n",
      "  \"\"\"Entry point for launching an IPython kernel.\n"
     ]
    }
   ],
   "source": [
    "composer_data['year'] = composer_data['year'].astype(str).astype(int)"
   ]
  },
  {
   "cell_type": "code",
   "execution_count": 51,
   "metadata": {},
   "outputs": [
    {
     "data": {
      "text/plain": [
       "workTitle       object\n",
       "composerName    object\n",
       "season          object\n",
       "count            int64\n",
       "year             int64\n",
       "dtype: object"
      ]
     },
     "execution_count": 51,
     "metadata": {},
     "output_type": "execute_result"
    }
   ],
   "source": [
    "composer_data.dtypes"
   ]
  },
  {
   "cell_type": "code",
   "execution_count": 53,
   "metadata": {
    "collapsed": true
   },
   "outputs": [],
   "source": [
    "composer_total = phil_composer.groupby(['season','composerName'])['count'].sum().to_frame().reset_index()\n",
    "\n",
    "composer_total = phil_composer.groupby('season')['count'].sum().reset_index().rename(columns={'count':'total'})"
   ]
  },
  {
   "cell_type": "code",
   "execution_count": 54,
   "metadata": {
    "collapsed": true
   },
   "outputs": [],
   "source": [
    "#phil_composer = phil_composer.merge(composer_total, on='season', how='left')\n",
    "phil_composer = phil_composer.groupby('season')['composerName'].value_counts().to_frame().rename(columns={'composerName':'work_count'}).reset_index()"
   ]
  },
  {
   "cell_type": "code",
   "execution_count": 55,
   "metadata": {},
   "outputs": [
    {
     "data": {
      "text/html": [
       "<div>\n",
       "<style>\n",
       "    .dataframe thead tr:only-child th {\n",
       "        text-align: right;\n",
       "    }\n",
       "\n",
       "    .dataframe thead th {\n",
       "        text-align: left;\n",
       "    }\n",
       "\n",
       "    .dataframe tbody tr th {\n",
       "        vertical-align: top;\n",
       "    }\n",
       "</style>\n",
       "<table border=\"1\" class=\"dataframe\">\n",
       "  <thead>\n",
       "    <tr style=\"text-align: right;\">\n",
       "      <th></th>\n",
       "      <th>season</th>\n",
       "      <th>composerName</th>\n",
       "      <th>work_count</th>\n",
       "      <th>total</th>\n",
       "    </tr>\n",
       "  </thead>\n",
       "  <tbody>\n",
       "    <tr>\n",
       "      <th>0</th>\n",
       "      <td>1842-43</td>\n",
       "      <td>Beethoven,  Ludwig  van</td>\n",
       "      <td>6</td>\n",
       "      <td>29</td>\n",
       "    </tr>\n",
       "    <tr>\n",
       "      <th>1</th>\n",
       "      <td>1842-43</td>\n",
       "      <td>Hummel,  Johann</td>\n",
       "      <td>3</td>\n",
       "      <td>29</td>\n",
       "    </tr>\n",
       "  </tbody>\n",
       "</table>\n",
       "</div>"
      ],
      "text/plain": [
       "    season             composerName  work_count  total\n",
       "0  1842-43  Beethoven,  Ludwig  van           6     29\n",
       "1  1842-43          Hummel,  Johann           3     29"
      ]
     },
     "execution_count": 55,
     "metadata": {},
     "output_type": "execute_result"
    }
   ],
   "source": [
    "phil_composer = phil_composer.merge(composer_total, on='season', how='left')\n",
    "phil_composer.head(2)"
   ]
  },
  {
   "cell_type": "code",
   "execution_count": 56,
   "metadata": {
    "collapsed": true
   },
   "outputs": [],
   "source": [
    "phil_composer.groupby('season')['work_count'].sum().to_frame().reset_index().plot()\n",
    "plt.savefig('total_performance.pdf')"
   ]
  },
  {
   "cell_type": "code",
   "execution_count": 57,
   "metadata": {
    "collapsed": true
   },
   "outputs": [],
   "source": [
    "phil_composer['percent'] = phil_composer['work_count'] / phil_composer['total'] "
   ]
  },
  {
   "cell_type": "code",
   "execution_count": 58,
   "metadata": {},
   "outputs": [
    {
     "data": {
      "text/html": [
       "<div>\n",
       "<style>\n",
       "    .dataframe thead tr:only-child th {\n",
       "        text-align: right;\n",
       "    }\n",
       "\n",
       "    .dataframe thead th {\n",
       "        text-align: left;\n",
       "    }\n",
       "\n",
       "    .dataframe tbody tr th {\n",
       "        vertical-align: top;\n",
       "    }\n",
       "</style>\n",
       "<table border=\"1\" class=\"dataframe\">\n",
       "  <thead>\n",
       "    <tr style=\"text-align: right;\">\n",
       "      <th></th>\n",
       "      <th>season</th>\n",
       "      <th>composerName</th>\n",
       "      <th>work_count</th>\n",
       "      <th>total</th>\n",
       "      <th>percent</th>\n",
       "    </tr>\n",
       "  </thead>\n",
       "  <tbody>\n",
       "    <tr>\n",
       "      <th>0</th>\n",
       "      <td>1842-43</td>\n",
       "      <td>Beethoven,  Ludwig  van</td>\n",
       "      <td>6</td>\n",
       "      <td>29</td>\n",
       "      <td>0.206897</td>\n",
       "    </tr>\n",
       "    <tr>\n",
       "      <th>4</th>\n",
       "      <td>1842-43</td>\n",
       "      <td>Mozart,  Wolfgang  Amadeus</td>\n",
       "      <td>2</td>\n",
       "      <td>29</td>\n",
       "      <td>0.068966</td>\n",
       "    </tr>\n",
       "    <tr>\n",
       "      <th>17</th>\n",
       "      <td>1843-44</td>\n",
       "      <td>Beethoven,  Ludwig  van</td>\n",
       "      <td>2</td>\n",
       "      <td>21</td>\n",
       "      <td>0.095238</td>\n",
       "    </tr>\n",
       "    <tr>\n",
       "      <th>20</th>\n",
       "      <td>1843-44</td>\n",
       "      <td>Mozart,  Wolfgang  Amadeus</td>\n",
       "      <td>2</td>\n",
       "      <td>21</td>\n",
       "      <td>0.095238</td>\n",
       "    </tr>\n",
       "    <tr>\n",
       "      <th>31</th>\n",
       "      <td>1844-45</td>\n",
       "      <td>Beethoven,  Ludwig  van</td>\n",
       "      <td>4</td>\n",
       "      <td>26</td>\n",
       "      <td>0.153846</td>\n",
       "    </tr>\n",
       "  </tbody>\n",
       "</table>\n",
       "</div>"
      ],
      "text/plain": [
       "     season                composerName  work_count  total   percent\n",
       "0   1842-43     Beethoven,  Ludwig  van           6     29  0.206897\n",
       "4   1842-43  Mozart,  Wolfgang  Amadeus           2     29  0.068966\n",
       "17  1843-44     Beethoven,  Ludwig  van           2     21  0.095238\n",
       "20  1843-44  Mozart,  Wolfgang  Amadeus           2     21  0.095238\n",
       "31  1844-45     Beethoven,  Ludwig  van           4     26  0.153846"
      ]
     },
     "execution_count": 58,
     "metadata": {},
     "output_type": "execute_result"
    }
   ],
   "source": [
    "top4 = phil_composer[phil_composer['composerName'].str.contains('Beethoven|Mozart,  Wolfgang|Wagner,  Richard|Tchaikovsky')]\n",
    "top4.head()"
   ]
  },
  {
   "cell_type": "code",
   "execution_count": 61,
   "metadata": {
    "collapsed": true
   },
   "outputs": [],
   "source": [
    "import matplotlib.pyplot as plt\n",
    "\n",
    "#fig, ax = plt.subplots()\n",
    "top4[top4.composerName.str.contains('Beethoven')].plot(x='season', y='work_count', legend=False)\n",
    "plt.savefig('composer_percentage_b_count.pdf')"
   ]
  },
  {
   "cell_type": "code",
   "execution_count": 60,
   "metadata": {},
   "outputs": [
    {
     "data": {
      "text/plain": [
       "<matplotlib.axes._subplots.AxesSubplot at 0x10e969240>"
      ]
     },
     "execution_count": 60,
     "metadata": {},
     "output_type": "execute_result"
    }
   ],
   "source": [
    "top4[top4.composerName.str.contains('Beethoven')].work_count.plot()#.area(stacked=False)"
   ]
  },
  {
   "cell_type": "code",
   "execution_count": 62,
   "metadata": {
    "collapsed": true
   },
   "outputs": [],
   "source": [
    "all_data = data['programs']\n",
    "list_of_allcomposer = []\n",
    "list_of_allwork = []\n",
    "list_of_season = []\n",
    "for concert in all_data:\n",
    "    for work in concert['works']:\n",
    "        if work['ID'] != \"0*\" and 'composerName' in work:#print(work['ID'])\n",
    "            #print(work['composerName'])\n",
    "            list_of_allcomposer.append(work['composerName'])\n",
    "            list_of_allwork.append(work['workTitle'])\n",
    "            list_of_season.append(concert['season'])\n",
    "        \n",
    "info_all = pd.DataFrame(\n",
    "    {'composer': list_of_allcomposer,\n",
    "     'work': list_of_allwork,\n",
    "     'season':list_of_season\n",
    "    })"
   ]
  },
  {
   "cell_type": "code",
   "execution_count": 105,
   "metadata": {},
   "outputs": [
    {
     "name": "stderr",
     "output_type": "stream",
     "text": [
      "/usr/local/lib/python3.6/site-packages/ipykernel_launcher.py:3: FutureWarning: currently extract(expand=None) means expand=False (return Index/Series/DataFrame) but in a future version of pandas this will be changed to expand=True (return DataFrame)\n",
      "  This is separate from the ipykernel package so we can avoid doing imports until\n",
      "/usr/local/lib/python3.6/site-packages/ipykernel_launcher.py:3: SettingWithCopyWarning: \n",
      "A value is trying to be set on a copy of a slice from a DataFrame.\n",
      "Try using .loc[row_indexer,col_indexer] = value instead\n",
      "\n",
      "See the caveats in the documentation: http://pandas.pydata.org/pandas-docs/stable/indexing.html#indexing-view-versus-copy\n",
      "  This is separate from the ipykernel package so we can avoid doing imports until\n",
      "/usr/local/lib/python3.6/site-packages/ipykernel_launcher.py:4: SettingWithCopyWarning: \n",
      "A value is trying to be set on a copy of a slice from a DataFrame.\n",
      "Try using .loc[row_indexer,col_indexer] = value instead\n",
      "\n",
      "See the caveats in the documentation: http://pandas.pydata.org/pandas-docs/stable/indexing.html#indexing-view-versus-copy\n",
      "  after removing the cwd from sys.path.\n"
     ]
    }
   ],
   "source": [
    "cdata = info_all[info_all.composer.str.contains('Beethoven|Mozart,  Wolfgang|Wagner,  Richard|Tchaikovsky')]\n",
    "\n",
    "cdata['year'] = cdata['season'].astype(str).str.extract('(\\d{4}).*')\n",
    "cdata['year'] = cdata['year'].astype(str).astype(int)"
   ]
  },
  {
   "cell_type": "code",
   "execution_count": 106,
   "metadata": {},
   "outputs": [
    {
     "data": {
      "text/plain": [
       "composer    object\n",
       "season      object\n",
       "work        object\n",
       "year         int64\n",
       "dtype: object"
      ]
     },
     "execution_count": 106,
     "metadata": {},
     "output_type": "execute_result"
    }
   ],
   "source": [
    "cdata.dtypes"
   ]
  },
  {
   "cell_type": "code",
   "execution_count": 108,
   "metadata": {
    "collapsed": true
   },
   "outputs": [],
   "source": [
    "from ggplot import *"
   ]
  },
  {
   "cell_type": "code",
   "execution_count": 130,
   "metadata": {
    "collapsed": true
   },
   "outputs": [],
   "source": [
    "from matplotlib import pyplot as plt"
   ]
  },
  {
   "cell_type": "code",
   "execution_count": 176,
   "metadata": {},
   "outputs": [
    {
     "data": {
      "image/png": "[encoded data removed]",
      "text/plain": [
       "<matplotlib.figure.Figure at 0x12a8fc9b0>"
      ]
     },
     "metadata": {},
     "output_type": "display_data"
    }
   ],
   "source": [
    "myggplot = ggplot(cdata, aes(x='year')) + \\\n",
    "    geom_histogram(alpha=.8, position = 'stack', stat = 'bin', binwidth=5, fill=\"#9B1D21\", color = \"#848484\") + \\\n",
    "    facet_wrap(\"composer\")+\\\n",
    "    geom_density() +\\\n",
    "    xlim(1842, 2016) +\\\n",
    "    ylim(0,1000)\n",
    "\n",
    "myggplot.save('gg.png', width=None, height=None, dpi=180)"
   ]
  },
  {
   "cell_type": "code",
   "execution_count": null,
   "metadata": {
    "collapsed": true
   },
   "outputs": [],
   "source": []
  },
  {
   "cell_type": "code",
   "execution_count": 63,
   "metadata": {
    "collapsed": true
   },
   "outputs": [],
   "source": [
    "beethoven = info_all[info_all.composer.str.contains('Beethoven')].groupby('season')['work'].value_counts().to_frame().reset_index(level=0)"
   ]
  },
  {
   "cell_type": "code",
   "execution_count": 64,
   "metadata": {
    "collapsed": true
   },
   "outputs": [],
   "source": [
    "beethoven=beethoven.rename(columns={'work':'b_count'})\n",
    "beethoven = beethoven.reset_index()\n",
    "beethoven=beethoven.rename(columns={'work':'b_work'})"
   ]
  },
  {
   "cell_type": "code",
   "execution_count": 350,
   "metadata": {
    "collapsed": true
   },
   "outputs": [],
   "source": [
    "#beethoven.groupby('season')['b_count'].sum().head()"
   ]
  },
  {
   "cell_type": "code",
   "execution_count": 69,
   "metadata": {},
   "outputs": [
    {
     "data": {
      "text/html": [
       "<div>\n",
       "<style>\n",
       "    .dataframe thead tr:only-child th {\n",
       "        text-align: right;\n",
       "    }\n",
       "\n",
       "    .dataframe thead th {\n",
       "        text-align: left;\n",
       "    }\n",
       "\n",
       "    .dataframe tbody tr th {\n",
       "        vertical-align: top;\n",
       "    }\n",
       "</style>\n",
       "<table border=\"1\" class=\"dataframe\">\n",
       "  <thead>\n",
       "    <tr style=\"text-align: right;\">\n",
       "      <th></th>\n",
       "      <th>season</th>\n",
       "      <th>b_count_x</th>\n",
       "      <th>m_count</th>\n",
       "      <th>b_count_y</th>\n",
       "      <th>w_count</th>\n",
       "      <th>b_count</th>\n",
       "      <th>t_count</th>\n",
       "    </tr>\n",
       "  </thead>\n",
       "  <tbody>\n",
       "    <tr>\n",
       "      <th>0</th>\n",
       "      <td>1842-43</td>\n",
       "      <td>6</td>\n",
       "      <td>2.0</td>\n",
       "      <td>6</td>\n",
       "      <td>NaN</td>\n",
       "      <td>6</td>\n",
       "      <td>NaN</td>\n",
       "    </tr>\n",
       "    <tr>\n",
       "      <th>1</th>\n",
       "      <td>1843-44</td>\n",
       "      <td>2</td>\n",
       "      <td>2.0</td>\n",
       "      <td>2</td>\n",
       "      <td>NaN</td>\n",
       "      <td>2</td>\n",
       "      <td>NaN</td>\n",
       "    </tr>\n",
       "    <tr>\n",
       "      <th>2</th>\n",
       "      <td>1844-45</td>\n",
       "      <td>4</td>\n",
       "      <td>1.0</td>\n",
       "      <td>4</td>\n",
       "      <td>NaN</td>\n",
       "      <td>4</td>\n",
       "      <td>NaN</td>\n",
       "    </tr>\n",
       "    <tr>\n",
       "      <th>3</th>\n",
       "      <td>1845-46</td>\n",
       "      <td>3</td>\n",
       "      <td>3.0</td>\n",
       "      <td>3</td>\n",
       "      <td>NaN</td>\n",
       "      <td>3</td>\n",
       "      <td>NaN</td>\n",
       "    </tr>\n",
       "    <tr>\n",
       "      <th>4</th>\n",
       "      <td>1846-47</td>\n",
       "      <td>3</td>\n",
       "      <td>2.0</td>\n",
       "      <td>3</td>\n",
       "      <td>NaN</td>\n",
       "      <td>3</td>\n",
       "      <td>NaN</td>\n",
       "    </tr>\n",
       "  </tbody>\n",
       "</table>\n",
       "</div>"
      ],
      "text/plain": [
       "    season  b_count_x  m_count  b_count_y  w_count  b_count  t_count\n",
       "0  1842-43          6      2.0          6      NaN        6      NaN\n",
       "1  1843-44          2      2.0          2      NaN        2      NaN\n",
       "2  1844-45          4      1.0          4      NaN        4      NaN\n",
       "3  1845-46          3      3.0          3      NaN        3      NaN\n",
       "4  1846-47          3      2.0          3      NaN        3      NaN"
      ]
     },
     "execution_count": 69,
     "metadata": {},
     "output_type": "execute_result"
    }
   ],
   "source": [
    "b = beethoven.groupby('season')['b_count'].sum().to_frame().reset_index()\n",
    "w = wagner.groupby('season')['w_count'].sum().to_frame().reset_index()\n",
    "t = tchai.groupby('season')['t_count'].sum().to_frame().reset_index()\n",
    "m = mozart.groupby('season')['m_count'].sum().to_frame().reset_index()\n",
    "b_w = b.merge(w, on='season', how='left')\n",
    "b_t = b.merge(t, on='season', how='left')\n",
    "# b_w_t_m = m.merge(b_w_t, on='season', how='right')\n",
    "# b_w_t_m.set_index('season',inplace=True)\n",
    "# b_w_t_m\n",
    "b_m = b.merge(m, on='season', how='left')\n",
    "b_m_w = b_m.merge(b_w, on='season', how='left')\n",
    "b_m_w_t = b_m_w.merge(b_t, on='season', how='left')\n",
    "b_m_w_t.head()"
   ]
  },
  {
   "cell_type": "code",
   "execution_count": 70,
   "metadata": {
    "collapsed": true
   },
   "outputs": [],
   "source": [
    "del b_m_w_t['b_count_x']"
   ]
  },
  {
   "cell_type": "code",
   "execution_count": 71,
   "metadata": {
    "collapsed": true
   },
   "outputs": [],
   "source": [
    "del b_m_w_t['b_count_y']"
   ]
  },
  {
   "cell_type": "code",
   "execution_count": 78,
   "metadata": {
    "collapsed": true
   },
   "outputs": [],
   "source": [
    "b_m_w_t.set_index('season').reset_index(inplace=True)\n"
   ]
  },
  {
   "cell_type": "code",
   "execution_count": 79,
   "metadata": {},
   "outputs": [
    {
     "name": "stderr",
     "output_type": "stream",
     "text": [
      "/usr/local/lib/python3.6/site-packages/ipykernel_launcher.py:1: FutureWarning: currently extract(expand=None) means expand=False (return Index/Series/DataFrame) but in a future version of pandas this will be changed to expand=True (return DataFrame)\n",
      "  \"\"\"Entry point for launching an IPython kernel.\n"
     ]
    }
   ],
   "source": [
    "b_m_w_t['year'] = b_m_w_t['season'].astype(str).str.extract('(\\d{4}).*')"
   ]
  },
  {
   "cell_type": "code",
   "execution_count": 81,
   "metadata": {
    "collapsed": true
   },
   "outputs": [],
   "source": [
    "b_m_w_t['year'] = b_m_w_t['year'].astype(str).astype(int)"
   ]
  },
  {
   "cell_type": "code",
   "execution_count": 66,
   "metadata": {},
   "outputs": [
    {
     "data": {
      "text/plain": [
       "season\n",
       "2011-12    5\n",
       "2012-13    1\n",
       "2014-15    1\n",
       "2015-16    6\n",
       "2016-17    2\n",
       "Name: w_count, dtype: int64"
      ]
     },
     "execution_count": 66,
     "metadata": {},
     "output_type": "execute_result"
    }
   ],
   "source": [
    "wagner = info_all[info_all.composer.str.contains('Wagner')].groupby('season')['work'].value_counts(dropna=False).to_frame().reset_index(level=0)\n",
    "wagner = wagner.rename(columns={'work':'w_count'})\n",
    "wagner = wagner.reset_index()\n",
    "wagner = wagner.rename(columns={'work':'w_work'})\n",
    "wagner = wagner.reset_index()\n",
    "wagner.groupby('season')['w_count'].sum(dropna=False).tail()\n"
   ]
  },
  {
   "cell_type": "code",
   "execution_count": 67,
   "metadata": {},
   "outputs": [
    {
     "data": {
      "text/plain": [
       "season\n",
       "1875-76    1\n",
       "1878-79    2\n",
       "1879-80    2\n",
       "1881-82    1\n",
       "1883-84    1\n",
       "Name: t_count, dtype: int64"
      ]
     },
     "execution_count": 67,
     "metadata": {},
     "output_type": "execute_result"
    }
   ],
   "source": [
    "tchai = info_all[info_all.composer.str.contains('Tchaikovsky')].groupby('season')['work'].value_counts(dropna=False).to_frame().reset_index(level=0)\n",
    "tchai = tchai.rename(columns={'work':'t_count'})\n",
    "tchai = tchai.reset_index()\n",
    "tchai = tchai.rename(columns={'work':'t_work'})\n",
    "tchai.groupby('season')['t_count'].sum(dropna=False).head()\n"
   ]
  },
  {
   "cell_type": "code",
   "execution_count": 68,
   "metadata": {},
   "outputs": [
    {
     "data": {
      "text/plain": [
       "season\n",
       "1842-43    2\n",
       "1843-44    2\n",
       "1844-45    1\n",
       "1845-46    3\n",
       "1846-47    2\n",
       "Name: m_count, dtype: int64"
      ]
     },
     "execution_count": 68,
     "metadata": {},
     "output_type": "execute_result"
    }
   ],
   "source": [
    "mozart = info_all[info_all.composer.str.contains('Mozart')].groupby('season')['work'].value_counts(dropna=False).to_frame().reset_index(level=0)\n",
    "mozart = mozart.rename(columns={'work':'m_count'})\n",
    "mozart = mozart.reset_index()\n",
    "mozart = mozart.rename(columns={'work':'m_work'})\n",
    "mozart.groupby('season')['m_count'].sum(dropna=False).head()\n"
   ]
  },
  {
   "cell_type": "markdown",
   "metadata": {},
   "source": [
    "# 1842-1911"
   ]
  },
  {
   "cell_type": "code",
   "execution_count": 53,
   "metadata": {
    "collapsed": true
   },
   "outputs": [],
   "source": [
    "data1842 = json.loads(open(\"1842-43_TO_1910-11.json\").read())\n",
    "p1842 = data1842['programs']\n",
    "list_of_composer = []\n",
    "list_of_work = []\n",
    "for concert in p1842:\n",
    "    for work in concert['works']:\n",
    "        if work['ID'] != \"0*\" and 'composerName' in work:#print(work['ID'])\n",
    "            #print(work['composerName'])\n",
    "            list_of_composer.append(work['composerName'])\n",
    "            list_of_work.append(work['workTitle'])\n",
    "        \n",
    "info_1842 = pd.DataFrame(\n",
    "    {'composer': list_of_composer,\n",
    "     'work': list_of_work\n",
    "    })\n"
   ]
  },
  {
   "cell_type": "code",
   "execution_count": 58,
   "metadata": {},
   "outputs": [
    {
     "data": {
      "text/plain": [
       "Wagner,  Richard               0.136378\n",
       "Beethoven,  Ludwig  van        0.102243\n",
       "Mendelssohn,  Felix            0.044376\n",
       "Tchaikovsky,  Pyotr  Ilyich    0.043563\n",
       "Schumann,  Robert              0.034135\n",
       "Name: composer, dtype: float64"
      ]
     },
     "execution_count": 58,
     "metadata": {},
     "output_type": "execute_result"
    }
   ],
   "source": [
    "info_1842['composer'].value_counts(normalize=True).head(5)"
   ]
  },
  {
   "cell_type": "code",
   "execution_count": 60,
   "metadata": {},
   "outputs": [
    {
     "data": {
      "text/plain": [
       "MEISTERSINGER, DIE, WWV 96           105\n",
       "TANNHAUSER, WWV 70                   102\n",
       "WALKURE, DIE, WWV 86B                 79\n",
       "PARSIFAL, WWV 111                     75\n",
       "GOTTERDAMMERUNG [GÖTTERDÄMMERUNG]     75\n",
       "Name: work, dtype: int64"
      ]
     },
     "execution_count": 60,
     "metadata": {},
     "output_type": "execute_result"
    }
   ],
   "source": [
    "info_1842['work'].value_counts().head(5)"
   ]
  },
  {
   "cell_type": "markdown",
   "metadata": {},
   "source": [
    "# 1911－1920"
   ]
  },
  {
   "cell_type": "code",
   "execution_count": 61,
   "metadata": {
    "collapsed": true
   },
   "outputs": [],
   "source": [
    "data1911 = json.loads(open(\"1911-12_TO_1919-20.json\").read())\n",
    "p1911 = data1911['programs']\n",
    "list_of_composer2 = []\n",
    "list_of_work2 = []\n",
    "for concert in p1911:\n",
    "    for work in concert['works']:\n",
    "        if work['ID'] != \"0*\" and 'composerName' in work:#print(work['ID'])\n",
    "            #print(work['composerName'])\n",
    "            list_of_composer2.append(work['composerName'])\n",
    "            list_of_work2.append(work['workTitle'])\n",
    "        \n",
    "info_1911 = pd.DataFrame(\n",
    "    {'composer': list_of_composer2,\n",
    "     'work': list_of_work2\n",
    "    })"
   ]
  },
  {
   "cell_type": "code",
   "execution_count": 63,
   "metadata": {},
   "outputs": [
    {
     "data": {
      "text/plain": [
       "Wagner,  Richard               0.143018\n",
       "Tchaikovsky,  Pyotr  Ilyich    0.067889\n",
       "Beethoven,  Ludwig  van        0.061133\n",
       "Liszt,  Franz                  0.044241\n",
       "Brahms,  Johannes              0.034106\n",
       "Name: composer, dtype: float64"
      ]
     },
     "execution_count": 63,
     "metadata": {},
     "output_type": "execute_result"
    }
   ],
   "source": [
    "info_1911['composer'].value_counts(normalize=True).head(5)"
   ]
  },
  {
   "cell_type": "code",
   "execution_count": 64,
   "metadata": {},
   "outputs": [
    {
     "data": {
      "text/plain": [
       "TANNHAUSER, WWV 70                                     141\n",
       "MEISTERSINGER, DIE, WWV 96                             121\n",
       "UNITED STATES                                          109\n",
       "LOHENGRIN                                              101\n",
       "SYMPHONY NO. 9, E MINOR, OP.95 (FROM THE NEW WORLD)     95\n",
       "Name: work, dtype: int64"
      ]
     },
     "execution_count": 64,
     "metadata": {},
     "output_type": "execute_result"
    }
   ],
   "source": [
    "info_1911['work'].value_counts().head(5)"
   ]
  },
  {
   "cell_type": "code",
   "execution_count": 73,
   "metadata": {
    "collapsed": true
   },
   "outputs": [],
   "source": [
    "data1800s = json.loads(open(\"before1900.json\").read())\n",
    "p1800s = data1800s['programs']\n",
    "list_of_composer1800 = []\n",
    "list_of_work1800 = []\n",
    "for concert in p1800s:\n",
    "    for work in concert['works']:\n",
    "        if work['ID'] != \"0*\" and 'composerName' in work:#print(work['ID'])\n",
    "            #print(work['composerName'])\n",
    "            list_of_composer1800.append(work['composerName'])\n",
    "            list_of_work1800.append(work['workTitle'])\n",
    "        \n",
    "info_1800s = pd.DataFrame(\n",
    "    {'composer': list_of_composer1800,\n",
    "     'work': list_of_work1800\n",
    "    })\n"
   ]
  },
  {
   "cell_type": "code",
   "execution_count": 74,
   "metadata": {},
   "outputs": [
    {
     "data": {
      "text/html": [
       "<div>\n",
       "<style>\n",
       "    .dataframe thead tr:only-child th {\n",
       "        text-align: right;\n",
       "    }\n",
       "\n",
       "    .dataframe thead th {\n",
       "        text-align: left;\n",
       "    }\n",
       "\n",
       "    .dataframe tbody tr th {\n",
       "        vertical-align: top;\n",
       "    }\n",
       "</style>\n",
       "<table border=\"1\" class=\"dataframe\">\n",
       "  <thead>\n",
       "    <tr style=\"text-align: right;\">\n",
       "      <th></th>\n",
       "      <th>composer</th>\n",
       "      <th>work</th>\n",
       "    </tr>\n",
       "  </thead>\n",
       "  <tbody>\n",
       "    <tr>\n",
       "      <th>2928</th>\n",
       "      <td>Wagner,  Richard</td>\n",
       "      <td>PARSIFAL, WWV 111</td>\n",
       "    </tr>\n",
       "    <tr>\n",
       "      <th>2929</th>\n",
       "      <td>Wagner,  Richard</td>\n",
       "      <td>PARSIFAL, WWV 111</td>\n",
       "    </tr>\n",
       "    <tr>\n",
       "      <th>2930</th>\n",
       "      <td>Wagner,  Richard</td>\n",
       "      <td>SIEGFRIED, WWV 86C</td>\n",
       "    </tr>\n",
       "    <tr>\n",
       "      <th>2931</th>\n",
       "      <td>Wagner,  Richard</td>\n",
       "      <td>TANNHAUSER, WWV 70</td>\n",
       "    </tr>\n",
       "    <tr>\n",
       "      <th>2932</th>\n",
       "      <td>Beethoven,  Ludwig  van</td>\n",
       "      <td>SYMPHONY NO. 9 IN D MINOR, OP.125</td>\n",
       "    </tr>\n",
       "  </tbody>\n",
       "</table>\n",
       "</div>"
      ],
      "text/plain": [
       "                     composer                               work\n",
       "2928         Wagner,  Richard                  PARSIFAL, WWV 111\n",
       "2929         Wagner,  Richard                  PARSIFAL, WWV 111\n",
       "2930         Wagner,  Richard                 SIEGFRIED, WWV 86C\n",
       "2931         Wagner,  Richard                 TANNHAUSER, WWV 70\n",
       "2932  Beethoven,  Ludwig  van  SYMPHONY NO. 9 IN D MINOR, OP.125"
      ]
     },
     "execution_count": 74,
     "metadata": {},
     "output_type": "execute_result"
    }
   ],
   "source": [
    "info_1800s.tail()"
   ]
  },
  {
   "cell_type": "code",
   "execution_count": 458,
   "metadata": {},
   "outputs": [
    {
     "data": {
      "text/plain": [
       "Beethoven,  Ludwig  van    0.123423\n",
       "Wagner,  Richard           0.099557\n",
       "Mendelssohn,  Felix        0.060348\n",
       "Name: composer, dtype: float64"
      ]
     },
     "execution_count": 458,
     "metadata": {},
     "output_type": "execute_result"
    }
   ],
   "source": [
    "info_1800s['composer'].value_counts(normalize = True).head(3)"
   ]
  },
  {
   "cell_type": "code",
   "execution_count": 76,
   "metadata": {},
   "outputs": [
    {
     "data": {
      "text/plain": [
       "MIDSUMMER NIGHT'S DREAM, OP. 61      48\n",
       "TANNHAUSER, WWV 70                   40\n",
       "GOTTERDAMMERUNG [GÖTTERDÄMMERUNG]    34\n",
       "MEISTERSINGER, DIE, WWV 96           34\n",
       "PARSIFAL, WWV 111                    33\n",
       "Name: work, dtype: int64"
      ]
     },
     "execution_count": 76,
     "metadata": {},
     "output_type": "execute_result"
    }
   ],
   "source": [
    "info_1800s['work'].value_counts().head(5)"
   ]
  },
  {
   "cell_type": "code",
   "execution_count": 80,
   "metadata": {
    "collapsed": true
   },
   "outputs": [],
   "source": [
    "data1900 = json.loads(open(\"1900-01_TO_1919-20.json\").read())\n",
    "p1900 = data1900['programs']\n",
    "list_of_composer1900 = []\n",
    "list_of_work1900 = []\n",
    "for concert in p1900:\n",
    "    for work in concert['works']:\n",
    "        if work['ID'] != \"0*\" and 'composerName' in work:#print(work['ID'])\n",
    "            #print(work['composerName'])\n",
    "            list_of_composer1900.append(work['composerName'])\n",
    "            list_of_work1900.append(work['workTitle'])\n",
    "        \n",
    "info_1900 = pd.DataFrame(\n",
    "    {'composer': list_of_composer1900,\n",
    "     'work': list_of_work1900\n",
    "    })\n"
   ]
  },
  {
   "cell_type": "code",
   "execution_count": 106,
   "metadata": {},
   "outputs": [
    {
     "data": {
      "text/plain": [
       "TANNHAUSER, WWV 70            203\n",
       "MEISTERSINGER, DIE, WWV 96    192\n",
       "LOHENGRIN                     155\n",
       "WALKURE, DIE, WWV 86B         124\n",
       "UNITED STATES                 110\n",
       "Name: work, dtype: int64"
      ]
     },
     "execution_count": 106,
     "metadata": {},
     "output_type": "execute_result"
    }
   ],
   "source": [
    "info_1900['work'].value_counts().head(5)"
   ]
  },
  {
   "cell_type": "code",
   "execution_count": 81,
   "metadata": {},
   "outputs": [
    {
     "data": {
      "text/html": [
       "<div>\n",
       "<style>\n",
       "    .dataframe thead tr:only-child th {\n",
       "        text-align: right;\n",
       "    }\n",
       "\n",
       "    .dataframe thead th {\n",
       "        text-align: left;\n",
       "    }\n",
       "\n",
       "    .dataframe tbody tr th {\n",
       "        vertical-align: top;\n",
       "    }\n",
       "</style>\n",
       "<table border=\"1\" class=\"dataframe\">\n",
       "  <thead>\n",
       "    <tr style=\"text-align: right;\">\n",
       "      <th></th>\n",
       "      <th>composer</th>\n",
       "      <th>work</th>\n",
       "    </tr>\n",
       "  </thead>\n",
       "  <tbody>\n",
       "    <tr>\n",
       "      <th>9430</th>\n",
       "      <td>Verdi,  Giuseppe</td>\n",
       "      <td>AIDA</td>\n",
       "    </tr>\n",
       "    <tr>\n",
       "      <th>9431</th>\n",
       "      <td>Verdi,  Giuseppe</td>\n",
       "      <td>RIGOLETTO</td>\n",
       "    </tr>\n",
       "    <tr>\n",
       "      <th>9432</th>\n",
       "      <td>Weber,  Carl  Maria Von</td>\n",
       "      <td>INVITATION TO THE DANCE (ARR. Weingartner)</td>\n",
       "    </tr>\n",
       "    <tr>\n",
       "      <th>9433</th>\n",
       "      <td>Bizet,  Georges</td>\n",
       "      <td>CARMEN</td>\n",
       "    </tr>\n",
       "    <tr>\n",
       "      <th>9434</th>\n",
       "      <td>Berlioz,  Hector</td>\n",
       "      <td>DAMNATION DE FAUST, LA, OP. 24</td>\n",
       "    </tr>\n",
       "  </tbody>\n",
       "</table>\n",
       "</div>"
      ],
      "text/plain": [
       "                     composer                                        work\n",
       "9430         Verdi,  Giuseppe                                        AIDA\n",
       "9431         Verdi,  Giuseppe                                   RIGOLETTO\n",
       "9432  Weber,  Carl  Maria Von  INVITATION TO THE DANCE (ARR. Weingartner)\n",
       "9433          Bizet,  Georges                                      CARMEN\n",
       "9434         Berlioz,  Hector              DAMNATION DE FAUST, LA, OP. 24"
      ]
     },
     "execution_count": 81,
     "metadata": {},
     "output_type": "execute_result"
    }
   ],
   "source": [
    "info_1900.tail()"
   ]
  },
  {
   "cell_type": "code",
   "execution_count": 459,
   "metadata": {},
   "outputs": [
    {
     "data": {
      "text/plain": [
       "Wagner,  Richard               0.152199\n",
       "Beethoven,  Ludwig  van        0.068574\n",
       "Tchaikovsky,  Pyotr  Ilyich    0.065713\n",
       "Name: composer, dtype: float64"
      ]
     },
     "execution_count": 459,
     "metadata": {},
     "output_type": "execute_result"
    }
   ],
   "source": [
    "info_1900['composer'].value_counts(normalize=True).head(3)"
   ]
  },
  {
   "cell_type": "code",
   "execution_count": 83,
   "metadata": {},
   "outputs": [
    {
     "data": {
      "text/plain": [
       "TANNHAUSER, WWV 70            203\n",
       "MEISTERSINGER, DIE, WWV 96    192\n",
       "LOHENGRIN                     155\n",
       "WALKURE, DIE, WWV 86B         124\n",
       "UNITED STATES                 110\n",
       "Name: work, dtype: int64"
      ]
     },
     "execution_count": 83,
     "metadata": {},
     "output_type": "execute_result"
    }
   ],
   "source": [
    "info_1900['work'].value_counts().head(5)"
   ]
  },
  {
   "cell_type": "code",
   "execution_count": 84,
   "metadata": {
    "collapsed": true
   },
   "outputs": [],
   "source": [
    "data1920 = json.loads(open(\"1920-21_TO_1939-40.json\").read())\n",
    "p1920 = data1920['programs']\n",
    "list_of_composer1920 = []\n",
    "list_of_work1920 = []\n",
    "for concert in p1920:\n",
    "    for work in concert['works']:\n",
    "        if work['ID'] != \"0*\" and 'composerName' in work:#print(work['ID'])\n",
    "            #print(work['composerName'])\n",
    "            list_of_composer1920.append(work['composerName'])\n",
    "            list_of_work1920.append(work['workTitle'])\n",
    "        \n",
    "info_1920 = pd.DataFrame(\n",
    "    {'composer': list_of_composer1920,\n",
    "     'work': list_of_work1920\n",
    "    })"
   ]
  },
  {
   "cell_type": "code",
   "execution_count": 85,
   "metadata": {},
   "outputs": [
    {
     "data": {
      "text/html": [
       "<div>\n",
       "<style>\n",
       "    .dataframe thead tr:only-child th {\n",
       "        text-align: right;\n",
       "    }\n",
       "\n",
       "    .dataframe thead th {\n",
       "        text-align: left;\n",
       "    }\n",
       "\n",
       "    .dataframe tbody tr th {\n",
       "        vertical-align: top;\n",
       "    }\n",
       "</style>\n",
       "<table border=\"1\" class=\"dataframe\">\n",
       "  <thead>\n",
       "    <tr style=\"text-align: right;\">\n",
       "      <th></th>\n",
       "      <th>composer</th>\n",
       "      <th>work</th>\n",
       "    </tr>\n",
       "  </thead>\n",
       "  <tbody>\n",
       "    <tr>\n",
       "      <th>10942</th>\n",
       "      <td>Sibelius,  Jean</td>\n",
       "      <td>CONCERTO, VIOLIN, D MINOR, OP .47</td>\n",
       "    </tr>\n",
       "    <tr>\n",
       "      <th>10943</th>\n",
       "      <td>Beethoven,  Ludwig  van</td>\n",
       "      <td>ROMANCE, VIOLIN, NO. 1, G MAJOR, OP.40</td>\n",
       "    </tr>\n",
       "    <tr>\n",
       "      <th>10944</th>\n",
       "      <td>Sibelius,  Jean</td>\n",
       "      <td>SYMPHONY NO. 1, E MINOR, OP. 39</td>\n",
       "    </tr>\n",
       "    <tr>\n",
       "      <th>10945</th>\n",
       "      <td>Sibelius,  Jean</td>\n",
       "      <td>FINLANDIA, OP. 26</td>\n",
       "    </tr>\n",
       "    <tr>\n",
       "      <th>10946</th>\n",
       "      <td>Traditional,</td>\n",
       "      <td>AULD LANG SYNE</td>\n",
       "    </tr>\n",
       "  </tbody>\n",
       "</table>\n",
       "</div>"
      ],
      "text/plain": [
       "                      composer                                    work\n",
       "10942          Sibelius,  Jean       CONCERTO, VIOLIN, D MINOR, OP .47\n",
       "10943  Beethoven,  Ludwig  van  ROMANCE, VIOLIN, NO. 1, G MAJOR, OP.40\n",
       "10944          Sibelius,  Jean         SYMPHONY NO. 1, E MINOR, OP. 39\n",
       "10945          Sibelius,  Jean                       FINLANDIA, OP. 26\n",
       "10946             Traditional,                          AULD LANG SYNE"
      ]
     },
     "execution_count": 85,
     "metadata": {},
     "output_type": "execute_result"
    }
   ],
   "source": [
    "info_1920.tail()"
   ]
  },
  {
   "cell_type": "code",
   "execution_count": 460,
   "metadata": {},
   "outputs": [
    {
     "data": {
      "text/plain": [
       "Wagner,  Richard               0.129259\n",
       "Beethoven,  Ludwig  van        0.076277\n",
       "Tchaikovsky,  Pyotr  Ilyich    0.061661\n",
       "Name: composer, dtype: float64"
      ]
     },
     "execution_count": 460,
     "metadata": {},
     "output_type": "execute_result"
    }
   ],
   "source": [
    "info_1920['composer'].value_counts(normalize=True).head(3)"
   ]
  },
  {
   "cell_type": "code",
   "execution_count": 88,
   "metadata": {
    "collapsed": true
   },
   "outputs": [],
   "source": [
    "data1940 = json.loads(open(\"1940-41_TO_1959-60.json\").read())\n",
    "p1940 = data1940['programs']\n",
    "list_of_composer1940 = []\n",
    "list_of_work1940 = []\n",
    "for concert in p1940:\n",
    "    for work in concert['works']:\n",
    "        if work['ID'] != \"0*\" and 'composerName' in work:#print(work['ID'])\n",
    "            #print(work['composerName'])\n",
    "            list_of_composer1940.append(work['composerName'])\n",
    "            list_of_work1940.append(work['workTitle'])\n",
    "        \n",
    "info_1940 = pd.DataFrame(\n",
    "    {'composer': list_of_composer1940,\n",
    "     'work': list_of_work1940\n",
    "    })"
   ]
  },
  {
   "cell_type": "code",
   "execution_count": 89,
   "metadata": {},
   "outputs": [
    {
     "data": {
      "text/html": [
       "<div>\n",
       "<style>\n",
       "    .dataframe thead tr:only-child th {\n",
       "        text-align: right;\n",
       "    }\n",
       "\n",
       "    .dataframe thead th {\n",
       "        text-align: left;\n",
       "    }\n",
       "\n",
       "    .dataframe tbody tr th {\n",
       "        vertical-align: top;\n",
       "    }\n",
       "</style>\n",
       "<table border=\"1\" class=\"dataframe\">\n",
       "  <thead>\n",
       "    <tr style=\"text-align: right;\">\n",
       "      <th></th>\n",
       "      <th>composer</th>\n",
       "      <th>work</th>\n",
       "    </tr>\n",
       "  </thead>\n",
       "  <tbody>\n",
       "    <tr>\n",
       "      <th>15380</th>\n",
       "      <td>Harris,  Roy</td>\n",
       "      <td>SYMPHONY NO.  3</td>\n",
       "    </tr>\n",
       "    <tr>\n",
       "      <th>15381</th>\n",
       "      <td>Copland,  Aaron</td>\n",
       "      <td>SALON MEXICO, EL</td>\n",
       "    </tr>\n",
       "    <tr>\n",
       "      <th>15382</th>\n",
       "      <td>Tchaikovsky,  Pyotr  Ilyich</td>\n",
       "      <td>SYMPHONY NO. 5, E MINOR, OP. 64</td>\n",
       "    </tr>\n",
       "    <tr>\n",
       "      <th>15383</th>\n",
       "      <td>Copland,  Aaron</td>\n",
       "      <td>RODEO, FOUR DANCE EPISODES</td>\n",
       "    </tr>\n",
       "    <tr>\n",
       "      <th>15384</th>\n",
       "      <td>Ravel,  Maurice</td>\n",
       "      <td>DAPHNIS AND CHLOE: SUITE NO. 2</td>\n",
       "    </tr>\n",
       "  </tbody>\n",
       "</table>\n",
       "</div>"
      ],
      "text/plain": [
       "                          composer                             work\n",
       "15380                 Harris,  Roy                  SYMPHONY NO.  3\n",
       "15381              Copland,  Aaron                 SALON MEXICO, EL\n",
       "15382  Tchaikovsky,  Pyotr  Ilyich  SYMPHONY NO. 5, E MINOR, OP. 64\n",
       "15383              Copland,  Aaron       RODEO, FOUR DANCE EPISODES\n",
       "15384              Ravel,  Maurice   DAPHNIS AND CHLOE: SUITE NO. 2"
      ]
     },
     "execution_count": 89,
     "metadata": {},
     "output_type": "execute_result"
    }
   ],
   "source": [
    "info_1940.tail()"
   ]
  },
  {
   "cell_type": "code",
   "execution_count": 112,
   "metadata": {},
   "outputs": [
    {
     "data": {
      "text/plain": [
       "UNITED STATES                        153\n",
       "PORGY AND BESS                       122\n",
       "SYMPHONY NO. 1 IN C MINOR, OP. 68    121\n",
       "SYMPHONY NO. 4, F MINOR, OP. 36      112\n",
       "MEISTERSINGER, DIE, WWV 96           109\n",
       "Name: work, dtype: int64"
      ]
     },
     "execution_count": 112,
     "metadata": {},
     "output_type": "execute_result"
    }
   ],
   "source": [
    "info_1940['work'].value_counts().head(5)"
   ]
  },
  {
   "cell_type": "code",
   "execution_count": 461,
   "metadata": {},
   "outputs": [
    {
     "data": {
      "text/plain": [
       "Beethoven,  Ludwig  van        0.061683\n",
       "Tchaikovsky,  Pyotr  Ilyich    0.050959\n",
       "Brahms,  Johannes              0.040624\n",
       "Name: composer, dtype: float64"
      ]
     },
     "execution_count": 461,
     "metadata": {},
     "output_type": "execute_result"
    }
   ],
   "source": [
    "info_1940['composer'].value_counts(normalize=True).head(3)"
   ]
  },
  {
   "cell_type": "code",
   "execution_count": 93,
   "metadata": {
    "collapsed": true
   },
   "outputs": [],
   "source": [
    "data2000 = json.loads(open(\"2000-01_TO_NOW.json\").read())\n",
    "p2000 = data2000['programs']\n",
    "list_of_composer2000 = []\n",
    "list_of_work2000 = []\n",
    "for concert in p2000:\n",
    "    for work in concert['works']:\n",
    "        if work['ID'] != \"0*\" and 'composerName' in work:#print(work['ID'])\n",
    "            #print(work['composerName'])\n",
    "            list_of_composer2000.append(work['composerName'])\n",
    "            list_of_work2000.append(work['workTitle'])\n",
    "        \n",
    "info_2000 = pd.DataFrame(\n",
    "    {'composer': list_of_composer2000,\n",
    "     'work': list_of_work2000\n",
    "    })"
   ]
  },
  {
   "cell_type": "code",
   "execution_count": 94,
   "metadata": {},
   "outputs": [
    {
     "data": {
      "text/html": [
       "<div>\n",
       "<style>\n",
       "    .dataframe thead tr:only-child th {\n",
       "        text-align: right;\n",
       "    }\n",
       "\n",
       "    .dataframe thead th {\n",
       "        text-align: left;\n",
       "    }\n",
       "\n",
       "    .dataframe tbody tr th {\n",
       "        vertical-align: top;\n",
       "    }\n",
       "</style>\n",
       "<table border=\"1\" class=\"dataframe\">\n",
       "  <thead>\n",
       "    <tr style=\"text-align: right;\">\n",
       "      <th></th>\n",
       "      <th>composer</th>\n",
       "      <th>work</th>\n",
       "    </tr>\n",
       "  </thead>\n",
       "  <tbody>\n",
       "    <tr>\n",
       "      <th>10686</th>\n",
       "      <td>Feng,  Shuya</td>\n",
       "      <td>MEMORIES OF MARNYI STONE</td>\n",
       "    </tr>\n",
       "    <tr>\n",
       "      <th>10687</th>\n",
       "      <td>Dvorak,  Antonín</td>\n",
       "      <td>SYMPHONY NO. 9, E MINOR, OP.95 (FROM THE NEW W...</td>\n",
       "    </tr>\n",
       "    <tr>\n",
       "      <th>10688</th>\n",
       "      <td>Copland,  Aaron</td>\n",
       "      <td>QUIET CITY</td>\n",
       "    </tr>\n",
       "    <tr>\n",
       "      <th>10689</th>\n",
       "      <td>Marsalis,  Wynton</td>\n",
       "      <td>JUNGLE, THE (SYMPHONY NO. 4)</td>\n",
       "    </tr>\n",
       "    <tr>\n",
       "      <th>10690</th>\n",
       "      <td>Ellington,  Duke</td>\n",
       "      <td>C JAM BLUES</td>\n",
       "    </tr>\n",
       "  </tbody>\n",
       "</table>\n",
       "</div>"
      ],
      "text/plain": [
       "                composer                                               work\n",
       "10686       Feng,  Shuya                           MEMORIES OF MARNYI STONE\n",
       "10687   Dvorak,  Antonín  SYMPHONY NO. 9, E MINOR, OP.95 (FROM THE NEW W...\n",
       "10688    Copland,  Aaron                                         QUIET CITY\n",
       "10689  Marsalis,  Wynton                       JUNGLE, THE (SYMPHONY NO. 4)\n",
       "10690   Ellington,  Duke                                        C JAM BLUES"
      ]
     },
     "execution_count": 94,
     "metadata": {},
     "output_type": "execute_result"
    }
   ],
   "source": [
    "info_2000.tail()"
   ]
  },
  {
   "cell_type": "code",
   "execution_count": 453,
   "metadata": {},
   "outputs": [
    {
     "data": {
      "text/plain": [
       "Tchaikovsky,  Pyotr  Ilyich    508\n",
       "Beethoven,  Ludwig  van        463\n",
       "Mozart,  Wolfgang  Amadeus     402\n",
       "Name: composer, dtype: int64"
      ]
     },
     "execution_count": 453,
     "metadata": {},
     "output_type": "execute_result"
    }
   ],
   "source": [
    "info_2000['composer'].value_counts().head(3)"
   ]
  },
  {
   "cell_type": "code",
   "execution_count": 99,
   "metadata": {
    "collapsed": true
   },
   "outputs": [],
   "source": [
    "data1960 = json.loads(open(\"1960-61_TO_1980-81.json\").read())\n",
    "p1960 = data1960['programs']\n",
    "list_of_composer1960 = []\n",
    "list_of_work1960 = []\n",
    "for concert in p1960:\n",
    "    for work in concert['works']:\n",
    "        if work['ID'] != \"0*\" and 'composerName' in work:#print(work['ID'])\n",
    "            #print(work['composerName'])\n",
    "            list_of_composer1960.append(work['composerName'])\n",
    "            list_of_work1960.append(work['workTitle'])\n",
    "        \n",
    "info_1960 = pd.DataFrame(\n",
    "    {'composer': list_of_composer1960,\n",
    "     'work': list_of_work1960\n",
    "    })"
   ]
  },
  {
   "cell_type": "code",
   "execution_count": 100,
   "metadata": {},
   "outputs": [
    {
     "data": {
      "text/html": [
       "<div>\n",
       "<style>\n",
       "    .dataframe thead tr:only-child th {\n",
       "        text-align: right;\n",
       "    }\n",
       "\n",
       "    .dataframe thead th {\n",
       "        text-align: left;\n",
       "    }\n",
       "\n",
       "    .dataframe tbody tr th {\n",
       "        vertical-align: top;\n",
       "    }\n",
       "</style>\n",
       "<table border=\"1\" class=\"dataframe\">\n",
       "  <thead>\n",
       "    <tr style=\"text-align: right;\">\n",
       "      <th></th>\n",
       "      <th>composer</th>\n",
       "      <th>work</th>\n",
       "    </tr>\n",
       "  </thead>\n",
       "  <tbody>\n",
       "    <tr>\n",
       "      <th>9058</th>\n",
       "      <td>Dvorak,  Antonín</td>\n",
       "      <td>CARNIVAL OVERTURE, OP.92</td>\n",
       "    </tr>\n",
       "    <tr>\n",
       "      <th>9059</th>\n",
       "      <td>Stravinsky,  Igor</td>\n",
       "      <td>SYMPHONY IN THREE MOVEMENTS</td>\n",
       "    </tr>\n",
       "    <tr>\n",
       "      <th>9060</th>\n",
       "      <td>Brahms,  Johannes</td>\n",
       "      <td>SYMPHONY NO. 2 IN D MAJOR, OP. 73</td>\n",
       "    </tr>\n",
       "    <tr>\n",
       "      <th>9061</th>\n",
       "      <td>Verdi,  Giuseppe</td>\n",
       "      <td>FORZA DEL DESTINO, LA</td>\n",
       "    </tr>\n",
       "    <tr>\n",
       "      <th>9062</th>\n",
       "      <td>Rimsky-Korsakov,  Nikolai</td>\n",
       "      <td>CAPRICCIO ESPAGNOL, OP. 34</td>\n",
       "    </tr>\n",
       "  </tbody>\n",
       "</table>\n",
       "</div>"
      ],
      "text/plain": [
       "                       composer                               work\n",
       "9058           Dvorak,  Antonín           CARNIVAL OVERTURE, OP.92\n",
       "9059          Stravinsky,  Igor        SYMPHONY IN THREE MOVEMENTS\n",
       "9060          Brahms,  Johannes  SYMPHONY NO. 2 IN D MAJOR, OP. 73\n",
       "9061           Verdi,  Giuseppe              FORZA DEL DESTINO, LA\n",
       "9062  Rimsky-Korsakov,  Nikolai         CAPRICCIO ESPAGNOL, OP. 34"
      ]
     },
     "execution_count": 100,
     "metadata": {},
     "output_type": "execute_result"
    }
   ],
   "source": [
    "info_1960.tail()"
   ]
  },
  {
   "cell_type": "code",
   "execution_count": 495,
   "metadata": {},
   "outputs": [
    {
     "data": {
      "text/plain": [
       "Beethoven,  Ludwig  van        487\n",
       "Tchaikovsky,  Pyotr  Ilyich    421\n",
       "Mozart,  Wolfgang  Amadeus     389\n",
       "Name: composer, dtype: int64"
      ]
     },
     "execution_count": 495,
     "metadata": {},
     "output_type": "execute_result"
    }
   ],
   "source": [
    "info_1960['composer'].value_counts().head(3)"
   ]
  },
  {
   "cell_type": "code",
   "execution_count": 103,
   "metadata": {
    "collapsed": true
   },
   "outputs": [],
   "source": [
    "data1980 = json.loads(open(\"1980-81_TO_2000-01.json\").read())\n",
    "p1980 = data1980['programs']\n",
    "list_of_composer1980 = []\n",
    "list_of_work1980 = []\n",
    "for concert in p1980:\n",
    "    for work in concert['works']:\n",
    "        if work['ID'] != \"0*\" and 'composerName' in work:#print(work['ID'])\n",
    "            #print(work['composerName'])\n",
    "            list_of_composer1980.append(work['composerName'])\n",
    "            list_of_work1980.append(work['workTitle'])\n",
    "        \n",
    "info_1980 = pd.DataFrame(\n",
    "    {'composer': list_of_composer1980,\n",
    "     'work': list_of_work1980\n",
    "    })"
   ]
  },
  {
   "cell_type": "code",
   "execution_count": 104,
   "metadata": {},
   "outputs": [
    {
     "data": {
      "text/html": [
       "<div>\n",
       "<style>\n",
       "    .dataframe thead tr:only-child th {\n",
       "        text-align: right;\n",
       "    }\n",
       "\n",
       "    .dataframe thead th {\n",
       "        text-align: left;\n",
       "    }\n",
       "\n",
       "    .dataframe tbody tr th {\n",
       "        vertical-align: top;\n",
       "    }\n",
       "</style>\n",
       "<table border=\"1\" class=\"dataframe\">\n",
       "  <thead>\n",
       "    <tr style=\"text-align: right;\">\n",
       "      <th></th>\n",
       "      <th>composer</th>\n",
       "      <th>work</th>\n",
       "    </tr>\n",
       "  </thead>\n",
       "  <tbody>\n",
       "    <tr>\n",
       "      <th>8080</th>\n",
       "      <td>Shostakovich,  Dmitri</td>\n",
       "      <td>SYMPHONY NO.  5, D MINOR, OP. 47</td>\n",
       "    </tr>\n",
       "    <tr>\n",
       "      <th>8081</th>\n",
       "      <td>Bernstein,  Leonard</td>\n",
       "      <td>CANDIDE</td>\n",
       "    </tr>\n",
       "    <tr>\n",
       "      <th>8082</th>\n",
       "      <td>Gershwin,  George</td>\n",
       "      <td>AMERICAN IN PARIS, AN</td>\n",
       "    </tr>\n",
       "    <tr>\n",
       "      <th>8083</th>\n",
       "      <td>Arutunian,  Alexander</td>\n",
       "      <td>CONCERTO FOR TRUMPET AND ORCHESTRA</td>\n",
       "    </tr>\n",
       "    <tr>\n",
       "      <th>8084</th>\n",
       "      <td>Stravinsky,  Igor</td>\n",
       "      <td>FIREBIRD: SUITE (1945 VERSION)</td>\n",
       "    </tr>\n",
       "  </tbody>\n",
       "</table>\n",
       "</div>"
      ],
      "text/plain": [
       "                   composer                                work\n",
       "8080  Shostakovich,  Dmitri    SYMPHONY NO.  5, D MINOR, OP. 47\n",
       "8081    Bernstein,  Leonard                             CANDIDE\n",
       "8082      Gershwin,  George               AMERICAN IN PARIS, AN\n",
       "8083  Arutunian,  Alexander  CONCERTO FOR TRUMPET AND ORCHESTRA\n",
       "8084      Stravinsky,  Igor      FIREBIRD: SUITE (1945 VERSION)"
      ]
     },
     "execution_count": 104,
     "metadata": {},
     "output_type": "execute_result"
    }
   ],
   "source": [
    "info_1980.tail()"
   ]
  },
  {
   "cell_type": "code",
   "execution_count": 462,
   "metadata": {},
   "outputs": [
    {
     "data": {
      "text/plain": [
       "Mozart,  Wolfgang  Amadeus     0.059246\n",
       "Beethoven,  Ludwig  van        0.054051\n",
       "Tchaikovsky,  Pyotr  Ilyich    0.049351\n",
       "Name: composer, dtype: float64"
      ]
     },
     "execution_count": 462,
     "metadata": {},
     "output_type": "execute_result"
    }
   ],
   "source": [
    "info_1980['composer'].value_counts(normalize=True).head(3)"
   ]
  },
  {
   "cell_type": "code",
   "execution_count": 125,
   "metadata": {
    "collapsed": true
   },
   "outputs": [],
   "source": [
    "df_composers = pd.read_csv('composers.csv')"
   ]
  },
  {
   "cell_type": "code",
   "execution_count": 126,
   "metadata": {
    "collapsed": true
   },
   "outputs": [],
   "source": [
    "df_composers.set_index('year', inplace = True)"
   ]
  },
  {
   "cell_type": "code",
   "execution_count": 127,
   "metadata": {},
   "outputs": [
    {
     "data": {
      "text/html": [
       "<div>\n",
       "<style>\n",
       "    .dataframe thead tr:only-child th {\n",
       "        text-align: right;\n",
       "    }\n",
       "\n",
       "    .dataframe thead th {\n",
       "        text-align: left;\n",
       "    }\n",
       "\n",
       "    .dataframe tbody tr th {\n",
       "        vertical-align: top;\n",
       "    }\n",
       "</style>\n",
       "<table border=\"1\" class=\"dataframe\">\n",
       "  <thead>\n",
       "    <tr style=\"text-align: right;\">\n",
       "      <th></th>\n",
       "      <th>Wagner</th>\n",
       "      <th>Beethoven</th>\n",
       "      <th>Tchaikovsky</th>\n",
       "      <th>Mozart</th>\n",
       "    </tr>\n",
       "    <tr>\n",
       "      <th>year</th>\n",
       "      <th></th>\n",
       "      <th></th>\n",
       "      <th></th>\n",
       "      <th></th>\n",
       "    </tr>\n",
       "  </thead>\n",
       "  <tbody>\n",
       "    <tr>\n",
       "      <th>before 1900</th>\n",
       "      <td>0.099557</td>\n",
       "      <td>0.123423</td>\n",
       "      <td>0.023866</td>\n",
       "      <td>0.044664</td>\n",
       "    </tr>\n",
       "    <tr>\n",
       "      <th>1900</th>\n",
       "      <td>0.152199</td>\n",
       "      <td>0.068574</td>\n",
       "      <td>0.065713</td>\n",
       "      <td>0.018972</td>\n",
       "    </tr>\n",
       "    <tr>\n",
       "      <th>1920</th>\n",
       "      <td>0.129259</td>\n",
       "      <td>0.076277</td>\n",
       "      <td>0.061661</td>\n",
       "      <td>0.030967</td>\n",
       "    </tr>\n",
       "    <tr>\n",
       "      <th>1940</th>\n",
       "      <td>0.039649</td>\n",
       "      <td>0.061683</td>\n",
       "      <td>0.050959</td>\n",
       "      <td>0.035684</td>\n",
       "    </tr>\n",
       "    <tr>\n",
       "      <th>1960</th>\n",
       "      <td>0.023833</td>\n",
       "      <td>0.053735</td>\n",
       "      <td>0.046453</td>\n",
       "      <td>0.042922</td>\n",
       "    </tr>\n",
       "    <tr>\n",
       "      <th>1980</th>\n",
       "      <td>0.031664</td>\n",
       "      <td>0.054051</td>\n",
       "      <td>0.049351</td>\n",
       "      <td>0.059246</td>\n",
       "    </tr>\n",
       "    <tr>\n",
       "      <th>2000</th>\n",
       "      <td>0.012253</td>\n",
       "      <td>0.043307</td>\n",
       "      <td>0.047517</td>\n",
       "      <td>0.037602</td>\n",
       "    </tr>\n",
       "  </tbody>\n",
       "</table>\n",
       "</div>"
      ],
      "text/plain": [
       "               Wagner  Beethoven  Tchaikovsky    Mozart\n",
       "year                                                   \n",
       "before 1900  0.099557   0.123423     0.023866  0.044664\n",
       "1900         0.152199   0.068574     0.065713  0.018972\n",
       "1920         0.129259   0.076277     0.061661  0.030967\n",
       "1940         0.039649   0.061683     0.050959  0.035684\n",
       "1960         0.023833   0.053735     0.046453  0.042922\n",
       "1980         0.031664   0.054051     0.049351  0.059246\n",
       "2000         0.012253   0.043307     0.047517  0.037602"
      ]
     },
     "execution_count": 127,
     "metadata": {},
     "output_type": "execute_result"
    }
   ],
   "source": [
    "df_composers"
   ]
  }
 ],
 "metadata": {
  "kernelspec": {
   "display_name": "Python 3",
   "language": "python",
   "name": "python3"
  },
  "language_info": {
   "codemirror_mode": {
    "name": "ipython",
    "version": 3
   },
   "file_extension": ".py",
   "mimetype": "text/x-python",
   "name": "python",
   "nbconvert_exporter": "python",
   "pygments_lexer": "ipython3",
   "version": "3.6.2"
  }
 },
 "nbformat": 4,
 "nbformat_minor": 2
}
