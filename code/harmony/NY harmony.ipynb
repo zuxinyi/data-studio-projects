{
 "cells": [
  {
   "cell_type": "code",
   "execution_count": 41,
   "metadata": {
    "collapsed": true
   },
   "outputs": [],
   "source": [
    "import pandas as pd"
   ]
  },
  {
   "cell_type": "code",
   "execution_count": 42,
   "metadata": {
    "collapsed": true
   },
   "outputs": [],
   "source": [
    "import json"
   ]
  },
  {
   "cell_type": "code",
   "execution_count": 43,
   "metadata": {
    "scrolled": true
   },
   "outputs": [
    {
     "data": {
      "text/plain": [
       "dict_keys(['programs'])"
      ]
     },
     "execution_count": 43,
     "metadata": {},
     "output_type": "execute_result"
    }
   ],
   "source": [
    "data = json.loads(open(\"complete.json\").read())\n",
    "data.keys()"
   ]
  },
  {
   "cell_type": "code",
   "execution_count": 44,
   "metadata": {},
   "outputs": [
    {
     "name": "stderr",
     "output_type": "stream",
     "text": [
      "/usr/local/lib/python3.6/site-packages/IPython/core/interactiveshell.py:2698: DtypeWarning: Columns (8) have mixed types. Specify dtype option on import or set low_memory=False.\n",
      "  interactivity=interactivity, compiler=compiler, result=result)\n"
     ]
    }
   ],
   "source": [
    "ny_phil = pd.read_csv('ny_phil.csv')"
   ]
  },
  {
   "cell_type": "code",
   "execution_count": 45,
   "metadata": {},
   "outputs": [
    {
     "data": {
      "text/html": [
       "<div>\n",
       "<style>\n",
       "    .dataframe thead tr:only-child th {\n",
       "        text-align: right;\n",
       "    }\n",
       "\n",
       "    .dataframe thead th {\n",
       "        text-align: left;\n",
       "    }\n",
       "\n",
       "    .dataframe tbody tr th {\n",
       "        vertical-align: top;\n",
       "    }\n",
       "</style>\n",
       "<table border=\"1\" class=\"dataframe\">\n",
       "  <thead>\n",
       "    <tr style=\"text-align: right;\">\n",
       "      <th></th>\n",
       "      <th>Date</th>\n",
       "      <th>Location</th>\n",
       "      <th>Time</th>\n",
       "      <th>Venue</th>\n",
       "      <th>eventType</th>\n",
       "      <th>id</th>\n",
       "      <th>composerName</th>\n",
       "      <th>conductorName</th>\n",
       "      <th>interval</th>\n",
       "      <th>movement</th>\n",
       "      <th>workTitle</th>\n",
       "      <th>soloistInstrument</th>\n",
       "      <th>soloistName</th>\n",
       "      <th>soloistRoles</th>\n",
       "      <th>season</th>\n",
       "      <th>programID</th>\n",
       "      <th>orchestra</th>\n",
       "    </tr>\n",
       "  </thead>\n",
       "  <tbody>\n",
       "    <tr>\n",
       "      <th>0</th>\n",
       "      <td>1842-12-07T05:00:00Z</td>\n",
       "      <td>Manhattan, NY</td>\n",
       "      <td>8:00PM</td>\n",
       "      <td>Apollo Rooms</td>\n",
       "      <td>Subscription Season</td>\n",
       "      <td>38e072a7-8fc9-4f9a-8eac-3957905c0002</td>\n",
       "      <td>Beethoven,  Ludwig  van</td>\n",
       "      <td>Hill, Ureli Corelli</td>\n",
       "      <td>NaN</td>\n",
       "      <td>NaN</td>\n",
       "      <td>SYMPHONY NO. 5 IN C MINOR, OP.67</td>\n",
       "      <td>Soprano</td>\n",
       "      <td>Otto, Antoinette</td>\n",
       "      <td>S</td>\n",
       "      <td>1842-43</td>\n",
       "      <td>3853.0</td>\n",
       "      <td>New York Philharmonic</td>\n",
       "    </tr>\n",
       "    <tr>\n",
       "      <th>1</th>\n",
       "      <td>1842-12-07T05:00:00Z</td>\n",
       "      <td>Manhattan, NY</td>\n",
       "      <td>8:00PM</td>\n",
       "      <td>Apollo Rooms</td>\n",
       "      <td>Subscription Season</td>\n",
       "      <td>38e072a7-8fc9-4f9a-8eac-3957905c0002</td>\n",
       "      <td>Beethoven,  Ludwig  van</td>\n",
       "      <td>Hill, Ureli Corelli</td>\n",
       "      <td>NaN</td>\n",
       "      <td>NaN</td>\n",
       "      <td>SYMPHONY NO. 5 IN C MINOR, OP.67</td>\n",
       "      <td>Piano</td>\n",
       "      <td>Scharfenberg, William</td>\n",
       "      <td>A</td>\n",
       "      <td>1842-43</td>\n",
       "      <td>3853.0</td>\n",
       "      <td>New York Philharmonic</td>\n",
       "    </tr>\n",
       "    <tr>\n",
       "      <th>2</th>\n",
       "      <td>1842-12-07T05:00:00Z</td>\n",
       "      <td>Manhattan, NY</td>\n",
       "      <td>8:00PM</td>\n",
       "      <td>Apollo Rooms</td>\n",
       "      <td>Subscription Season</td>\n",
       "      <td>38e072a7-8fc9-4f9a-8eac-3957905c0002</td>\n",
       "      <td>Beethoven,  Ludwig  van</td>\n",
       "      <td>Hill, Ureli Corelli</td>\n",
       "      <td>NaN</td>\n",
       "      <td>NaN</td>\n",
       "      <td>SYMPHONY NO. 5 IN C MINOR, OP.67</td>\n",
       "      <td>Violin</td>\n",
       "      <td>Hill, Ureli Corelli</td>\n",
       "      <td>A</td>\n",
       "      <td>1842-43</td>\n",
       "      <td>3853.0</td>\n",
       "      <td>New York Philharmonic</td>\n",
       "    </tr>\n",
       "    <tr>\n",
       "      <th>3</th>\n",
       "      <td>1842-12-07T05:00:00Z</td>\n",
       "      <td>Manhattan, NY</td>\n",
       "      <td>8:00PM</td>\n",
       "      <td>Apollo Rooms</td>\n",
       "      <td>Subscription Season</td>\n",
       "      <td>38e072a7-8fc9-4f9a-8eac-3957905c0002</td>\n",
       "      <td>Beethoven,  Ludwig  van</td>\n",
       "      <td>Hill, Ureli Corelli</td>\n",
       "      <td>NaN</td>\n",
       "      <td>NaN</td>\n",
       "      <td>SYMPHONY NO. 5 IN C MINOR, OP.67</td>\n",
       "      <td>Viola</td>\n",
       "      <td>Derwort, G. H.</td>\n",
       "      <td>A</td>\n",
       "      <td>1842-43</td>\n",
       "      <td>3853.0</td>\n",
       "      <td>New York Philharmonic</td>\n",
       "    </tr>\n",
       "    <tr>\n",
       "      <th>4</th>\n",
       "      <td>1842-12-07T05:00:00Z</td>\n",
       "      <td>Manhattan, NY</td>\n",
       "      <td>8:00PM</td>\n",
       "      <td>Apollo Rooms</td>\n",
       "      <td>Subscription Season</td>\n",
       "      <td>38e072a7-8fc9-4f9a-8eac-3957905c0002</td>\n",
       "      <td>Beethoven,  Ludwig  van</td>\n",
       "      <td>Hill, Ureli Corelli</td>\n",
       "      <td>NaN</td>\n",
       "      <td>NaN</td>\n",
       "      <td>SYMPHONY NO. 5 IN C MINOR, OP.67</td>\n",
       "      <td>Cello</td>\n",
       "      <td>Boucher, Alfred</td>\n",
       "      <td>A</td>\n",
       "      <td>1842-43</td>\n",
       "      <td>3853.0</td>\n",
       "      <td>New York Philharmonic</td>\n",
       "    </tr>\n",
       "  </tbody>\n",
       "</table>\n",
       "</div>"
      ],
      "text/plain": [
       "                   Date       Location    Time         Venue  \\\n",
       "0  1842-12-07T05:00:00Z  Manhattan, NY  8:00PM  Apollo Rooms   \n",
       "1  1842-12-07T05:00:00Z  Manhattan, NY  8:00PM  Apollo Rooms   \n",
       "2  1842-12-07T05:00:00Z  Manhattan, NY  8:00PM  Apollo Rooms   \n",
       "3  1842-12-07T05:00:00Z  Manhattan, NY  8:00PM  Apollo Rooms   \n",
       "4  1842-12-07T05:00:00Z  Manhattan, NY  8:00PM  Apollo Rooms   \n",
       "\n",
       "             eventType                                    id  \\\n",
       "0  Subscription Season  38e072a7-8fc9-4f9a-8eac-3957905c0002   \n",
       "1  Subscription Season  38e072a7-8fc9-4f9a-8eac-3957905c0002   \n",
       "2  Subscription Season  38e072a7-8fc9-4f9a-8eac-3957905c0002   \n",
       "3  Subscription Season  38e072a7-8fc9-4f9a-8eac-3957905c0002   \n",
       "4  Subscription Season  38e072a7-8fc9-4f9a-8eac-3957905c0002   \n",
       "\n",
       "              composerName        conductorName interval movement  \\\n",
       "0  Beethoven,  Ludwig  van  Hill, Ureli Corelli      NaN      NaN   \n",
       "1  Beethoven,  Ludwig  van  Hill, Ureli Corelli      NaN      NaN   \n",
       "2  Beethoven,  Ludwig  van  Hill, Ureli Corelli      NaN      NaN   \n",
       "3  Beethoven,  Ludwig  van  Hill, Ureli Corelli      NaN      NaN   \n",
       "4  Beethoven,  Ludwig  van  Hill, Ureli Corelli      NaN      NaN   \n",
       "\n",
       "                          workTitle soloistInstrument            soloistName  \\\n",
       "0  SYMPHONY NO. 5 IN C MINOR, OP.67           Soprano       Otto, Antoinette   \n",
       "1  SYMPHONY NO. 5 IN C MINOR, OP.67             Piano  Scharfenberg, William   \n",
       "2  SYMPHONY NO. 5 IN C MINOR, OP.67            Violin    Hill, Ureli Corelli   \n",
       "3  SYMPHONY NO. 5 IN C MINOR, OP.67             Viola         Derwort, G. H.   \n",
       "4  SYMPHONY NO. 5 IN C MINOR, OP.67             Cello        Boucher, Alfred   \n",
       "\n",
       "  soloistRoles   season  programID              orchestra  \n",
       "0            S  1842-43     3853.0  New York Philharmonic  \n",
       "1            A  1842-43     3853.0  New York Philharmonic  \n",
       "2            A  1842-43     3853.0  New York Philharmonic  \n",
       "3            A  1842-43     3853.0  New York Philharmonic  \n",
       "4            A  1842-43     3853.0  New York Philharmonic  "
      ]
     },
     "execution_count": 45,
     "metadata": {},
     "output_type": "execute_result"
    }
   ],
   "source": [
    "ny_phil[ny_phil.composerName.str.contains('Beethoven') & ny_phil.composerName.notnull()].head()"
   ]
  },
  {
   "cell_type": "code",
   "execution_count": 46,
   "metadata": {},
   "outputs": [
    {
     "data": {
      "text/html": [
       "<div>\n",
       "<style>\n",
       "    .dataframe thead tr:only-child th {\n",
       "        text-align: right;\n",
       "    }\n",
       "\n",
       "    .dataframe thead th {\n",
       "        text-align: left;\n",
       "    }\n",
       "\n",
       "    .dataframe tbody tr th {\n",
       "        vertical-align: top;\n",
       "    }\n",
       "</style>\n",
       "<table border=\"1\" class=\"dataframe\">\n",
       "  <thead>\n",
       "    <tr style=\"text-align: right;\">\n",
       "      <th></th>\n",
       "      <th>workTitle</th>\n",
       "      <th>composerName</th>\n",
       "      <th>season</th>\n",
       "      <th>count</th>\n",
       "    </tr>\n",
       "  </thead>\n",
       "  <tbody>\n",
       "    <tr>\n",
       "      <th>32605</th>\n",
       "      <td>WEST SIDE STORY, SYMPHONIC DANCES</td>\n",
       "      <td>Bernstein,  Leonard</td>\n",
       "      <td>2016-17</td>\n",
       "      <td>1</td>\n",
       "    </tr>\n",
       "    <tr>\n",
       "      <th>32606</th>\n",
       "      <td>WEXFORD CAROL (ARR. Snedecor)</td>\n",
       "      <td>Anonymous,</td>\n",
       "      <td>2016-17</td>\n",
       "      <td>1</td>\n",
       "    </tr>\n",
       "    <tr>\n",
       "      <th>32607</th>\n",
       "      <td>WING ON WING</td>\n",
       "      <td>Salonen,  Esa-Pekka</td>\n",
       "      <td>2016-17</td>\n",
       "      <td>1</td>\n",
       "    </tr>\n",
       "    <tr>\n",
       "      <th>32608</th>\n",
       "      <td>YOGA</td>\n",
       "      <td>Bjork [Björk],</td>\n",
       "      <td>2016-17</td>\n",
       "      <td>1</td>\n",
       "    </tr>\n",
       "    <tr>\n",
       "      <th>32609</th>\n",
       "      <td>YOU ARE MY SUNSHINE  (ARR. Young)</td>\n",
       "      <td>Davis,  Jimmie</td>\n",
       "      <td>2016-17</td>\n",
       "      <td>1</td>\n",
       "    </tr>\n",
       "  </tbody>\n",
       "</table>\n",
       "</div>"
      ],
      "text/plain": [
       "                               workTitle         composerName   season  count\n",
       "32605  WEST SIDE STORY, SYMPHONIC DANCES  Bernstein,  Leonard  2016-17      1\n",
       "32606      WEXFORD CAROL (ARR. Snedecor)           Anonymous,  2016-17      1\n",
       "32607                       WING ON WING  Salonen,  Esa-Pekka  2016-17      1\n",
       "32608                               YOGA       Bjork [Björk],  2016-17      1\n",
       "32609  YOU ARE MY SUNSHINE  (ARR. Young)       Davis,  Jimmie  2016-17      1"
      ]
     },
     "execution_count": 46,
     "metadata": {},
     "output_type": "execute_result"
    }
   ],
   "source": [
    "phil_composer = ny_phil.groupby(['season','workTitle'])['composerName'].value_counts().reset_index(level=0)\n",
    "phil_composer = phil_composer.rename(columns = {'composerName':'count'}).reset_index()\n",
    "phil_composer['count'] = 1\n",
    "phil_composer.tail()"
   ]
  },
  {
   "cell_type": "code",
   "execution_count": 47,
   "metadata": {
    "collapsed": true
   },
   "outputs": [],
   "source": [
    "composer_data = phil_composer[phil_composer.composerName.str.contains('Beethoven|Mozart,  Wolfgang|Wagner,  Richard|Tchaikovsky')]"
   ]
  },
  {
   "cell_type": "code",
   "execution_count": 48,
   "metadata": {},
   "outputs": [
    {
     "name": "stderr",
     "output_type": "stream",
     "text": [
      "/usr/local/lib/python3.6/site-packages/ipykernel_launcher.py:1: FutureWarning: currently extract(expand=None) means expand=False (return Index/Series/DataFrame) but in a future version of pandas this will be changed to expand=True (return DataFrame)\n",
      "  \"\"\"Entry point for launching an IPython kernel.\n",
      "/usr/local/lib/python3.6/site-packages/ipykernel_launcher.py:1: SettingWithCopyWarning: \n",
      "A value is trying to be set on a copy of a slice from a DataFrame.\n",
      "Try using .loc[row_indexer,col_indexer] = value instead\n",
      "\n",
      "See the caveats in the documentation: http://pandas.pydata.org/pandas-docs/stable/indexing.html#indexing-view-versus-copy\n",
      "  \"\"\"Entry point for launching an IPython kernel.\n"
     ]
    }
   ],
   "source": [
    "composer_data['year'] = composer_data['season'].astype(str).str.extract('(\\d{4}).*')\n",
    "composer_data['year'] = composer_data['year'].astype(str).astype(int)"
   ]
  },
  {
   "cell_type": "code",
   "execution_count": 49,
   "metadata": {},
   "outputs": [
    {
     "data": {
      "text/html": [
       "<div>\n",
       "<style>\n",
       "    .dataframe thead tr:only-child th {\n",
       "        text-align: right;\n",
       "    }\n",
       "\n",
       "    .dataframe thead th {\n",
       "        text-align: left;\n",
       "    }\n",
       "\n",
       "    .dataframe tbody tr th {\n",
       "        vertical-align: top;\n",
       "    }\n",
       "</style>\n",
       "<table border=\"1\" class=\"dataframe\">\n",
       "  <thead>\n",
       "    <tr style=\"text-align: right;\">\n",
       "      <th></th>\n",
       "      <th>workTitle</th>\n",
       "      <th>composerName</th>\n",
       "      <th>season</th>\n",
       "      <th>count</th>\n",
       "      <th>year</th>\n",
       "    </tr>\n",
       "  </thead>\n",
       "  <tbody>\n",
       "    <tr>\n",
       "      <th>0</th>\n",
       "      <td>ABDUCTION FROM THE SERAGLIO,THE, K.384</td>\n",
       "      <td>Mozart,  Wolfgang  Amadeus</td>\n",
       "      <td>1842-43</td>\n",
       "      <td>1</td>\n",
       "      <td>1842</td>\n",
       "    </tr>\n",
       "    <tr>\n",
       "      <th>6</th>\n",
       "      <td>EGMONT, OP.84</td>\n",
       "      <td>Beethoven,  Ludwig  van</td>\n",
       "      <td>1842-43</td>\n",
       "      <td>1</td>\n",
       "      <td>1842</td>\n",
       "    </tr>\n",
       "    <tr>\n",
       "      <th>9</th>\n",
       "      <td>FIDELIO, OP. 72</td>\n",
       "      <td>Beethoven,  Ludwig  van</td>\n",
       "      <td>1842-43</td>\n",
       "      <td>1</td>\n",
       "      <td>1842</td>\n",
       "    </tr>\n",
       "    <tr>\n",
       "      <th>14</th>\n",
       "      <td>MAGIC FLUTE, THE, K.620</td>\n",
       "      <td>Mozart,  Wolfgang  Amadeus</td>\n",
       "      <td>1842-43</td>\n",
       "      <td>1</td>\n",
       "      <td>1842</td>\n",
       "    </tr>\n",
       "    <tr>\n",
       "      <th>21</th>\n",
       "      <td>SEPTET, E-FLAT MAJOR, OP.20</td>\n",
       "      <td>Beethoven,  Ludwig  van</td>\n",
       "      <td>1842-43</td>\n",
       "      <td>1</td>\n",
       "      <td>1842</td>\n",
       "    </tr>\n",
       "  </tbody>\n",
       "</table>\n",
       "</div>"
      ],
      "text/plain": [
       "                                 workTitle                composerName  \\\n",
       "0   ABDUCTION FROM THE SERAGLIO,THE, K.384  Mozart,  Wolfgang  Amadeus   \n",
       "6                            EGMONT, OP.84     Beethoven,  Ludwig  van   \n",
       "9                          FIDELIO, OP. 72     Beethoven,  Ludwig  van   \n",
       "14                 MAGIC FLUTE, THE, K.620  Mozart,  Wolfgang  Amadeus   \n",
       "21             SEPTET, E-FLAT MAJOR, OP.20     Beethoven,  Ludwig  van   \n",
       "\n",
       "     season  count  year  \n",
       "0   1842-43      1  1842  \n",
       "6   1842-43      1  1842  \n",
       "9   1842-43      1  1842  \n",
       "14  1842-43      1  1842  \n",
       "21  1842-43      1  1842  "
      ]
     },
     "execution_count": 49,
     "metadata": {},
     "output_type": "execute_result"
    }
   ],
   "source": []
  },
  {
   "cell_type": "code",
   "execution_count": 50,
   "metadata": {},
   "outputs": [
    {
     "name": "stderr",
     "output_type": "stream",
     "text": [
      "/usr/local/lib/python3.6/site-packages/ipykernel_launcher.py:1: SettingWithCopyWarning: \n",
      "A value is trying to be set on a copy of a slice from a DataFrame.\n",
      "Try using .loc[row_indexer,col_indexer] = value instead\n",
      "\n",
      "See the caveats in the documentation: http://pandas.pydata.org/pandas-docs/stable/indexing.html#indexing-view-versus-copy\n",
      "  \"\"\"Entry point for launching an IPython kernel.\n"
     ]
    }
   ],
   "source": [
    "composer_data['year'] = composer_data['year'].astype(str).astype(int)"
   ]
  },
  {
   "cell_type": "code",
   "execution_count": 51,
   "metadata": {},
   "outputs": [
    {
     "data": {
      "text/plain": [
       "workTitle       object\n",
       "composerName    object\n",
       "season          object\n",
       "count            int64\n",
       "year             int64\n",
       "dtype: object"
      ]
     },
     "execution_count": 51,
     "metadata": {},
     "output_type": "execute_result"
    }
   ],
   "source": [
    "composer_data.dtypes"
   ]
  },
  {
   "cell_type": "code",
   "execution_count": 53,
   "metadata": {
    "collapsed": true
   },
   "outputs": [],
   "source": [
    "composer_total = phil_composer.groupby(['season','composerName'])['count'].sum().to_frame().reset_index()\n",
    "\n",
    "composer_total = phil_composer.groupby('season')['count'].sum().reset_index().rename(columns={'count':'total'})"
   ]
  },
  {
   "cell_type": "code",
   "execution_count": 54,
   "metadata": {
    "collapsed": true
   },
   "outputs": [],
   "source": [
    "#phil_composer = phil_composer.merge(composer_total, on='season', how='left')\n",
    "phil_composer = phil_composer.groupby('season')['composerName'].value_counts().to_frame().rename(columns={'composerName':'work_count'}).reset_index()"
   ]
  },
  {
   "cell_type": "code",
   "execution_count": 55,
   "metadata": {},
   "outputs": [
    {
     "data": {
      "text/html": [
       "<div>\n",
       "<style>\n",
       "    .dataframe thead tr:only-child th {\n",
       "        text-align: right;\n",
       "    }\n",
       "\n",
       "    .dataframe thead th {\n",
       "        text-align: left;\n",
       "    }\n",
       "\n",
       "    .dataframe tbody tr th {\n",
       "        vertical-align: top;\n",
       "    }\n",
       "</style>\n",
       "<table border=\"1\" class=\"dataframe\">\n",
       "  <thead>\n",
       "    <tr style=\"text-align: right;\">\n",
       "      <th></th>\n",
       "      <th>season</th>\n",
       "      <th>composerName</th>\n",
       "      <th>work_count</th>\n",
       "      <th>total</th>\n",
       "    </tr>\n",
       "  </thead>\n",
       "  <tbody>\n",
       "    <tr>\n",
       "      <th>0</th>\n",
       "      <td>1842-43</td>\n",
       "      <td>Beethoven,  Ludwig  van</td>\n",
       "      <td>6</td>\n",
       "      <td>29</td>\n",
       "    </tr>\n",
       "    <tr>\n",
       "      <th>1</th>\n",
       "      <td>1842-43</td>\n",
       "      <td>Hummel,  Johann</td>\n",
       "      <td>3</td>\n",
       "      <td>29</td>\n",
       "    </tr>\n",
       "  </tbody>\n",
       "</table>\n",
       "</div>"
      ],
      "text/plain": [
       "    season             composerName  work_count  total\n",
       "0  1842-43  Beethoven,  Ludwig  van           6     29\n",
       "1  1842-43          Hummel,  Johann           3     29"
      ]
     },
     "execution_count": 55,
     "metadata": {},
     "output_type": "execute_result"
    }
   ],
   "source": [
    "phil_composer = phil_composer.merge(composer_total, on='season', how='left')\n",
    "phil_composer.head(2)"
   ]
  },
  {
   "cell_type": "code",
   "execution_count": 56,
   "metadata": {},
   "outputs": [],
   "source": [
    "phil_composer.groupby('season')['work_count'].sum().to_frame().reset_index().plot()\n",
    "plt.savefig('total_performance.pdf')"
   ]
  },
  {
   "cell_type": "code",
   "execution_count": 57,
   "metadata": {
    "collapsed": true
   },
   "outputs": [],
   "source": [
    "phil_composer['percent'] = phil_composer['work_count'] / phil_composer['total'] "
   ]
  },
  {
   "cell_type": "code",
   "execution_count": 58,
   "metadata": {},
   "outputs": [
    {
     "data": {
      "text/html": [
       "<div>\n",
       "<style>\n",
       "    .dataframe thead tr:only-child th {\n",
       "        text-align: right;\n",
       "    }\n",
       "\n",
       "    .dataframe thead th {\n",
       "        text-align: left;\n",
       "    }\n",
       "\n",
       "    .dataframe tbody tr th {\n",
       "        vertical-align: top;\n",
       "    }\n",
       "</style>\n",
       "<table border=\"1\" class=\"dataframe\">\n",
       "  <thead>\n",
       "    <tr style=\"text-align: right;\">\n",
       "      <th></th>\n",
       "      <th>season</th>\n",
       "      <th>composerName</th>\n",
       "      <th>work_count</th>\n",
       "      <th>total</th>\n",
       "      <th>percent</th>\n",
       "    </tr>\n",
       "  </thead>\n",
       "  <tbody>\n",
       "    <tr>\n",
       "      <th>0</th>\n",
       "      <td>1842-43</td>\n",
       "      <td>Beethoven,  Ludwig  van</td>\n",
       "      <td>6</td>\n",
       "      <td>29</td>\n",
       "      <td>0.206897</td>\n",
       "    </tr>\n",
       "    <tr>\n",
       "      <th>4</th>\n",
       "      <td>1842-43</td>\n",
       "      <td>Mozart,  Wolfgang  Amadeus</td>\n",
       "      <td>2</td>\n",
       "      <td>29</td>\n",
       "      <td>0.068966</td>\n",
       "    </tr>\n",
       "    <tr>\n",
       "      <th>17</th>\n",
       "      <td>1843-44</td>\n",
       "      <td>Beethoven,  Ludwig  van</td>\n",
       "      <td>2</td>\n",
       "      <td>21</td>\n",
       "      <td>0.095238</td>\n",
       "    </tr>\n",
       "    <tr>\n",
       "      <th>20</th>\n",
       "      <td>1843-44</td>\n",
       "      <td>Mozart,  Wolfgang  Amadeus</td>\n",
       "      <td>2</td>\n",
       "      <td>21</td>\n",
       "      <td>0.095238</td>\n",
       "    </tr>\n",
       "    <tr>\n",
       "      <th>31</th>\n",
       "      <td>1844-45</td>\n",
       "      <td>Beethoven,  Ludwig  van</td>\n",
       "      <td>4</td>\n",
       "      <td>26</td>\n",
       "      <td>0.153846</td>\n",
       "    </tr>\n",
       "  </tbody>\n",
       "</table>\n",
       "</div>"
      ],
      "text/plain": [
       "     season                composerName  work_count  total   percent\n",
       "0   1842-43     Beethoven,  Ludwig  van           6     29  0.206897\n",
       "4   1842-43  Mozart,  Wolfgang  Amadeus           2     29  0.068966\n",
       "17  1843-44     Beethoven,  Ludwig  van           2     21  0.095238\n",
       "20  1843-44  Mozart,  Wolfgang  Amadeus           2     21  0.095238\n",
       "31  1844-45     Beethoven,  Ludwig  van           4     26  0.153846"
      ]
     },
     "execution_count": 58,
     "metadata": {},
     "output_type": "execute_result"
    }
   ],
   "source": [
    "top4 = phil_composer[phil_composer['composerName'].str.contains('Beethoven|Mozart,  Wolfgang|Wagner,  Richard|Tchaikovsky')]\n",
    "top4.head()"
   ]
  },
  {
   "cell_type": "code",
   "execution_count": 61,
   "metadata": {},
   "outputs": [],
   "source": [
    "import matplotlib.pyplot as plt\n",
    "\n",
    "#fig, ax = plt.subplots()\n",
    "top4[top4.composerName.str.contains('Beethoven')].plot(x='season', y='work_count', legend=False)\n",
    "plt.savefig('composer_percentage_b_count.pdf')"
   ]
  },
  {
   "cell_type": "code",
   "execution_count": 60,
   "metadata": {},
   "outputs": [
    {
     "data": {
      "text/plain": [
       "<matplotlib.axes._subplots.AxesSubplot at 0x10e969240>"
      ]
     },
     "execution_count": 60,
     "metadata": {},
     "output_type": "execute_result"
    }
   ],
   "source": [
    "top4[top4.composerName.str.contains('Beethoven')].work_count.plot()#.area(stacked=False)"
   ]
  },
  {
   "cell_type": "code",
   "execution_count": 62,
   "metadata": {
    "collapsed": true
   },
   "outputs": [],
   "source": [
    "all_data = data['programs']\n",
    "list_of_allcomposer = []\n",
    "list_of_allwork = []\n",
    "list_of_season = []\n",
    "for concert in all_data:\n",
    "    for work in concert['works']:\n",
    "        if work['ID'] != \"0*\" and 'composerName' in work:#print(work['ID'])\n",
    "            #print(work['composerName'])\n",
    "            list_of_allcomposer.append(work['composerName'])\n",
    "            list_of_allwork.append(work['workTitle'])\n",
    "            list_of_season.append(concert['season'])\n",
    "        \n",
    "info_all = pd.DataFrame(\n",
    "    {'composer': list_of_allcomposer,\n",
    "     'work': list_of_allwork,\n",
    "     'season':list_of_season\n",
    "    })"
   ]
  },
  {
   "cell_type": "code",
   "execution_count": 105,
   "metadata": {},
   "outputs": [
    {
     "name": "stderr",
     "output_type": "stream",
     "text": [
      "/usr/local/lib/python3.6/site-packages/ipykernel_launcher.py:3: FutureWarning: currently extract(expand=None) means expand=False (return Index/Series/DataFrame) but in a future version of pandas this will be changed to expand=True (return DataFrame)\n",
      "  This is separate from the ipykernel package so we can avoid doing imports until\n",
      "/usr/local/lib/python3.6/site-packages/ipykernel_launcher.py:3: SettingWithCopyWarning: \n",
      "A value is trying to be set on a copy of a slice from a DataFrame.\n",
      "Try using .loc[row_indexer,col_indexer] = value instead\n",
      "\n",
      "See the caveats in the documentation: http://pandas.pydata.org/pandas-docs/stable/indexing.html#indexing-view-versus-copy\n",
      "  This is separate from the ipykernel package so we can avoid doing imports until\n",
      "/usr/local/lib/python3.6/site-packages/ipykernel_launcher.py:4: SettingWithCopyWarning: \n",
      "A value is trying to be set on a copy of a slice from a DataFrame.\n",
      "Try using .loc[row_indexer,col_indexer] = value instead\n",
      "\n",
      "See the caveats in the documentation: http://pandas.pydata.org/pandas-docs/stable/indexing.html#indexing-view-versus-copy\n",
      "  after removing the cwd from sys.path.\n"
     ]
    }
   ],
   "source": [
    "cdata = info_all[info_all.composer.str.contains('Beethoven|Mozart,  Wolfgang|Wagner,  Richard|Tchaikovsky')]\n",
    "\n",
    "cdata['year'] = cdata['season'].astype(str).str.extract('(\\d{4}).*')\n",
    "cdata['year'] = cdata['year'].astype(str).astype(int)"
   ]
  },
  {
   "cell_type": "code",
   "execution_count": 106,
   "metadata": {},
   "outputs": [
    {
     "data": {
      "text/plain": [
       "composer    object\n",
       "season      object\n",
       "work        object\n",
       "year         int64\n",
       "dtype: object"
      ]
     },
     "execution_count": 106,
     "metadata": {},
     "output_type": "execute_result"
    }
   ],
   "source": [
    "cdata.dtypes"
   ]
  },
  {
   "cell_type": "code",
   "execution_count": 108,
   "metadata": {
    "collapsed": true
   },
   "outputs": [],
   "source": [
    "from ggplot import *"
   ]
  },
  {
   "cell_type": "code",
   "execution_count": 130,
   "metadata": {},
   "outputs": [],
   "source": [
    "from matplotlib import pyplot as plt"
   ]
  },
  {
   "cell_type": "code",
   "execution_count": 176,
   "metadata": {},
   "outputs": [
    {
     "data": {
      "image/png": "[encoded data removed]",
      "text/plain": [
       "<matplotlib.figure.Figure at 0x12a8fc9b0>"
      ]
     },
     "metadata": {},
     "output_type": "display_data"
    }
   ],
   "source": [
    "myggplot = ggplot(cdata, aes(x='year')) + \\\n",
    "    geom_histogram(alpha=.8, position = 'stack', stat = 'bin', binwidth=5, fill=\"#9B1D21\", color = \"#848484\") + \\\n",
    "    facet_wrap(\"composer\")+\\\n",
    "    geom_density() +\\\n",
    "    xlim(1842, 2016) +\\\n",
    "    ylim(0,1000)\n",
    "\n",
    "myggplot.save('gg.png', width=None, height=None, dpi=180)"
   ]
  },
  {
   "cell_type": "code",
   "execution_count": null,
   "metadata": {
    "collapsed": true
   },
   "outputs": [],
   "source": []
  },
  {
   "cell_type": "code",
   "execution_count": 63,
   "metadata": {
    "collapsed": true
   },
   "outputs": [],
   "source": [
    "beethoven = info_all[info_all.composer.str.contains('Beethoven')].groupby('season')['work'].value_counts().to_frame().reset_index(level=0)"
   ]
  },
  {
   "cell_type": "code",
   "execution_count": 64,
   "metadata": {
    "collapsed": true
   },
   "outputs": [],
   "source": [
    "beethoven=beethoven.rename(columns={'work':'b_count'})\n",
    "beethoven = beethoven.reset_index()\n",
    "beethoven=beethoven.rename(columns={'work':'b_work'})"
   ]
  },
  {
   "cell_type": "code",
   "execution_count": 350,
   "metadata": {
    "collapsed": true
   },
   "outputs": [],
   "source": [
    "#beethoven.groupby('season')['b_count'].sum().head()"
   ]
  },
  {
   "cell_type": "code",
   "execution_count": 69,
   "metadata": {},
   "outputs": [
    {
     "data": {
      "text/html": [
       "<div>\n",
       "<style>\n",
       "    .dataframe thead tr:only-child th {\n",
       "        text-align: right;\n",
       "    }\n",
       "\n",
       "    .dataframe thead th {\n",
       "        text-align: left;\n",
       "    }\n",
       "\n",
       "    .dataframe tbody tr th {\n",
       "        vertical-align: top;\n",
       "    }\n",
       "</style>\n",
       "<table border=\"1\" class=\"dataframe\">\n",
       "  <thead>\n",
       "    <tr style=\"text-align: right;\">\n",
       "      <th></th>\n",
       "      <th>season</th>\n",
       "      <th>b_count_x</th>\n",
       "      <th>m_count</th>\n",
       "      <th>b_count_y</th>\n",
       "      <th>w_count</th>\n",
       "      <th>b_count</th>\n",
       "      <th>t_count</th>\n",
       "    </tr>\n",
       "  </thead>\n",
       "  <tbody>\n",
       "    <tr>\n",
       "      <th>0</th>\n",
       "      <td>1842-43</td>\n",
       "      <td>6</td>\n",
       "      <td>2.0</td>\n",
       "      <td>6</td>\n",
       "      <td>NaN</td>\n",
       "      <td>6</td>\n",
       "      <td>NaN</td>\n",
       "    </tr>\n",
       "    <tr>\n",
       "      <th>1</th>\n",
       "      <td>1843-44</td>\n",
       "      <td>2</td>\n",
       "      <td>2.0</td>\n",
       "      <td>2</td>\n",
       "      <td>NaN</td>\n",
       "      <td>2</td>\n",
       "      <td>NaN</td>\n",
       "    </tr>\n",
       "    <tr>\n",
       "      <th>2</th>\n",
       "      <td>1844-45</td>\n",
       "      <td>4</td>\n",
       "      <td>1.0</td>\n",
       "      <td>4</td>\n",
       "      <td>NaN</td>\n",
       "      <td>4</td>\n",
       "      <td>NaN</td>\n",
       "    </tr>\n",
       "    <tr>\n",
       "      <th>3</th>\n",
       "      <td>1845-46</td>\n",
       "      <td>3</td>\n",
       "      <td>3.0</td>\n",
       "      <td>3</td>\n",
       "      <td>NaN</td>\n",
       "      <td>3</td>\n",
       "      <td>NaN</td>\n",
       "    </tr>\n",
       "    <tr>\n",
       "      <th>4</th>\n",
       "      <td>1846-47</td>\n",
       "      <td>3</td>\n",
       "      <td>2.0</td>\n",
       "      <td>3</td>\n",
       "      <td>NaN</td>\n",
       "      <td>3</td>\n",
       "      <td>NaN</td>\n",
       "    </tr>\n",
       "  </tbody>\n",
       "</table>\n",
       "</div>"
      ],
      "text/plain": [
       "    season  b_count_x  m_count  b_count_y  w_count  b_count  t_count\n",
       "0  1842-43          6      2.0          6      NaN        6      NaN\n",
       "1  1843-44          2      2.0          2      NaN        2      NaN\n",
       "2  1844-45          4      1.0          4      NaN        4      NaN\n",
       "3  1845-46          3      3.0          3      NaN        3      NaN\n",
       "4  1846-47          3      2.0          3      NaN        3      NaN"
      ]
     },
     "execution_count": 69,
     "metadata": {},
     "output_type": "execute_result"
    }
   ],
   "source": [
    "b = beethoven.groupby('season')['b_count'].sum().to_frame().reset_index()\n",
    "w = wagner.groupby('season')['w_count'].sum().to_frame().reset_index()\n",
    "t = tchai.groupby('season')['t_count'].sum().to_frame().reset_index()\n",
    "m = mozart.groupby('season')['m_count'].sum().to_frame().reset_index()\n",
    "b_w = b.merge(w, on='season', how='left')\n",
    "b_t = b.merge(t, on='season', how='left')\n",
    "# b_w_t_m = m.merge(b_w_t, on='season', how='right')\n",
    "# b_w_t_m.set_index('season',inplace=True)\n",
    "# b_w_t_m\n",
    "b_m = b.merge(m, on='season', how='left')\n",
    "b_m_w = b_m.merge(b_w, on='season', how='left')\n",
    "b_m_w_t = b_m_w.merge(b_t, on='season', how='left')\n",
    "b_m_w_t.head()"
   ]
  },
  {
   "cell_type": "code",
   "execution_count": 70,
   "metadata": {
    "collapsed": true
   },
   "outputs": [],
   "source": [
    "del b_m_w_t['b_count_x']"
   ]
  },
  {
   "cell_type": "code",
   "execution_count": 71,
   "metadata": {
    "collapsed": true
   },
   "outputs": [],
   "source": [
    "del b_m_w_t['b_count_y']"
   ]
  },
  {
   "cell_type": "code",
   "execution_count": 78,
   "metadata": {},
   "outputs": [],
   "source": [
    "b_m_w_t.set_index('season').reset_index(inplace=True)\n"
   ]
  },
  {
   "cell_type": "code",
   "execution_count": 79,
   "metadata": {},
   "outputs": [
    {
     "name": "stderr",
     "output_type": "stream",
     "text": [
      "/usr/local/lib/python3.6/site-packages/ipykernel_launcher.py:1: FutureWarning: currently extract(expand=None) means expand=False (return Index/Series/DataFrame) but in a future version of pandas this will be changed to expand=True (return DataFrame)\n",
      "  \"\"\"Entry point for launching an IPython kernel.\n"
     ]
    }
   ],
   "source": [
    "b_m_w_t['year'] = b_m_w_t['season'].astype(str).str.extract('(\\d{4}).*')"
   ]
  },
  {
   "cell_type": "code",
   "execution_count": 81,
   "metadata": {},
   "outputs": [],
   "source": [
    "b_m_w_t['year'] = b_m_w_t['year'].astype(str).astype(int)"
   ]
  },
  {
   "cell_type": "code",
   "execution_count": 82,
   "metadata": {},
   "outputs": [
    {
     "data": {
      "text/html": [
       "<div>\n",
       "<style>\n",
       "    .dataframe thead tr:only-child th {\n",
       "        text-align: right;\n",
       "    }\n",
       "\n",
       "    .dataframe thead th {\n",
       "        text-align: left;\n",
       "    }\n",
       "\n",
       "    .dataframe tbody tr th {\n",
       "        vertical-align: top;\n",
       "    }\n",
       "</style>\n",
       "<table border=\"1\" class=\"dataframe\">\n",
       "  <thead>\n",
       "    <tr style=\"text-align: right;\">\n",
       "      <th></th>\n",
       "      <th>season</th>\n",
       "      <th>m_count</th>\n",
       "      <th>w_count</th>\n",
       "      <th>b_count</th>\n",
       "      <th>t_count</th>\n",
       "      <th>year</th>\n",
       "    </tr>\n",
       "  </thead>\n",
       "  <tbody>\n",
       "    <tr>\n",
       "      <th>0</th>\n",
       "      <td>1842-43</td>\n",
       "      <td>2.0</td>\n",
       "      <td>NaN</td>\n",
       "      <td>6</td>\n",
       "      <td>NaN</td>\n",
       "      <td>1842</td>\n",
       "    </tr>\n",
       "    <tr>\n",
       "      <th>1</th>\n",
       "      <td>1843-44</td>\n",
       "      <td>2.0</td>\n",
       "      <td>NaN</td>\n",
       "      <td>2</td>\n",
       "      <td>NaN</td>\n",
       "      <td>1843</td>\n",
       "    </tr>\n",
       "    <tr>\n",
       "      <th>2</th>\n",
       "      <td>1844-45</td>\n",
       "      <td>1.0</td>\n",
       "      <td>NaN</td>\n",
       "      <td>4</td>\n",
       "      <td>NaN</td>\n",
       "      <td>1844</td>\n",
       "    </tr>\n",
       "    <tr>\n",
       "      <th>3</th>\n",
       "      <td>1845-46</td>\n",
       "      <td>3.0</td>\n",
       "      <td>NaN</td>\n",
       "      <td>3</td>\n",
       "      <td>NaN</td>\n",
       "      <td>1845</td>\n",
       "    </tr>\n",
       "    <tr>\n",
       "      <th>4</th>\n",
       "      <td>1846-47</td>\n",
       "      <td>2.0</td>\n",
       "      <td>NaN</td>\n",
       "      <td>3</td>\n",
       "      <td>NaN</td>\n",
       "      <td>1846</td>\n",
       "    </tr>\n",
       "    <tr>\n",
       "      <th>5</th>\n",
       "      <td>1847-48</td>\n",
       "      <td>5.0</td>\n",
       "      <td>NaN</td>\n",
       "      <td>3</td>\n",
       "      <td>NaN</td>\n",
       "      <td>1847</td>\n",
       "    </tr>\n",
       "    <tr>\n",
       "      <th>6</th>\n",
       "      <td>1848-49</td>\n",
       "      <td>NaN</td>\n",
       "      <td>NaN</td>\n",
       "      <td>1</td>\n",
       "      <td>NaN</td>\n",
       "      <td>1848</td>\n",
       "    </tr>\n",
       "    <tr>\n",
       "      <th>7</th>\n",
       "      <td>1849-50</td>\n",
       "      <td>NaN</td>\n",
       "      <td>NaN</td>\n",
       "      <td>2</td>\n",
       "      <td>NaN</td>\n",
       "      <td>1849</td>\n",
       "    </tr>\n",
       "    <tr>\n",
       "      <th>8</th>\n",
       "      <td>1850-51</td>\n",
       "      <td>2.0</td>\n",
       "      <td>NaN</td>\n",
       "      <td>2</td>\n",
       "      <td>NaN</td>\n",
       "      <td>1850</td>\n",
       "    </tr>\n",
       "    <tr>\n",
       "      <th>9</th>\n",
       "      <td>1851-52</td>\n",
       "      <td>1.0</td>\n",
       "      <td>NaN</td>\n",
       "      <td>2</td>\n",
       "      <td>NaN</td>\n",
       "      <td>1851</td>\n",
       "    </tr>\n",
       "    <tr>\n",
       "      <th>10</th>\n",
       "      <td>1852-53</td>\n",
       "      <td>1.0</td>\n",
       "      <td>NaN</td>\n",
       "      <td>3</td>\n",
       "      <td>NaN</td>\n",
       "      <td>1852</td>\n",
       "    </tr>\n",
       "    <tr>\n",
       "      <th>11</th>\n",
       "      <td>1853-54</td>\n",
       "      <td>1.0</td>\n",
       "      <td>NaN</td>\n",
       "      <td>3</td>\n",
       "      <td>NaN</td>\n",
       "      <td>1853</td>\n",
       "    </tr>\n",
       "    <tr>\n",
       "      <th>12</th>\n",
       "      <td>1854-55</td>\n",
       "      <td>2.0</td>\n",
       "      <td>1.0</td>\n",
       "      <td>5</td>\n",
       "      <td>NaN</td>\n",
       "      <td>1854</td>\n",
       "    </tr>\n",
       "    <tr>\n",
       "      <th>13</th>\n",
       "      <td>1855-56</td>\n",
       "      <td>NaN</td>\n",
       "      <td>1.0</td>\n",
       "      <td>2</td>\n",
       "      <td>NaN</td>\n",
       "      <td>1855</td>\n",
       "    </tr>\n",
       "    <tr>\n",
       "      <th>14</th>\n",
       "      <td>1856-57</td>\n",
       "      <td>3.0</td>\n",
       "      <td>1.0</td>\n",
       "      <td>3</td>\n",
       "      <td>NaN</td>\n",
       "      <td>1856</td>\n",
       "    </tr>\n",
       "    <tr>\n",
       "      <th>15</th>\n",
       "      <td>1857-58</td>\n",
       "      <td>4.0</td>\n",
       "      <td>1.0</td>\n",
       "      <td>3</td>\n",
       "      <td>NaN</td>\n",
       "      <td>1857</td>\n",
       "    </tr>\n",
       "    <tr>\n",
       "      <th>16</th>\n",
       "      <td>1858-59</td>\n",
       "      <td>1.0</td>\n",
       "      <td>1.0</td>\n",
       "      <td>4</td>\n",
       "      <td>NaN</td>\n",
       "      <td>1858</td>\n",
       "    </tr>\n",
       "    <tr>\n",
       "      <th>17</th>\n",
       "      <td>1859-60</td>\n",
       "      <td>4.0</td>\n",
       "      <td>2.0</td>\n",
       "      <td>5</td>\n",
       "      <td>NaN</td>\n",
       "      <td>1859</td>\n",
       "    </tr>\n",
       "    <tr>\n",
       "      <th>18</th>\n",
       "      <td>1860-61</td>\n",
       "      <td>2.0</td>\n",
       "      <td>2.0</td>\n",
       "      <td>4</td>\n",
       "      <td>NaN</td>\n",
       "      <td>1860</td>\n",
       "    </tr>\n",
       "    <tr>\n",
       "      <th>19</th>\n",
       "      <td>1861-62</td>\n",
       "      <td>2.0</td>\n",
       "      <td>1.0</td>\n",
       "      <td>5</td>\n",
       "      <td>NaN</td>\n",
       "      <td>1861</td>\n",
       "    </tr>\n",
       "    <tr>\n",
       "      <th>20</th>\n",
       "      <td>1862-63</td>\n",
       "      <td>2.0</td>\n",
       "      <td>2.0</td>\n",
       "      <td>6</td>\n",
       "      <td>NaN</td>\n",
       "      <td>1862</td>\n",
       "    </tr>\n",
       "    <tr>\n",
       "      <th>21</th>\n",
       "      <td>1863-64</td>\n",
       "      <td>3.0</td>\n",
       "      <td>3.0</td>\n",
       "      <td>4</td>\n",
       "      <td>NaN</td>\n",
       "      <td>1863</td>\n",
       "    </tr>\n",
       "    <tr>\n",
       "      <th>22</th>\n",
       "      <td>1864-65</td>\n",
       "      <td>1.0</td>\n",
       "      <td>NaN</td>\n",
       "      <td>8</td>\n",
       "      <td>NaN</td>\n",
       "      <td>1864</td>\n",
       "    </tr>\n",
       "    <tr>\n",
       "      <th>23</th>\n",
       "      <td>1865-66</td>\n",
       "      <td>2.0</td>\n",
       "      <td>2.0</td>\n",
       "      <td>3</td>\n",
       "      <td>NaN</td>\n",
       "      <td>1865</td>\n",
       "    </tr>\n",
       "    <tr>\n",
       "      <th>24</th>\n",
       "      <td>1866-67</td>\n",
       "      <td>6.0</td>\n",
       "      <td>2.0</td>\n",
       "      <td>5</td>\n",
       "      <td>NaN</td>\n",
       "      <td>1866</td>\n",
       "    </tr>\n",
       "    <tr>\n",
       "      <th>25</th>\n",
       "      <td>1867-68</td>\n",
       "      <td>3.0</td>\n",
       "      <td>1.0</td>\n",
       "      <td>3</td>\n",
       "      <td>NaN</td>\n",
       "      <td>1867</td>\n",
       "    </tr>\n",
       "    <tr>\n",
       "      <th>26</th>\n",
       "      <td>1868-69</td>\n",
       "      <td>1.0</td>\n",
       "      <td>2.0</td>\n",
       "      <td>7</td>\n",
       "      <td>NaN</td>\n",
       "      <td>1868</td>\n",
       "    </tr>\n",
       "    <tr>\n",
       "      <th>27</th>\n",
       "      <td>1869-70</td>\n",
       "      <td>5.0</td>\n",
       "      <td>1.0</td>\n",
       "      <td>8</td>\n",
       "      <td>NaN</td>\n",
       "      <td>1869</td>\n",
       "    </tr>\n",
       "    <tr>\n",
       "      <th>28</th>\n",
       "      <td>1870-71</td>\n",
       "      <td>3.0</td>\n",
       "      <td>1.0</td>\n",
       "      <td>9</td>\n",
       "      <td>NaN</td>\n",
       "      <td>1870</td>\n",
       "    </tr>\n",
       "    <tr>\n",
       "      <th>29</th>\n",
       "      <td>1871-72</td>\n",
       "      <td>2.0</td>\n",
       "      <td>1.0</td>\n",
       "      <td>6</td>\n",
       "      <td>NaN</td>\n",
       "      <td>1871</td>\n",
       "    </tr>\n",
       "    <tr>\n",
       "      <th>...</th>\n",
       "      <td>...</td>\n",
       "      <td>...</td>\n",
       "      <td>...</td>\n",
       "      <td>...</td>\n",
       "      <td>...</td>\n",
       "      <td>...</td>\n",
       "    </tr>\n",
       "    <tr>\n",
       "      <th>145</th>\n",
       "      <td>1987-88</td>\n",
       "      <td>18.0</td>\n",
       "      <td>30.0</td>\n",
       "      <td>12</td>\n",
       "      <td>19.0</td>\n",
       "      <td>1987</td>\n",
       "    </tr>\n",
       "    <tr>\n",
       "      <th>146</th>\n",
       "      <td>1988-89</td>\n",
       "      <td>15.0</td>\n",
       "      <td>36.0</td>\n",
       "      <td>21</td>\n",
       "      <td>13.0</td>\n",
       "      <td>1988</td>\n",
       "    </tr>\n",
       "    <tr>\n",
       "      <th>147</th>\n",
       "      <td>1989-90</td>\n",
       "      <td>15.0</td>\n",
       "      <td>7.0</td>\n",
       "      <td>31</td>\n",
       "      <td>8.0</td>\n",
       "      <td>1989</td>\n",
       "    </tr>\n",
       "    <tr>\n",
       "      <th>148</th>\n",
       "      <td>1990-91</td>\n",
       "      <td>91.0</td>\n",
       "      <td>2.0</td>\n",
       "      <td>10</td>\n",
       "      <td>9.0</td>\n",
       "      <td>1990</td>\n",
       "    </tr>\n",
       "    <tr>\n",
       "      <th>149</th>\n",
       "      <td>1991-92</td>\n",
       "      <td>50.0</td>\n",
       "      <td>1.0</td>\n",
       "      <td>10</td>\n",
       "      <td>21.0</td>\n",
       "      <td>1991</td>\n",
       "    </tr>\n",
       "    <tr>\n",
       "      <th>150</th>\n",
       "      <td>1992-93</td>\n",
       "      <td>11.0</td>\n",
       "      <td>1.0</td>\n",
       "      <td>13</td>\n",
       "      <td>31.0</td>\n",
       "      <td>1992</td>\n",
       "    </tr>\n",
       "    <tr>\n",
       "      <th>151</th>\n",
       "      <td>1993-94</td>\n",
       "      <td>23.0</td>\n",
       "      <td>5.0</td>\n",
       "      <td>39</td>\n",
       "      <td>6.0</td>\n",
       "      <td>1993</td>\n",
       "    </tr>\n",
       "    <tr>\n",
       "      <th>152</th>\n",
       "      <td>1994-95</td>\n",
       "      <td>9.0</td>\n",
       "      <td>3.0</td>\n",
       "      <td>30</td>\n",
       "      <td>44.0</td>\n",
       "      <td>1994</td>\n",
       "    </tr>\n",
       "    <tr>\n",
       "      <th>153</th>\n",
       "      <td>1995-96</td>\n",
       "      <td>9.0</td>\n",
       "      <td>9.0</td>\n",
       "      <td>29</td>\n",
       "      <td>28.0</td>\n",
       "      <td>1995</td>\n",
       "    </tr>\n",
       "    <tr>\n",
       "      <th>154</th>\n",
       "      <td>1996-97</td>\n",
       "      <td>15.0</td>\n",
       "      <td>26.0</td>\n",
       "      <td>9</td>\n",
       "      <td>41.0</td>\n",
       "      <td>1996</td>\n",
       "    </tr>\n",
       "    <tr>\n",
       "      <th>155</th>\n",
       "      <td>1997-98</td>\n",
       "      <td>18.0</td>\n",
       "      <td>NaN</td>\n",
       "      <td>16</td>\n",
       "      <td>19.0</td>\n",
       "      <td>1997</td>\n",
       "    </tr>\n",
       "    <tr>\n",
       "      <th>156</th>\n",
       "      <td>1998-99</td>\n",
       "      <td>7.0</td>\n",
       "      <td>NaN</td>\n",
       "      <td>60</td>\n",
       "      <td>29.0</td>\n",
       "      <td>1998</td>\n",
       "    </tr>\n",
       "    <tr>\n",
       "      <th>157</th>\n",
       "      <td>1999-00</td>\n",
       "      <td>9.0</td>\n",
       "      <td>5.0</td>\n",
       "      <td>10</td>\n",
       "      <td>37.0</td>\n",
       "      <td>1999</td>\n",
       "    </tr>\n",
       "    <tr>\n",
       "      <th>158</th>\n",
       "      <td>2000-01</td>\n",
       "      <td>17.0</td>\n",
       "      <td>10.0</td>\n",
       "      <td>7</td>\n",
       "      <td>3.0</td>\n",
       "      <td>2000</td>\n",
       "    </tr>\n",
       "    <tr>\n",
       "      <th>159</th>\n",
       "      <td>2001-02</td>\n",
       "      <td>26.0</td>\n",
       "      <td>18.0</td>\n",
       "      <td>32</td>\n",
       "      <td>19.0</td>\n",
       "      <td>2001</td>\n",
       "    </tr>\n",
       "    <tr>\n",
       "      <th>160</th>\n",
       "      <td>2002-03</td>\n",
       "      <td>21.0</td>\n",
       "      <td>4.0</td>\n",
       "      <td>33</td>\n",
       "      <td>31.0</td>\n",
       "      <td>2002</td>\n",
       "    </tr>\n",
       "    <tr>\n",
       "      <th>161</th>\n",
       "      <td>2003-04</td>\n",
       "      <td>14.0</td>\n",
       "      <td>7.0</td>\n",
       "      <td>31</td>\n",
       "      <td>14.0</td>\n",
       "      <td>2003</td>\n",
       "    </tr>\n",
       "    <tr>\n",
       "      <th>162</th>\n",
       "      <td>2004-05</td>\n",
       "      <td>6.0</td>\n",
       "      <td>12.0</td>\n",
       "      <td>15</td>\n",
       "      <td>23.0</td>\n",
       "      <td>2004</td>\n",
       "    </tr>\n",
       "    <tr>\n",
       "      <th>163</th>\n",
       "      <td>2005-06</td>\n",
       "      <td>44.0</td>\n",
       "      <td>25.0</td>\n",
       "      <td>20</td>\n",
       "      <td>22.0</td>\n",
       "      <td>2005</td>\n",
       "    </tr>\n",
       "    <tr>\n",
       "      <th>164</th>\n",
       "      <td>2006-07</td>\n",
       "      <td>32.0</td>\n",
       "      <td>8.0</td>\n",
       "      <td>29</td>\n",
       "      <td>39.0</td>\n",
       "      <td>2006</td>\n",
       "    </tr>\n",
       "    <tr>\n",
       "      <th>165</th>\n",
       "      <td>2007-08</td>\n",
       "      <td>21.0</td>\n",
       "      <td>9.0</td>\n",
       "      <td>32</td>\n",
       "      <td>49.0</td>\n",
       "      <td>2007</td>\n",
       "    </tr>\n",
       "    <tr>\n",
       "      <th>166</th>\n",
       "      <td>2008-09</td>\n",
       "      <td>21.0</td>\n",
       "      <td>11.0</td>\n",
       "      <td>19</td>\n",
       "      <td>33.0</td>\n",
       "      <td>2008</td>\n",
       "    </tr>\n",
       "    <tr>\n",
       "      <th>167</th>\n",
       "      <td>2009-10</td>\n",
       "      <td>39.0</td>\n",
       "      <td>7.0</td>\n",
       "      <td>42</td>\n",
       "      <td>25.0</td>\n",
       "      <td>2009</td>\n",
       "    </tr>\n",
       "    <tr>\n",
       "      <th>168</th>\n",
       "      <td>2010-11</td>\n",
       "      <td>19.0</td>\n",
       "      <td>6.0</td>\n",
       "      <td>50</td>\n",
       "      <td>60.0</td>\n",
       "      <td>2010</td>\n",
       "    </tr>\n",
       "    <tr>\n",
       "      <th>169</th>\n",
       "      <td>2011-12</td>\n",
       "      <td>29.0</td>\n",
       "      <td>5.0</td>\n",
       "      <td>32</td>\n",
       "      <td>49.0</td>\n",
       "      <td>2011</td>\n",
       "    </tr>\n",
       "    <tr>\n",
       "      <th>170</th>\n",
       "      <td>2012-13</td>\n",
       "      <td>21.0</td>\n",
       "      <td>1.0</td>\n",
       "      <td>14</td>\n",
       "      <td>38.0</td>\n",
       "      <td>2012</td>\n",
       "    </tr>\n",
       "    <tr>\n",
       "      <th>171</th>\n",
       "      <td>2013-14</td>\n",
       "      <td>23.0</td>\n",
       "      <td>NaN</td>\n",
       "      <td>29</td>\n",
       "      <td>27.0</td>\n",
       "      <td>2013</td>\n",
       "    </tr>\n",
       "    <tr>\n",
       "      <th>172</th>\n",
       "      <td>2014-15</td>\n",
       "      <td>26.0</td>\n",
       "      <td>1.0</td>\n",
       "      <td>17</td>\n",
       "      <td>30.0</td>\n",
       "      <td>2014</td>\n",
       "    </tr>\n",
       "    <tr>\n",
       "      <th>173</th>\n",
       "      <td>2015-16</td>\n",
       "      <td>18.0</td>\n",
       "      <td>6.0</td>\n",
       "      <td>37</td>\n",
       "      <td>25.0</td>\n",
       "      <td>2015</td>\n",
       "    </tr>\n",
       "    <tr>\n",
       "      <th>174</th>\n",
       "      <td>2016-17</td>\n",
       "      <td>26.0</td>\n",
       "      <td>2.0</td>\n",
       "      <td>24</td>\n",
       "      <td>21.0</td>\n",
       "      <td>2016</td>\n",
       "    </tr>\n",
       "  </tbody>\n",
       "</table>\n",
       "<p>175 rows × 6 columns</p>\n",
       "</div>"
      ],
      "text/plain": [
       "      season  m_count  w_count  b_count  t_count  year\n",
       "0    1842-43      2.0      NaN        6      NaN  1842\n",
       "1    1843-44      2.0      NaN        2      NaN  1843\n",
       "2    1844-45      1.0      NaN        4      NaN  1844\n",
       "3    1845-46      3.0      NaN        3      NaN  1845\n",
       "4    1846-47      2.0      NaN        3      NaN  1846\n",
       "5    1847-48      5.0      NaN        3      NaN  1847\n",
       "6    1848-49      NaN      NaN        1      NaN  1848\n",
       "7    1849-50      NaN      NaN        2      NaN  1849\n",
       "8    1850-51      2.0      NaN        2      NaN  1850\n",
       "9    1851-52      1.0      NaN        2      NaN  1851\n",
       "10   1852-53      1.0      NaN        3      NaN  1852\n",
       "11   1853-54      1.0      NaN        3      NaN  1853\n",
       "12   1854-55      2.0      1.0        5      NaN  1854\n",
       "13   1855-56      NaN      1.0        2      NaN  1855\n",
       "14   1856-57      3.0      1.0        3      NaN  1856\n",
       "15   1857-58      4.0      1.0        3      NaN  1857\n",
       "16   1858-59      1.0      1.0        4      NaN  1858\n",
       "17   1859-60      4.0      2.0        5      NaN  1859\n",
       "18   1860-61      2.0      2.0        4      NaN  1860\n",
       "19   1861-62      2.0      1.0        5      NaN  1861\n",
       "20   1862-63      2.0      2.0        6      NaN  1862\n",
       "21   1863-64      3.0      3.0        4      NaN  1863\n",
       "22   1864-65      1.0      NaN        8      NaN  1864\n",
       "23   1865-66      2.0      2.0        3      NaN  1865\n",
       "24   1866-67      6.0      2.0        5      NaN  1866\n",
       "25   1867-68      3.0      1.0        3      NaN  1867\n",
       "26   1868-69      1.0      2.0        7      NaN  1868\n",
       "27   1869-70      5.0      1.0        8      NaN  1869\n",
       "28   1870-71      3.0      1.0        9      NaN  1870\n",
       "29   1871-72      2.0      1.0        6      NaN  1871\n",
       "..       ...      ...      ...      ...      ...   ...\n",
       "145  1987-88     18.0     30.0       12     19.0  1987\n",
       "146  1988-89     15.0     36.0       21     13.0  1988\n",
       "147  1989-90     15.0      7.0       31      8.0  1989\n",
       "148  1990-91     91.0      2.0       10      9.0  1990\n",
       "149  1991-92     50.0      1.0       10     21.0  1991\n",
       "150  1992-93     11.0      1.0       13     31.0  1992\n",
       "151  1993-94     23.0      5.0       39      6.0  1993\n",
       "152  1994-95      9.0      3.0       30     44.0  1994\n",
       "153  1995-96      9.0      9.0       29     28.0  1995\n",
       "154  1996-97     15.0     26.0        9     41.0  1996\n",
       "155  1997-98     18.0      NaN       16     19.0  1997\n",
       "156  1998-99      7.0      NaN       60     29.0  1998\n",
       "157  1999-00      9.0      5.0       10     37.0  1999\n",
       "158  2000-01     17.0     10.0        7      3.0  2000\n",
       "159  2001-02     26.0     18.0       32     19.0  2001\n",
       "160  2002-03     21.0      4.0       33     31.0  2002\n",
       "161  2003-04     14.0      7.0       31     14.0  2003\n",
       "162  2004-05      6.0     12.0       15     23.0  2004\n",
       "163  2005-06     44.0     25.0       20     22.0  2005\n",
       "164  2006-07     32.0      8.0       29     39.0  2006\n",
       "165  2007-08     21.0      9.0       32     49.0  2007\n",
       "166  2008-09     21.0     11.0       19     33.0  2008\n",
       "167  2009-10     39.0      7.0       42     25.0  2009\n",
       "168  2010-11     19.0      6.0       50     60.0  2010\n",
       "169  2011-12     29.0      5.0       32     49.0  2011\n",
       "170  2012-13     21.0      1.0       14     38.0  2012\n",
       "171  2013-14     23.0      NaN       29     27.0  2013\n",
       "172  2014-15     26.0      1.0       17     30.0  2014\n",
       "173  2015-16     18.0      6.0       37     25.0  2015\n",
       "174  2016-17     26.0      2.0       24     21.0  2016\n",
       "\n",
       "[175 rows x 6 columns]"
      ]
     },
     "execution_count": 82,
     "metadata": {},
     "output_type": "execute_result"
    }
   ],
   "source": []
  },
  {
   "cell_type": "code",
   "execution_count": 127,
   "metadata": {},
   "outputs": [
    {
     "data": {
      "text/plain": [
       "<matplotlib.axes._subplots.AxesSubplot at 0x11581beb8>"
      ]
     },
     "execution_count": 127,
     "metadata": {},
     "output_type": "execute_result"
    },
    {
     "data": {
      "image/png": "[encoded data removed]",
      "text/plain": [
       "<matplotlib.figure.Figure at 0x115b3d5c0>"
      ]
     },
     "metadata": {},
     "output_type": "display_data"
    }
   ],
   "source": [
    "%matplotlib inline\n",
    "plt.style.use('ggplot')\n",
    "b_m_w_t.plot(figsize=(15,7))\n",
    "#plt.savefig('graph_composer.pdf')"
   ]
  },
  {
   "cell_type": "code",
   "execution_count": null,
   "metadata": {
    "collapsed": true
   },
   "outputs": [],
   "source": []
  },
  {
   "cell_type": "code",
   "execution_count": 76,
   "metadata": {},
   "outputs": [
    {
     "ename": "KeyError",
     "evalue": "'Column not found: count'",
     "output_type": "error",
     "traceback": [
      "\u001b[0;31m---------------------------------------------------------------------------\u001b[0m",
      "\u001b[0;31mKeyError\u001b[0m                                  Traceback (most recent call last)",
      "\u001b[0;32m<ipython-input-76-e5f01a5991da>\u001b[0m in \u001b[0;36m<module>\u001b[0;34m()\u001b[0m\n\u001b[1;32m      1\u001b[0m \u001b[0;34m\u001b[0m\u001b[0m\n\u001b[1;32m      2\u001b[0m \u001b[0;34m\u001b[0m\u001b[0m\n\u001b[0;32m----> 3\u001b[0;31m \u001b[0mbeethoven\u001b[0m\u001b[0;34m.\u001b[0m\u001b[0mgroupby\u001b[0m\u001b[0;34m(\u001b[0m\u001b[0;34m'season'\u001b[0m\u001b[0;34m)\u001b[0m\u001b[0;34m[\u001b[0m\u001b[0;34m'count'\u001b[0m\u001b[0;34m]\u001b[0m\u001b[0;34m.\u001b[0m\u001b[0msum\u001b[0m\u001b[0;34m(\u001b[0m\u001b[0;34m)\u001b[0m\u001b[0;34m.\u001b[0m\u001b[0mto_frame\u001b[0m\u001b[0;34m(\u001b[0m\u001b[0;34m)\u001b[0m\u001b[0;34m.\u001b[0m\u001b[0mplot\u001b[0m\u001b[0;34m(\u001b[0m\u001b[0;34m)\u001b[0m\u001b[0;34m\u001b[0m\u001b[0m\n\u001b[0m\u001b[1;32m      4\u001b[0m \u001b[0mplt\u001b[0m\u001b[0;34m.\u001b[0m\u001b[0msavefig\u001b[0m\u001b[0;34m(\u001b[0m\u001b[0;34m'graph1.pdf'\u001b[0m\u001b[0;34m)\u001b[0m\u001b[0;34m\u001b[0m\u001b[0m\n\u001b[1;32m      5\u001b[0m \u001b[0mwagner\u001b[0m\u001b[0;34m.\u001b[0m\u001b[0mgroupby\u001b[0m\u001b[0;34m(\u001b[0m\u001b[0;34m'season'\u001b[0m\u001b[0;34m)\u001b[0m\u001b[0;34m[\u001b[0m\u001b[0;34m'count'\u001b[0m\u001b[0;34m]\u001b[0m\u001b[0;34m.\u001b[0m\u001b[0msum\u001b[0m\u001b[0;34m(\u001b[0m\u001b[0;34m)\u001b[0m\u001b[0;34m.\u001b[0m\u001b[0mto_frame\u001b[0m\u001b[0;34m(\u001b[0m\u001b[0;34m)\u001b[0m\u001b[0;34m.\u001b[0m\u001b[0mplot\u001b[0m\u001b[0;34m(\u001b[0m\u001b[0;34m)\u001b[0m\u001b[0;34m\u001b[0m\u001b[0m\n",
      "\u001b[0;32m/usr/local/lib/python3.6/site-packages/pandas/core/base.py\u001b[0m in \u001b[0;36m__getitem__\u001b[0;34m(self, key)\u001b[0m\n\u001b[1;32m    352\u001b[0m         \u001b[0;32melse\u001b[0m\u001b[0;34m:\u001b[0m\u001b[0;34m\u001b[0m\u001b[0m\n\u001b[1;32m    353\u001b[0m             \u001b[0;32mif\u001b[0m \u001b[0mkey\u001b[0m \u001b[0;32mnot\u001b[0m \u001b[0;32min\u001b[0m \u001b[0mself\u001b[0m\u001b[0;34m.\u001b[0m\u001b[0mobj\u001b[0m\u001b[0;34m:\u001b[0m\u001b[0;34m\u001b[0m\u001b[0m\n\u001b[0;32m--> 354\u001b[0;31m                 \u001b[0;32mraise\u001b[0m \u001b[0mKeyError\u001b[0m\u001b[0;34m(\u001b[0m\u001b[0;34m\"Column not found: %s\"\u001b[0m \u001b[0;34m%\u001b[0m \u001b[0mkey\u001b[0m\u001b[0;34m)\u001b[0m\u001b[0;34m\u001b[0m\u001b[0m\n\u001b[0m\u001b[1;32m    355\u001b[0m             \u001b[0;32mreturn\u001b[0m \u001b[0mself\u001b[0m\u001b[0;34m.\u001b[0m\u001b[0m_gotitem\u001b[0m\u001b[0;34m(\u001b[0m\u001b[0mkey\u001b[0m\u001b[0;34m,\u001b[0m \u001b[0mndim\u001b[0m\u001b[0;34m=\u001b[0m\u001b[0;36m1\u001b[0m\u001b[0;34m)\u001b[0m\u001b[0;34m\u001b[0m\u001b[0m\n\u001b[1;32m    356\u001b[0m \u001b[0;34m\u001b[0m\u001b[0m\n",
      "\u001b[0;31mKeyError\u001b[0m: 'Column not found: count'"
     ]
    }
   ],
   "source": [
    "\n",
    "\n",
    "beethoven.groupby('season')['count'].sum().to_frame().plot()\n",
    "plt.savefig('graph1.pdf')\n",
    "wagner.groupby('season')['count'].sum().to_frame().plot()\n",
    "plt.savefig('graph2.pdf')\n",
    "mozart.groupby('season')['count'].sum().to_frame().plot()\n",
    "plt.savefig('graph3.pdf')\n",
    "tchai.groupby('season')['count'].sum().to_frame().plot()\n",
    "plt.savefig('graph4.pdf')"
   ]
  },
  {
   "cell_type": "code",
   "execution_count": 66,
   "metadata": {},
   "outputs": [
    {
     "data": {
      "text/plain": [
       "season\n",
       "2011-12    5\n",
       "2012-13    1\n",
       "2014-15    1\n",
       "2015-16    6\n",
       "2016-17    2\n",
       "Name: w_count, dtype: int64"
      ]
     },
     "execution_count": 66,
     "metadata": {},
     "output_type": "execute_result"
    }
   ],
   "source": [
    "wagner = info_all[info_all.composer.str.contains('Wagner')].groupby('season')['work'].value_counts(dropna=False).to_frame().reset_index(level=0)\n",
    "wagner = wagner.rename(columns={'work':'w_count'})\n",
    "wagner = wagner.reset_index()\n",
    "wagner = wagner.rename(columns={'work':'w_work'})\n",
    "wagner = wagner.reset_index()\n",
    "wagner.groupby('season')['w_count'].sum(dropna=False).tail()\n"
   ]
  },
  {
   "cell_type": "code",
   "execution_count": 67,
   "metadata": {},
   "outputs": [
    {
     "data": {
      "text/plain": [
       "season\n",
       "1875-76    1\n",
       "1878-79    2\n",
       "1879-80    2\n",
       "1881-82    1\n",
       "1883-84    1\n",
       "Name: t_count, dtype: int64"
      ]
     },
     "execution_count": 67,
     "metadata": {},
     "output_type": "execute_result"
    }
   ],
   "source": [
    "tchai = info_all[info_all.composer.str.contains('Tchaikovsky')].groupby('season')['work'].value_counts(dropna=False).to_frame().reset_index(level=0)\n",
    "tchai = tchai.rename(columns={'work':'t_count'})\n",
    "tchai = tchai.reset_index()\n",
    "tchai = tchai.rename(columns={'work':'t_work'})\n",
    "tchai.groupby('season')['t_count'].sum(dropna=False).head()\n"
   ]
  },
  {
   "cell_type": "code",
   "execution_count": 68,
   "metadata": {},
   "outputs": [
    {
     "data": {
      "text/plain": [
       "season\n",
       "1842-43    2\n",
       "1843-44    2\n",
       "1844-45    1\n",
       "1845-46    3\n",
       "1846-47    2\n",
       "Name: m_count, dtype: int64"
      ]
     },
     "execution_count": 68,
     "metadata": {},
     "output_type": "execute_result"
    }
   ],
   "source": [
    "mozart = info_all[info_all.composer.str.contains('Mozart')].groupby('season')['work'].value_counts(dropna=False).to_frame().reset_index(level=0)\n",
    "mozart = mozart.rename(columns={'work':'m_count'})\n",
    "mozart = mozart.reset_index()\n",
    "mozart = mozart.rename(columns={'work':'m_work'})\n",
    "mozart.groupby('season')['m_count'].sum(dropna=False).head()\n"
   ]
  },
  {
   "cell_type": "code",
   "execution_count": 139,
   "metadata": {
    "collapsed": true
   },
   "outputs": [],
   "source": [
    "#pd.DataFrame(data['programs'])"
   ]
  },
  {
   "cell_type": "code",
   "execution_count": 135,
   "metadata": {
    "collapsed": true
   },
   "outputs": [],
   "source": [
    "# def count_works(row):\n",
    "#     # Look at the row, \n",
    "#     # Look at the works column\n",
    "#     # It's a list! Let's see how long it is\n",
    "#     return len(row.works)\n",
    "\n",
    "# # Create a dataframe from the list of programs\n",
    "# df = pd.DataFrame(data['programs'])\n",
    "\n",
    "# # Go into every row and run count_works\n",
    "# df['work_count'] = df.apply(count_works, axis=1)\n",
    "\n",
    "# df.head()"
   ]
  },
  {
   "cell_type": "code",
   "execution_count": 138,
   "metadata": {
    "collapsed": true
   },
   "outputs": [],
   "source": [
    "# def see_composer(row):\n",
    "#     # Look at the row, \n",
    "#     # Look at the works column\n",
    "#     # It's a list! Let's see how long it is\n",
    "#     return row['composerName']\n",
    "\n",
    "# # Create a dataframe from the list of programs\n",
    "# df = pd.DataFrame(data['programs'])\n",
    "\n",
    "# # Go into every row and run count_works\n",
    "# df['work_count'] = df.apply(count_works, axis=1)\n",
    "\n",
    "# df.head()"
   ]
  },
  {
   "cell_type": "markdown",
   "metadata": {},
   "source": [
    "# 1842-1911"
   ]
  },
  {
   "cell_type": "code",
   "execution_count": 53,
   "metadata": {
    "collapsed": true
   },
   "outputs": [],
   "source": [
    "data1842 = json.loads(open(\"1842-43_TO_1910-11.json\").read())\n",
    "p1842 = data1842['programs']\n",
    "list_of_composer = []\n",
    "list_of_work = []\n",
    "for concert in p1842:\n",
    "    for work in concert['works']:\n",
    "        if work['ID'] != \"0*\" and 'composerName' in work:#print(work['ID'])\n",
    "            #print(work['composerName'])\n",
    "            list_of_composer.append(work['composerName'])\n",
    "            list_of_work.append(work['workTitle'])\n",
    "        \n",
    "info_1842 = pd.DataFrame(\n",
    "    {'composer': list_of_composer,\n",
    "     'work': list_of_work\n",
    "    })\n"
   ]
  },
  {
   "cell_type": "code",
   "execution_count": 58,
   "metadata": {},
   "outputs": [
    {
     "data": {
      "text/plain": [
       "Wagner,  Richard               0.136378\n",
       "Beethoven,  Ludwig  van        0.102243\n",
       "Mendelssohn,  Felix            0.044376\n",
       "Tchaikovsky,  Pyotr  Ilyich    0.043563\n",
       "Schumann,  Robert              0.034135\n",
       "Name: composer, dtype: float64"
      ]
     },
     "execution_count": 58,
     "metadata": {},
     "output_type": "execute_result"
    }
   ],
   "source": [
    "info_1842['composer'].value_counts(normalize=True).head(5)"
   ]
  },
  {
   "cell_type": "code",
   "execution_count": 60,
   "metadata": {},
   "outputs": [
    {
     "data": {
      "text/plain": [
       "MEISTERSINGER, DIE, WWV 96           105\n",
       "TANNHAUSER, WWV 70                   102\n",
       "WALKURE, DIE, WWV 86B                 79\n",
       "PARSIFAL, WWV 111                     75\n",
       "GOTTERDAMMERUNG [GÖTTERDÄMMERUNG]     75\n",
       "Name: work, dtype: int64"
      ]
     },
     "execution_count": 60,
     "metadata": {},
     "output_type": "execute_result"
    }
   ],
   "source": [
    "info_1842['work'].value_counts().head(5)"
   ]
  },
  {
   "cell_type": "markdown",
   "metadata": {},
   "source": [
    "# 1911－1920"
   ]
  },
  {
   "cell_type": "code",
   "execution_count": 61,
   "metadata": {
    "collapsed": true
   },
   "outputs": [],
   "source": [
    "data1911 = json.loads(open(\"1911-12_TO_1919-20.json\").read())\n",
    "p1911 = data1911['programs']\n",
    "list_of_composer2 = []\n",
    "list_of_work2 = []\n",
    "for concert in p1911:\n",
    "    for work in concert['works']:\n",
    "        if work['ID'] != \"0*\" and 'composerName' in work:#print(work['ID'])\n",
    "            #print(work['composerName'])\n",
    "            list_of_composer2.append(work['composerName'])\n",
    "            list_of_work2.append(work['workTitle'])\n",
    "        \n",
    "info_1911 = pd.DataFrame(\n",
    "    {'composer': list_of_composer2,\n",
    "     'work': list_of_work2\n",
    "    })"
   ]
  },
  {
   "cell_type": "code",
   "execution_count": 63,
   "metadata": {},
   "outputs": [
    {
     "data": {
      "text/plain": [
       "Wagner,  Richard               0.143018\n",
       "Tchaikovsky,  Pyotr  Ilyich    0.067889\n",
       "Beethoven,  Ludwig  van        0.061133\n",
       "Liszt,  Franz                  0.044241\n",
       "Brahms,  Johannes              0.034106\n",
       "Name: composer, dtype: float64"
      ]
     },
     "execution_count": 63,
     "metadata": {},
     "output_type": "execute_result"
    }
   ],
   "source": [
    "info_1911['composer'].value_counts(normalize=True).head(5)"
   ]
  },
  {
   "cell_type": "code",
   "execution_count": 64,
   "metadata": {},
   "outputs": [
    {
     "data": {
      "text/plain": [
       "TANNHAUSER, WWV 70                                     141\n",
       "MEISTERSINGER, DIE, WWV 96                             121\n",
       "UNITED STATES                                          109\n",
       "LOHENGRIN                                              101\n",
       "SYMPHONY NO. 9, E MINOR, OP.95 (FROM THE NEW WORLD)     95\n",
       "Name: work, dtype: int64"
      ]
     },
     "execution_count": 64,
     "metadata": {},
     "output_type": "execute_result"
    }
   ],
   "source": [
    "info_1911['work'].value_counts().head(5)"
   ]
  },
  {
   "cell_type": "code",
   "execution_count": 73,
   "metadata": {
    "collapsed": true
   },
   "outputs": [],
   "source": [
    "data1800s = json.loads(open(\"before1900.json\").read())\n",
    "p1800s = data1800s['programs']\n",
    "list_of_composer1800 = []\n",
    "list_of_work1800 = []\n",
    "for concert in p1800s:\n",
    "    for work in concert['works']:\n",
    "        if work['ID'] != \"0*\" and 'composerName' in work:#print(work['ID'])\n",
    "            #print(work['composerName'])\n",
    "            list_of_composer1800.append(work['composerName'])\n",
    "            list_of_work1800.append(work['workTitle'])\n",
    "        \n",
    "info_1800s = pd.DataFrame(\n",
    "    {'composer': list_of_composer1800,\n",
    "     'work': list_of_work1800\n",
    "    })\n"
   ]
  },
  {
   "cell_type": "code",
   "execution_count": 74,
   "metadata": {},
   "outputs": [
    {
     "data": {
      "text/html": [
       "<div>\n",
       "<style>\n",
       "    .dataframe thead tr:only-child th {\n",
       "        text-align: right;\n",
       "    }\n",
       "\n",
       "    .dataframe thead th {\n",
       "        text-align: left;\n",
       "    }\n",
       "\n",
       "    .dataframe tbody tr th {\n",
       "        vertical-align: top;\n",
       "    }\n",
       "</style>\n",
       "<table border=\"1\" class=\"dataframe\">\n",
       "  <thead>\n",
       "    <tr style=\"text-align: right;\">\n",
       "      <th></th>\n",
       "      <th>composer</th>\n",
       "      <th>work</th>\n",
       "    </tr>\n",
       "  </thead>\n",
       "  <tbody>\n",
       "    <tr>\n",
       "      <th>2928</th>\n",
       "      <td>Wagner,  Richard</td>\n",
       "      <td>PARSIFAL, WWV 111</td>\n",
       "    </tr>\n",
       "    <tr>\n",
       "      <th>2929</th>\n",
       "      <td>Wagner,  Richard</td>\n",
       "      <td>PARSIFAL, WWV 111</td>\n",
       "    </tr>\n",
       "    <tr>\n",
       "      <th>2930</th>\n",
       "      <td>Wagner,  Richard</td>\n",
       "      <td>SIEGFRIED, WWV 86C</td>\n",
       "    </tr>\n",
       "    <tr>\n",
       "      <th>2931</th>\n",
       "      <td>Wagner,  Richard</td>\n",
       "      <td>TANNHAUSER, WWV 70</td>\n",
       "    </tr>\n",
       "    <tr>\n",
       "      <th>2932</th>\n",
       "      <td>Beethoven,  Ludwig  van</td>\n",
       "      <td>SYMPHONY NO. 9 IN D MINOR, OP.125</td>\n",
       "    </tr>\n",
       "  </tbody>\n",
       "</table>\n",
       "</div>"
      ],
      "text/plain": [
       "                     composer                               work\n",
       "2928         Wagner,  Richard                  PARSIFAL, WWV 111\n",
       "2929         Wagner,  Richard                  PARSIFAL, WWV 111\n",
       "2930         Wagner,  Richard                 SIEGFRIED, WWV 86C\n",
       "2931         Wagner,  Richard                 TANNHAUSER, WWV 70\n",
       "2932  Beethoven,  Ludwig  van  SYMPHONY NO. 9 IN D MINOR, OP.125"
      ]
     },
     "execution_count": 74,
     "metadata": {},
     "output_type": "execute_result"
    }
   ],
   "source": [
    "info_1800s.tail()"
   ]
  },
  {
   "cell_type": "code",
   "execution_count": 458,
   "metadata": {},
   "outputs": [
    {
     "data": {
      "text/plain": [
       "Beethoven,  Ludwig  van    0.123423\n",
       "Wagner,  Richard           0.099557\n",
       "Mendelssohn,  Felix        0.060348\n",
       "Name: composer, dtype: float64"
      ]
     },
     "execution_count": 458,
     "metadata": {},
     "output_type": "execute_result"
    }
   ],
   "source": [
    "info_1800s['composer'].value_counts(normalize = True).head(3)"
   ]
  },
  {
   "cell_type": "code",
   "execution_count": 76,
   "metadata": {},
   "outputs": [
    {
     "data": {
      "text/plain": [
       "MIDSUMMER NIGHT'S DREAM, OP. 61      48\n",
       "TANNHAUSER, WWV 70                   40\n",
       "GOTTERDAMMERUNG [GÖTTERDÄMMERUNG]    34\n",
       "MEISTERSINGER, DIE, WWV 96           34\n",
       "PARSIFAL, WWV 111                    33\n",
       "Name: work, dtype: int64"
      ]
     },
     "execution_count": 76,
     "metadata": {},
     "output_type": "execute_result"
    }
   ],
   "source": [
    "info_1800s['work'].value_counts().head(5)"
   ]
  },
  {
   "cell_type": "code",
   "execution_count": 80,
   "metadata": {
    "collapsed": true
   },
   "outputs": [],
   "source": [
    "data1900 = json.loads(open(\"1900-01_TO_1919-20.json\").read())\n",
    "p1900 = data1900['programs']\n",
    "list_of_composer1900 = []\n",
    "list_of_work1900 = []\n",
    "for concert in p1900:\n",
    "    for work in concert['works']:\n",
    "        if work['ID'] != \"0*\" and 'composerName' in work:#print(work['ID'])\n",
    "            #print(work['composerName'])\n",
    "            list_of_composer1900.append(work['composerName'])\n",
    "            list_of_work1900.append(work['workTitle'])\n",
    "        \n",
    "info_1900 = pd.DataFrame(\n",
    "    {'composer': list_of_composer1900,\n",
    "     'work': list_of_work1900\n",
    "    })\n"
   ]
  },
  {
   "cell_type": "code",
   "execution_count": 106,
   "metadata": {},
   "outputs": [
    {
     "data": {
      "text/plain": [
       "TANNHAUSER, WWV 70            203\n",
       "MEISTERSINGER, DIE, WWV 96    192\n",
       "LOHENGRIN                     155\n",
       "WALKURE, DIE, WWV 86B         124\n",
       "UNITED STATES                 110\n",
       "Name: work, dtype: int64"
      ]
     },
     "execution_count": 106,
     "metadata": {},
     "output_type": "execute_result"
    }
   ],
   "source": [
    "info_1900['work'].value_counts().head(5)"
   ]
  },
  {
   "cell_type": "code",
   "execution_count": 81,
   "metadata": {},
   "outputs": [
    {
     "data": {
      "text/html": [
       "<div>\n",
       "<style>\n",
       "    .dataframe thead tr:only-child th {\n",
       "        text-align: right;\n",
       "    }\n",
       "\n",
       "    .dataframe thead th {\n",
       "        text-align: left;\n",
       "    }\n",
       "\n",
       "    .dataframe tbody tr th {\n",
       "        vertical-align: top;\n",
       "    }\n",
       "</style>\n",
       "<table border=\"1\" class=\"dataframe\">\n",
       "  <thead>\n",
       "    <tr style=\"text-align: right;\">\n",
       "      <th></th>\n",
       "      <th>composer</th>\n",
       "      <th>work</th>\n",
       "    </tr>\n",
       "  </thead>\n",
       "  <tbody>\n",
       "    <tr>\n",
       "      <th>9430</th>\n",
       "      <td>Verdi,  Giuseppe</td>\n",
       "      <td>AIDA</td>\n",
       "    </tr>\n",
       "    <tr>\n",
       "      <th>9431</th>\n",
       "      <td>Verdi,  Giuseppe</td>\n",
       "      <td>RIGOLETTO</td>\n",
       "    </tr>\n",
       "    <tr>\n",
       "      <th>9432</th>\n",
       "      <td>Weber,  Carl  Maria Von</td>\n",
       "      <td>INVITATION TO THE DANCE (ARR. Weingartner)</td>\n",
       "    </tr>\n",
       "    <tr>\n",
       "      <th>9433</th>\n",
       "      <td>Bizet,  Georges</td>\n",
       "      <td>CARMEN</td>\n",
       "    </tr>\n",
       "    <tr>\n",
       "      <th>9434</th>\n",
       "      <td>Berlioz,  Hector</td>\n",
       "      <td>DAMNATION DE FAUST, LA, OP. 24</td>\n",
       "    </tr>\n",
       "  </tbody>\n",
       "</table>\n",
       "</div>"
      ],
      "text/plain": [
       "                     composer                                        work\n",
       "9430         Verdi,  Giuseppe                                        AIDA\n",
       "9431         Verdi,  Giuseppe                                   RIGOLETTO\n",
       "9432  Weber,  Carl  Maria Von  INVITATION TO THE DANCE (ARR. Weingartner)\n",
       "9433          Bizet,  Georges                                      CARMEN\n",
       "9434         Berlioz,  Hector              DAMNATION DE FAUST, LA, OP. 24"
      ]
     },
     "execution_count": 81,
     "metadata": {},
     "output_type": "execute_result"
    }
   ],
   "source": [
    "info_1900.tail()"
   ]
  },
  {
   "cell_type": "code",
   "execution_count": 459,
   "metadata": {},
   "outputs": [
    {
     "data": {
      "text/plain": [
       "Wagner,  Richard               0.152199\n",
       "Beethoven,  Ludwig  van        0.068574\n",
       "Tchaikovsky,  Pyotr  Ilyich    0.065713\n",
       "Name: composer, dtype: float64"
      ]
     },
     "execution_count": 459,
     "metadata": {},
     "output_type": "execute_result"
    }
   ],
   "source": [
    "info_1900['composer'].value_counts(normalize=True).head(3)"
   ]
  },
  {
   "cell_type": "code",
   "execution_count": 83,
   "metadata": {},
   "outputs": [
    {
     "data": {
      "text/plain": [
       "TANNHAUSER, WWV 70            203\n",
       "MEISTERSINGER, DIE, WWV 96    192\n",
       "LOHENGRIN                     155\n",
       "WALKURE, DIE, WWV 86B         124\n",
       "UNITED STATES                 110\n",
       "Name: work, dtype: int64"
      ]
     },
     "execution_count": 83,
     "metadata": {},
     "output_type": "execute_result"
    }
   ],
   "source": [
    "info_1900['work'].value_counts().head(5)"
   ]
  },
  {
   "cell_type": "code",
   "execution_count": 84,
   "metadata": {
    "collapsed": true
   },
   "outputs": [],
   "source": [
    "data1920 = json.loads(open(\"1920-21_TO_1939-40.json\").read())\n",
    "p1920 = data1920['programs']\n",
    "list_of_composer1920 = []\n",
    "list_of_work1920 = []\n",
    "for concert in p1920:\n",
    "    for work in concert['works']:\n",
    "        if work['ID'] != \"0*\" and 'composerName' in work:#print(work['ID'])\n",
    "            #print(work['composerName'])\n",
    "            list_of_composer1920.append(work['composerName'])\n",
    "            list_of_work1920.append(work['workTitle'])\n",
    "        \n",
    "info_1920 = pd.DataFrame(\n",
    "    {'composer': list_of_composer1920,\n",
    "     'work': list_of_work1920\n",
    "    })"
   ]
  },
  {
   "cell_type": "code",
   "execution_count": 85,
   "metadata": {},
   "outputs": [
    {
     "data": {
      "text/html": [
       "<div>\n",
       "<style>\n",
       "    .dataframe thead tr:only-child th {\n",
       "        text-align: right;\n",
       "    }\n",
       "\n",
       "    .dataframe thead th {\n",
       "        text-align: left;\n",
       "    }\n",
       "\n",
       "    .dataframe tbody tr th {\n",
       "        vertical-align: top;\n",
       "    }\n",
       "</style>\n",
       "<table border=\"1\" class=\"dataframe\">\n",
       "  <thead>\n",
       "    <tr style=\"text-align: right;\">\n",
       "      <th></th>\n",
       "      <th>composer</th>\n",
       "      <th>work</th>\n",
       "    </tr>\n",
       "  </thead>\n",
       "  <tbody>\n",
       "    <tr>\n",
       "      <th>10942</th>\n",
       "      <td>Sibelius,  Jean</td>\n",
       "      <td>CONCERTO, VIOLIN, D MINOR, OP .47</td>\n",
       "    </tr>\n",
       "    <tr>\n",
       "      <th>10943</th>\n",
       "      <td>Beethoven,  Ludwig  van</td>\n",
       "      <td>ROMANCE, VIOLIN, NO. 1, G MAJOR, OP.40</td>\n",
       "    </tr>\n",
       "    <tr>\n",
       "      <th>10944</th>\n",
       "      <td>Sibelius,  Jean</td>\n",
       "      <td>SYMPHONY NO. 1, E MINOR, OP. 39</td>\n",
       "    </tr>\n",
       "    <tr>\n",
       "      <th>10945</th>\n",
       "      <td>Sibelius,  Jean</td>\n",
       "      <td>FINLANDIA, OP. 26</td>\n",
       "    </tr>\n",
       "    <tr>\n",
       "      <th>10946</th>\n",
       "      <td>Traditional,</td>\n",
       "      <td>AULD LANG SYNE</td>\n",
       "    </tr>\n",
       "  </tbody>\n",
       "</table>\n",
       "</div>"
      ],
      "text/plain": [
       "                      composer                                    work\n",
       "10942          Sibelius,  Jean       CONCERTO, VIOLIN, D MINOR, OP .47\n",
       "10943  Beethoven,  Ludwig  van  ROMANCE, VIOLIN, NO. 1, G MAJOR, OP.40\n",
       "10944          Sibelius,  Jean         SYMPHONY NO. 1, E MINOR, OP. 39\n",
       "10945          Sibelius,  Jean                       FINLANDIA, OP. 26\n",
       "10946             Traditional,                          AULD LANG SYNE"
      ]
     },
     "execution_count": 85,
     "metadata": {},
     "output_type": "execute_result"
    }
   ],
   "source": [
    "info_1920.tail()"
   ]
  },
  {
   "cell_type": "code",
   "execution_count": 460,
   "metadata": {},
   "outputs": [
    {
     "data": {
      "text/plain": [
       "Wagner,  Richard               0.129259\n",
       "Beethoven,  Ludwig  van        0.076277\n",
       "Tchaikovsky,  Pyotr  Ilyich    0.061661\n",
       "Name: composer, dtype: float64"
      ]
     },
     "execution_count": 460,
     "metadata": {},
     "output_type": "execute_result"
    }
   ],
   "source": [
    "info_1920['composer'].value_counts(normalize=True).head(3)"
   ]
  },
  {
   "cell_type": "code",
   "execution_count": 88,
   "metadata": {
    "collapsed": true
   },
   "outputs": [],
   "source": [
    "data1940 = json.loads(open(\"1940-41_TO_1959-60.json\").read())\n",
    "p1940 = data1940['programs']\n",
    "list_of_composer1940 = []\n",
    "list_of_work1940 = []\n",
    "for concert in p1940:\n",
    "    for work in concert['works']:\n",
    "        if work['ID'] != \"0*\" and 'composerName' in work:#print(work['ID'])\n",
    "            #print(work['composerName'])\n",
    "            list_of_composer1940.append(work['composerName'])\n",
    "            list_of_work1940.append(work['workTitle'])\n",
    "        \n",
    "info_1940 = pd.DataFrame(\n",
    "    {'composer': list_of_composer1940,\n",
    "     'work': list_of_work1940\n",
    "    })"
   ]
  },
  {
   "cell_type": "code",
   "execution_count": 89,
   "metadata": {},
   "outputs": [
    {
     "data": {
      "text/html": [
       "<div>\n",
       "<style>\n",
       "    .dataframe thead tr:only-child th {\n",
       "        text-align: right;\n",
       "    }\n",
       "\n",
       "    .dataframe thead th {\n",
       "        text-align: left;\n",
       "    }\n",
       "\n",
       "    .dataframe tbody tr th {\n",
       "        vertical-align: top;\n",
       "    }\n",
       "</style>\n",
       "<table border=\"1\" class=\"dataframe\">\n",
       "  <thead>\n",
       "    <tr style=\"text-align: right;\">\n",
       "      <th></th>\n",
       "      <th>composer</th>\n",
       "      <th>work</th>\n",
       "    </tr>\n",
       "  </thead>\n",
       "  <tbody>\n",
       "    <tr>\n",
       "      <th>15380</th>\n",
       "      <td>Harris,  Roy</td>\n",
       "      <td>SYMPHONY NO.  3</td>\n",
       "    </tr>\n",
       "    <tr>\n",
       "      <th>15381</th>\n",
       "      <td>Copland,  Aaron</td>\n",
       "      <td>SALON MEXICO, EL</td>\n",
       "    </tr>\n",
       "    <tr>\n",
       "      <th>15382</th>\n",
       "      <td>Tchaikovsky,  Pyotr  Ilyich</td>\n",
       "      <td>SYMPHONY NO. 5, E MINOR, OP. 64</td>\n",
       "    </tr>\n",
       "    <tr>\n",
       "      <th>15383</th>\n",
       "      <td>Copland,  Aaron</td>\n",
       "      <td>RODEO, FOUR DANCE EPISODES</td>\n",
       "    </tr>\n",
       "    <tr>\n",
       "      <th>15384</th>\n",
       "      <td>Ravel,  Maurice</td>\n",
       "      <td>DAPHNIS AND CHLOE: SUITE NO. 2</td>\n",
       "    </tr>\n",
       "  </tbody>\n",
       "</table>\n",
       "</div>"
      ],
      "text/plain": [
       "                          composer                             work\n",
       "15380                 Harris,  Roy                  SYMPHONY NO.  3\n",
       "15381              Copland,  Aaron                 SALON MEXICO, EL\n",
       "15382  Tchaikovsky,  Pyotr  Ilyich  SYMPHONY NO. 5, E MINOR, OP. 64\n",
       "15383              Copland,  Aaron       RODEO, FOUR DANCE EPISODES\n",
       "15384              Ravel,  Maurice   DAPHNIS AND CHLOE: SUITE NO. 2"
      ]
     },
     "execution_count": 89,
     "metadata": {},
     "output_type": "execute_result"
    }
   ],
   "source": [
    "info_1940.tail()"
   ]
  },
  {
   "cell_type": "code",
   "execution_count": 112,
   "metadata": {},
   "outputs": [
    {
     "data": {
      "text/plain": [
       "UNITED STATES                        153\n",
       "PORGY AND BESS                       122\n",
       "SYMPHONY NO. 1 IN C MINOR, OP. 68    121\n",
       "SYMPHONY NO. 4, F MINOR, OP. 36      112\n",
       "MEISTERSINGER, DIE, WWV 96           109\n",
       "Name: work, dtype: int64"
      ]
     },
     "execution_count": 112,
     "metadata": {},
     "output_type": "execute_result"
    }
   ],
   "source": [
    "info_1940['work'].value_counts().head(5)"
   ]
  },
  {
   "cell_type": "code",
   "execution_count": 461,
   "metadata": {},
   "outputs": [
    {
     "data": {
      "text/plain": [
       "Beethoven,  Ludwig  van        0.061683\n",
       "Tchaikovsky,  Pyotr  Ilyich    0.050959\n",
       "Brahms,  Johannes              0.040624\n",
       "Name: composer, dtype: float64"
      ]
     },
     "execution_count": 461,
     "metadata": {},
     "output_type": "execute_result"
    }
   ],
   "source": [
    "info_1940['composer'].value_counts(normalize=True).head(3)"
   ]
  },
  {
   "cell_type": "code",
   "execution_count": 93,
   "metadata": {
    "collapsed": true
   },
   "outputs": [],
   "source": [
    "data2000 = json.loads(open(\"2000-01_TO_NOW.json\").read())\n",
    "p2000 = data2000['programs']\n",
    "list_of_composer2000 = []\n",
    "list_of_work2000 = []\n",
    "for concert in p2000:\n",
    "    for work in concert['works']:\n",
    "        if work['ID'] != \"0*\" and 'composerName' in work:#print(work['ID'])\n",
    "            #print(work['composerName'])\n",
    "            list_of_composer2000.append(work['composerName'])\n",
    "            list_of_work2000.append(work['workTitle'])\n",
    "        \n",
    "info_2000 = pd.DataFrame(\n",
    "    {'composer': list_of_composer2000,\n",
    "     'work': list_of_work2000\n",
    "    })"
   ]
  },
  {
   "cell_type": "code",
   "execution_count": 94,
   "metadata": {},
   "outputs": [
    {
     "data": {
      "text/html": [
       "<div>\n",
       "<style>\n",
       "    .dataframe thead tr:only-child th {\n",
       "        text-align: right;\n",
       "    }\n",
       "\n",
       "    .dataframe thead th {\n",
       "        text-align: left;\n",
       "    }\n",
       "\n",
       "    .dataframe tbody tr th {\n",
       "        vertical-align: top;\n",
       "    }\n",
       "</style>\n",
       "<table border=\"1\" class=\"dataframe\">\n",
       "  <thead>\n",
       "    <tr style=\"text-align: right;\">\n",
       "      <th></th>\n",
       "      <th>composer</th>\n",
       "      <th>work</th>\n",
       "    </tr>\n",
       "  </thead>\n",
       "  <tbody>\n",
       "    <tr>\n",
       "      <th>10686</th>\n",
       "      <td>Feng,  Shuya</td>\n",
       "      <td>MEMORIES OF MARNYI STONE</td>\n",
       "    </tr>\n",
       "    <tr>\n",
       "      <th>10687</th>\n",
       "      <td>Dvorak,  Antonín</td>\n",
       "      <td>SYMPHONY NO. 9, E MINOR, OP.95 (FROM THE NEW W...</td>\n",
       "    </tr>\n",
       "    <tr>\n",
       "      <th>10688</th>\n",
       "      <td>Copland,  Aaron</td>\n",
       "      <td>QUIET CITY</td>\n",
       "    </tr>\n",
       "    <tr>\n",
       "      <th>10689</th>\n",
       "      <td>Marsalis,  Wynton</td>\n",
       "      <td>JUNGLE, THE (SYMPHONY NO. 4)</td>\n",
       "    </tr>\n",
       "    <tr>\n",
       "      <th>10690</th>\n",
       "      <td>Ellington,  Duke</td>\n",
       "      <td>C JAM BLUES</td>\n",
       "    </tr>\n",
       "  </tbody>\n",
       "</table>\n",
       "</div>"
      ],
      "text/plain": [
       "                composer                                               work\n",
       "10686       Feng,  Shuya                           MEMORIES OF MARNYI STONE\n",
       "10687   Dvorak,  Antonín  SYMPHONY NO. 9, E MINOR, OP.95 (FROM THE NEW W...\n",
       "10688    Copland,  Aaron                                         QUIET CITY\n",
       "10689  Marsalis,  Wynton                       JUNGLE, THE (SYMPHONY NO. 4)\n",
       "10690   Ellington,  Duke                                        C JAM BLUES"
      ]
     },
     "execution_count": 94,
     "metadata": {},
     "output_type": "execute_result"
    }
   ],
   "source": [
    "info_2000.tail()"
   ]
  },
  {
   "cell_type": "code",
   "execution_count": 453,
   "metadata": {},
   "outputs": [
    {
     "data": {
      "text/plain": [
       "Tchaikovsky,  Pyotr  Ilyich    508\n",
       "Beethoven,  Ludwig  van        463\n",
       "Mozart,  Wolfgang  Amadeus     402\n",
       "Name: composer, dtype: int64"
      ]
     },
     "execution_count": 453,
     "metadata": {},
     "output_type": "execute_result"
    }
   ],
   "source": [
    "info_2000['composer'].value_counts().head(3)"
   ]
  },
  {
   "cell_type": "code",
   "execution_count": 99,
   "metadata": {
    "collapsed": true
   },
   "outputs": [],
   "source": [
    "data1960 = json.loads(open(\"1960-61_TO_1980-81.json\").read())\n",
    "p1960 = data1960['programs']\n",
    "list_of_composer1960 = []\n",
    "list_of_work1960 = []\n",
    "for concert in p1960:\n",
    "    for work in concert['works']:\n",
    "        if work['ID'] != \"0*\" and 'composerName' in work:#print(work['ID'])\n",
    "            #print(work['composerName'])\n",
    "            list_of_composer1960.append(work['composerName'])\n",
    "            list_of_work1960.append(work['workTitle'])\n",
    "        \n",
    "info_1960 = pd.DataFrame(\n",
    "    {'composer': list_of_composer1960,\n",
    "     'work': list_of_work1960\n",
    "    })"
   ]
  },
  {
   "cell_type": "code",
   "execution_count": 100,
   "metadata": {},
   "outputs": [
    {
     "data": {
      "text/html": [
       "<div>\n",
       "<style>\n",
       "    .dataframe thead tr:only-child th {\n",
       "        text-align: right;\n",
       "    }\n",
       "\n",
       "    .dataframe thead th {\n",
       "        text-align: left;\n",
       "    }\n",
       "\n",
       "    .dataframe tbody tr th {\n",
       "        vertical-align: top;\n",
       "    }\n",
       "</style>\n",
       "<table border=\"1\" class=\"dataframe\">\n",
       "  <thead>\n",
       "    <tr style=\"text-align: right;\">\n",
       "      <th></th>\n",
       "      <th>composer</th>\n",
       "      <th>work</th>\n",
       "    </tr>\n",
       "  </thead>\n",
       "  <tbody>\n",
       "    <tr>\n",
       "      <th>9058</th>\n",
       "      <td>Dvorak,  Antonín</td>\n",
       "      <td>CARNIVAL OVERTURE, OP.92</td>\n",
       "    </tr>\n",
       "    <tr>\n",
       "      <th>9059</th>\n",
       "      <td>Stravinsky,  Igor</td>\n",
       "      <td>SYMPHONY IN THREE MOVEMENTS</td>\n",
       "    </tr>\n",
       "    <tr>\n",
       "      <th>9060</th>\n",
       "      <td>Brahms,  Johannes</td>\n",
       "      <td>SYMPHONY NO. 2 IN D MAJOR, OP. 73</td>\n",
       "    </tr>\n",
       "    <tr>\n",
       "      <th>9061</th>\n",
       "      <td>Verdi,  Giuseppe</td>\n",
       "      <td>FORZA DEL DESTINO, LA</td>\n",
       "    </tr>\n",
       "    <tr>\n",
       "      <th>9062</th>\n",
       "      <td>Rimsky-Korsakov,  Nikolai</td>\n",
       "      <td>CAPRICCIO ESPAGNOL, OP. 34</td>\n",
       "    </tr>\n",
       "  </tbody>\n",
       "</table>\n",
       "</div>"
      ],
      "text/plain": [
       "                       composer                               work\n",
       "9058           Dvorak,  Antonín           CARNIVAL OVERTURE, OP.92\n",
       "9059          Stravinsky,  Igor        SYMPHONY IN THREE MOVEMENTS\n",
       "9060          Brahms,  Johannes  SYMPHONY NO. 2 IN D MAJOR, OP. 73\n",
       "9061           Verdi,  Giuseppe              FORZA DEL DESTINO, LA\n",
       "9062  Rimsky-Korsakov,  Nikolai         CAPRICCIO ESPAGNOL, OP. 34"
      ]
     },
     "execution_count": 100,
     "metadata": {},
     "output_type": "execute_result"
    }
   ],
   "source": [
    "info_1960.tail()"
   ]
  },
  {
   "cell_type": "code",
   "execution_count": 495,
   "metadata": {},
   "outputs": [
    {
     "data": {
      "text/plain": [
       "Beethoven,  Ludwig  van        487\n",
       "Tchaikovsky,  Pyotr  Ilyich    421\n",
       "Mozart,  Wolfgang  Amadeus     389\n",
       "Name: composer, dtype: int64"
      ]
     },
     "execution_count": 495,
     "metadata": {},
     "output_type": "execute_result"
    }
   ],
   "source": [
    "info_1960['composer'].value_counts().head(3)"
   ]
  },
  {
   "cell_type": "code",
   "execution_count": 103,
   "metadata": {
    "collapsed": true
   },
   "outputs": [],
   "source": [
    "data1980 = json.loads(open(\"1980-81_TO_2000-01.json\").read())\n",
    "p1980 = data1980['programs']\n",
    "list_of_composer1980 = []\n",
    "list_of_work1980 = []\n",
    "for concert in p1980:\n",
    "    for work in concert['works']:\n",
    "        if work['ID'] != \"0*\" and 'composerName' in work:#print(work['ID'])\n",
    "            #print(work['composerName'])\n",
    "            list_of_composer1980.append(work['composerName'])\n",
    "            list_of_work1980.append(work['workTitle'])\n",
    "        \n",
    "info_1980 = pd.DataFrame(\n",
    "    {'composer': list_of_composer1980,\n",
    "     'work': list_of_work1980\n",
    "    })"
   ]
  },
  {
   "cell_type": "code",
   "execution_count": 104,
   "metadata": {},
   "outputs": [
    {
     "data": {
      "text/html": [
       "<div>\n",
       "<style>\n",
       "    .dataframe thead tr:only-child th {\n",
       "        text-align: right;\n",
       "    }\n",
       "\n",
       "    .dataframe thead th {\n",
       "        text-align: left;\n",
       "    }\n",
       "\n",
       "    .dataframe tbody tr th {\n",
       "        vertical-align: top;\n",
       "    }\n",
       "</style>\n",
       "<table border=\"1\" class=\"dataframe\">\n",
       "  <thead>\n",
       "    <tr style=\"text-align: right;\">\n",
       "      <th></th>\n",
       "      <th>composer</th>\n",
       "      <th>work</th>\n",
       "    </tr>\n",
       "  </thead>\n",
       "  <tbody>\n",
       "    <tr>\n",
       "      <th>8080</th>\n",
       "      <td>Shostakovich,  Dmitri</td>\n",
       "      <td>SYMPHONY NO.  5, D MINOR, OP. 47</td>\n",
       "    </tr>\n",
       "    <tr>\n",
       "      <th>8081</th>\n",
       "      <td>Bernstein,  Leonard</td>\n",
       "      <td>CANDIDE</td>\n",
       "    </tr>\n",
       "    <tr>\n",
       "      <th>8082</th>\n",
       "      <td>Gershwin,  George</td>\n",
       "      <td>AMERICAN IN PARIS, AN</td>\n",
       "    </tr>\n",
       "    <tr>\n",
       "      <th>8083</th>\n",
       "      <td>Arutunian,  Alexander</td>\n",
       "      <td>CONCERTO FOR TRUMPET AND ORCHESTRA</td>\n",
       "    </tr>\n",
       "    <tr>\n",
       "      <th>8084</th>\n",
       "      <td>Stravinsky,  Igor</td>\n",
       "      <td>FIREBIRD: SUITE (1945 VERSION)</td>\n",
       "    </tr>\n",
       "  </tbody>\n",
       "</table>\n",
       "</div>"
      ],
      "text/plain": [
       "                   composer                                work\n",
       "8080  Shostakovich,  Dmitri    SYMPHONY NO.  5, D MINOR, OP. 47\n",
       "8081    Bernstein,  Leonard                             CANDIDE\n",
       "8082      Gershwin,  George               AMERICAN IN PARIS, AN\n",
       "8083  Arutunian,  Alexander  CONCERTO FOR TRUMPET AND ORCHESTRA\n",
       "8084      Stravinsky,  Igor      FIREBIRD: SUITE (1945 VERSION)"
      ]
     },
     "execution_count": 104,
     "metadata": {},
     "output_type": "execute_result"
    }
   ],
   "source": [
    "info_1980.tail()"
   ]
  },
  {
   "cell_type": "code",
   "execution_count": 462,
   "metadata": {},
   "outputs": [
    {
     "data": {
      "text/plain": [
       "Mozart,  Wolfgang  Amadeus     0.059246\n",
       "Beethoven,  Ludwig  van        0.054051\n",
       "Tchaikovsky,  Pyotr  Ilyich    0.049351\n",
       "Name: composer, dtype: float64"
      ]
     },
     "execution_count": 462,
     "metadata": {},
     "output_type": "execute_result"
    }
   ],
   "source": [
    "info_1980['composer'].value_counts(normalize=True).head(3)"
   ]
  },
  {
   "cell_type": "code",
   "execution_count": 125,
   "metadata": {
    "collapsed": true
   },
   "outputs": [],
   "source": [
    "df_composers = pd.read_csv('composers.csv')"
   ]
  },
  {
   "cell_type": "code",
   "execution_count": 126,
   "metadata": {
    "collapsed": true
   },
   "outputs": [],
   "source": [
    "df_composers.set_index('year', inplace = True)"
   ]
  },
  {
   "cell_type": "code",
   "execution_count": 127,
   "metadata": {},
   "outputs": [
    {
     "data": {
      "text/html": [
       "<div>\n",
       "<style>\n",
       "    .dataframe thead tr:only-child th {\n",
       "        text-align: right;\n",
       "    }\n",
       "\n",
       "    .dataframe thead th {\n",
       "        text-align: left;\n",
       "    }\n",
       "\n",
       "    .dataframe tbody tr th {\n",
       "        vertical-align: top;\n",
       "    }\n",
       "</style>\n",
       "<table border=\"1\" class=\"dataframe\">\n",
       "  <thead>\n",
       "    <tr style=\"text-align: right;\">\n",
       "      <th></th>\n",
       "      <th>Wagner</th>\n",
       "      <th>Beethoven</th>\n",
       "      <th>Tchaikovsky</th>\n",
       "      <th>Mozart</th>\n",
       "    </tr>\n",
       "    <tr>\n",
       "      <th>year</th>\n",
       "      <th></th>\n",
       "      <th></th>\n",
       "      <th></th>\n",
       "      <th></th>\n",
       "    </tr>\n",
       "  </thead>\n",
       "  <tbody>\n",
       "    <tr>\n",
       "      <th>before 1900</th>\n",
       "      <td>0.099557</td>\n",
       "      <td>0.123423</td>\n",
       "      <td>0.023866</td>\n",
       "      <td>0.044664</td>\n",
       "    </tr>\n",
       "    <tr>\n",
       "      <th>1900</th>\n",
       "      <td>0.152199</td>\n",
       "      <td>0.068574</td>\n",
       "      <td>0.065713</td>\n",
       "      <td>0.018972</td>\n",
       "    </tr>\n",
       "    <tr>\n",
       "      <th>1920</th>\n",
       "      <td>0.129259</td>\n",
       "      <td>0.076277</td>\n",
       "      <td>0.061661</td>\n",
       "      <td>0.030967</td>\n",
       "    </tr>\n",
       "    <tr>\n",
       "      <th>1940</th>\n",
       "      <td>0.039649</td>\n",
       "      <td>0.061683</td>\n",
       "      <td>0.050959</td>\n",
       "      <td>0.035684</td>\n",
       "    </tr>\n",
       "    <tr>\n",
       "      <th>1960</th>\n",
       "      <td>0.023833</td>\n",
       "      <td>0.053735</td>\n",
       "      <td>0.046453</td>\n",
       "      <td>0.042922</td>\n",
       "    </tr>\n",
       "    <tr>\n",
       "      <th>1980</th>\n",
       "      <td>0.031664</td>\n",
       "      <td>0.054051</td>\n",
       "      <td>0.049351</td>\n",
       "      <td>0.059246</td>\n",
       "    </tr>\n",
       "    <tr>\n",
       "      <th>2000</th>\n",
       "      <td>0.012253</td>\n",
       "      <td>0.043307</td>\n",
       "      <td>0.047517</td>\n",
       "      <td>0.037602</td>\n",
       "    </tr>\n",
       "  </tbody>\n",
       "</table>\n",
       "</div>"
      ],
      "text/plain": [
       "               Wagner  Beethoven  Tchaikovsky    Mozart\n",
       "year                                                   \n",
       "before 1900  0.099557   0.123423     0.023866  0.044664\n",
       "1900         0.152199   0.068574     0.065713  0.018972\n",
       "1920         0.129259   0.076277     0.061661  0.030967\n",
       "1940         0.039649   0.061683     0.050959  0.035684\n",
       "1960         0.023833   0.053735     0.046453  0.042922\n",
       "1980         0.031664   0.054051     0.049351  0.059246\n",
       "2000         0.012253   0.043307     0.047517  0.037602"
      ]
     },
     "execution_count": 127,
     "metadata": {},
     "output_type": "execute_result"
    }
   ],
   "source": [
    "df_composers"
   ]
  },
  {
   "cell_type": "code",
   "execution_count": 1,
   "metadata": {},
   "outputs": [
    {
     "name": "stderr",
     "output_type": "stream",
     "text": [
      "/usr/local/lib/python3.6/site-packages/ggplot/utils.py:81: FutureWarning: pandas.tslib is deprecated and will be removed in a future version.\n",
      "You can access Timestamp as pandas.Timestamp\n",
      "  pd.tslib.Timestamp,\n",
      "/usr/local/lib/python3.6/site-packages/ggplot/stats/smoothers.py:4: FutureWarning: The pandas.lib module is deprecated and will be removed in a future version. These are private functions and can be accessed from pandas._libs.lib instead\n",
      "  from pandas.lib import Timestamp\n",
      "/usr/local/lib/python3.6/site-packages/statsmodels/compat/pandas.py:56: FutureWarning: The pandas.core.datetools module is deprecated and will be removed in a future version. Please use the pandas.tseries module instead.\n",
      "  from pandas.core import datetools\n"
     ]
    }
   ],
   "source": [
    "from ggplot import *"
   ]
  },
  {
   "cell_type": "code",
   "execution_count": 2,
   "metadata": {},
   "outputs": [
    {
     "data": {
      "image/png": "[encoded data removed]",
      "text/plain": [
       "<matplotlib.figure.Figure at 0x1095b67f0>"
      ]
     },
     "metadata": {},
     "output_type": "display_data"
    },
    {
     "data": {
      "text/plain": [
       "<ggplot: (-9223372036576528850)>"
      ]
     },
     "execution_count": 2,
     "metadata": {},
     "output_type": "execute_result"
    }
   ],
   "source": [
    "ggplot(diamonds, aes(x='price')) + \\\n",
    "    geom_histogram() + \\\n",
    "    facet_grid(\"cut\", \"clarity\")"
   ]
  },
  {
   "cell_type": "code",
   "execution_count": 4,
   "metadata": {},
   "outputs": [
    {
     "data": {
      "text/html": [
       "<div>\n",
       "<style>\n",
       "    .dataframe thead tr:only-child th {\n",
       "        text-align: right;\n",
       "    }\n",
       "\n",
       "    .dataframe thead th {\n",
       "        text-align: left;\n",
       "    }\n",
       "\n",
       "    .dataframe tbody tr th {\n",
       "        vertical-align: top;\n",
       "    }\n",
       "</style>\n",
       "<table border=\"1\" class=\"dataframe\">\n",
       "  <thead>\n",
       "    <tr style=\"text-align: right;\">\n",
       "      <th></th>\n",
       "      <th>carat</th>\n",
       "      <th>cut</th>\n",
       "      <th>color</th>\n",
       "      <th>clarity</th>\n",
       "      <th>depth</th>\n",
       "      <th>table</th>\n",
       "      <th>price</th>\n",
       "      <th>x</th>\n",
       "      <th>y</th>\n",
       "      <th>z</th>\n",
       "    </tr>\n",
       "  </thead>\n",
       "  <tbody>\n",
       "    <tr>\n",
       "      <th>0</th>\n",
       "      <td>0.23</td>\n",
       "      <td>Ideal</td>\n",
       "      <td>E</td>\n",
       "      <td>SI2</td>\n",
       "      <td>61.5</td>\n",
       "      <td>55.0</td>\n",
       "      <td>326</td>\n",
       "      <td>3.95</td>\n",
       "      <td>3.98</td>\n",
       "      <td>2.43</td>\n",
       "    </tr>\n",
       "    <tr>\n",
       "      <th>1</th>\n",
       "      <td>0.21</td>\n",
       "      <td>Premium</td>\n",
       "      <td>E</td>\n",
       "      <td>SI1</td>\n",
       "      <td>59.8</td>\n",
       "      <td>61.0</td>\n",
       "      <td>326</td>\n",
       "      <td>3.89</td>\n",
       "      <td>3.84</td>\n",
       "      <td>2.31</td>\n",
       "    </tr>\n",
       "    <tr>\n",
       "      <th>2</th>\n",
       "      <td>0.23</td>\n",
       "      <td>Good</td>\n",
       "      <td>E</td>\n",
       "      <td>VS1</td>\n",
       "      <td>56.9</td>\n",
       "      <td>65.0</td>\n",
       "      <td>327</td>\n",
       "      <td>4.05</td>\n",
       "      <td>4.07</td>\n",
       "      <td>2.31</td>\n",
       "    </tr>\n",
       "    <tr>\n",
       "      <th>3</th>\n",
       "      <td>0.29</td>\n",
       "      <td>Premium</td>\n",
       "      <td>I</td>\n",
       "      <td>VS2</td>\n",
       "      <td>62.4</td>\n",
       "      <td>58.0</td>\n",
       "      <td>334</td>\n",
       "      <td>4.20</td>\n",
       "      <td>4.23</td>\n",
       "      <td>2.63</td>\n",
       "    </tr>\n",
       "    <tr>\n",
       "      <th>4</th>\n",
       "      <td>0.31</td>\n",
       "      <td>Good</td>\n",
       "      <td>J</td>\n",
       "      <td>SI2</td>\n",
       "      <td>63.3</td>\n",
       "      <td>58.0</td>\n",
       "      <td>335</td>\n",
       "      <td>4.34</td>\n",
       "      <td>4.35</td>\n",
       "      <td>2.75</td>\n",
       "    </tr>\n",
       "  </tbody>\n",
       "</table>\n",
       "</div>"
      ],
      "text/plain": [
       "   carat      cut color clarity  depth  table  price     x     y     z\n",
       "0   0.23    Ideal     E     SI2   61.5   55.0    326  3.95  3.98  2.43\n",
       "1   0.21  Premium     E     SI1   59.8   61.0    326  3.89  3.84  2.31\n",
       "2   0.23     Good     E     VS1   56.9   65.0    327  4.05  4.07  2.31\n",
       "3   0.29  Premium     I     VS2   62.4   58.0    334  4.20  4.23  2.63\n",
       "4   0.31     Good     J     SI2   63.3   58.0    335  4.34  4.35  2.75"
      ]
     },
     "execution_count": 4,
     "metadata": {},
     "output_type": "execute_result"
    }
   ],
   "source": [
    "diamonds.head()"
   ]
  },
  {
   "cell_type": "code",
   "execution_count": null,
   "metadata": {
    "collapsed": true
   },
   "outputs": [],
   "source": [
    "ggplot(meat_lng, aes(x='number')) + \\\n",
    "    geom_histogram() + \\\n",
    "    facet_grid(\"variable\")"
   ]
  }
 ],
 "metadata": {
  "kernelspec": {
   "display_name": "Python 3",
   "language": "python",
   "name": "python3"
  },
  "language_info": {
   "codemirror_mode": {
    "name": "ipython",
    "version": 3
   },
   "file_extension": ".py",
   "mimetype": "text/x-python",
   "name": "python",
   "nbconvert_exporter": "python",
   "pygments_lexer": "ipython3",
   "version": "3.6.2"
  }
 },
 "nbformat": 4,
 "nbformat_minor": 2
}
